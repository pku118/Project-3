{
 "cells": [
  {
   "cell_type": "code",
   "execution_count": 54,
   "metadata": {},
   "outputs": [],
   "source": [
    "import pandas as pd\n",
    "import matplotlib.pyplot as plt\n",
    "from matplotlib.dates import MonthLocator, YearLocator, DateFormatter\n",
    "from matplotlib.ticker import MultipleLocator\n",
    "from matplotlib.animation import FuncAnimation\n",
    "import sqlite3\n",
    "from datetime import datetime\n",
    "import plotly.graph_objs as go\n",
    "import dash\n",
    "from dash import dcc, html\n",
    "from dash.dependencies import Input, Output\n",
    "from flask import Flask, g\n",
    "from dash import dcc, html, Input, Output, Dash\n",
    "from dash.exceptions import PreventUpdate\n"
   ]
  },
  {
   "cell_type": "code",
   "execution_count": 55,
   "metadata": {},
   "outputs": [],
   "source": [
    "# Connect to the SQLite database\n",
    "conn = sqlite3.connect('data/sp500_data.db')"
   ]
  },
  {
   "cell_type": "code",
   "execution_count": 56,
   "metadata": {},
   "outputs": [],
   "source": [
    "# Get all the symbols in the StockData table\n",
    "symbols_query = \"SELECT DISTINCT Symbol FROM stocks\"\n",
    "symbols = [row[0] for row in conn.execute(symbols_query)]"
   ]
  },
  {
   "cell_type": "code",
   "execution_count": 57,
   "metadata": {},
   "outputs": [],
   "source": [
    "# Initialize the Dash app\n",
    "app = dash.Dash(__name__)"
   ]
  },
  {
   "cell_type": "code",
   "execution_count": 58,
   "metadata": {},
   "outputs": [],
   "source": [
    "app.layout = html.Div([\n",
    "    dcc.Input(id='stock-symbol', value='Enter Stock Symbol', type='text', debounce=True),\n",
    "    dcc.Input(id='start-date', value='', placeholder='Enter Start Date (YYYY-MM-DD)', type='text', debounce=True),\n",
    "    dcc.Input(id='end-date', value='', placeholder='Enter End Date (YYYY-MM-DD)', type='text', debounce=True),  \n",
    "    dcc.Dropdown(\n",
    "        id='time-frame',\n",
    "        options=[\n",
    "            {'label': '1 Month', 'value': '1M'},\n",
    "            {'label': '6 Months', 'value': '6M'},\n",
    "            {'label': '1 Year', 'value': '1Y'},\n",
    "            {'label': '3 Years', 'value': '3Y'},\n",
    "            {'label': '5 Years', 'value': '5Y'},\n",
    "        ],\n",
    "        value='1M',\n",
    "    ),\n",
    "    dcc.Graph(id='plot'),\n",
    "])\n"
   ]
  },
  {
   "cell_type": "code",
   "execution_count": 59,
   "metadata": {},
   "outputs": [],
   "source": [
    "start_date = \"2017-01-01\"\n",
    "end_date = \"2023-01-01\"\n",
    "stock_symbol = \"MMM\""
   ]
  },
  {
   "cell_type": "code",
   "execution_count": 60,
   "metadata": {},
   "outputs": [],
   "source": [
    "@app.callback(\n",
    "    Output('plot', 'figure'),\n",
    "    [\n",
    "        Input('stock-symbol', 'value'),\n",
    "        Input('start-date', 'value'),\n",
    "        Input('end-date', 'value'),\n",
    "        Input('time-frame', 'value')\n",
    "    ]\n",
    ")\n",
    "def update_graph(stock_symbol, start_date_str, end_date_str, time_frame):\n",
    "    # Convert the input strings to datetime objects\n",
    "    start_date = pd.to_datetime(start_date_str)\n",
    "    end_date = pd.to_datetime(end_date_str)\n",
    "\n",
    "    # Construct the SQL query for the StockData table\n",
    "    sql_query_stocks = f\"SELECT * FROM stocks WHERE Symbol = ? AND Date >= ? AND Date <= ?\"\n",
    "\n",
    "    # Execute the query for the StockData table with user input\n",
    "    cursor_stocks = conn.cursor()\n",
    "    cursor_stocks.execute(sql_query_stocks, (stock_symbol, start_date_str, end_date_str))\n",
    "\n",
    "    # Fetch all the rows from the StockData table\n",
    "    rows_stocks = cursor_stocks.fetchall()\n",
    "\n",
    "    # Create a DataFrame from the query results of the StockData table\n",
    "    columns_stocks = [description[0] for description in cursor_stocks.description]\n",
    "    df_stockdata = pd.DataFrame(rows_stocks, columns=columns_stocks)\n",
    "\n",
    "    # Add a percent change column to the DataFrame for the StockData table\n",
    "    df_stockdata['Percent_Change'] = df_stockdata['Adj_Close'].pct_change() * 100\n",
    "\n",
    "    # Drop any NaN values in the Percent_Change column for the StockData table\n",
    "    df_stockdata.dropna(subset=['Percent_Change'], inplace=True)\n",
    "\n",
    "    # Calculate the cumulative percent change for the stock symbol\n",
    "    df_stockdata['Cumulative_Percent_Change'] = ((1 + df_stockdata['Adj Close'].pct_change().fillna(0)).cumprod() * 100)-100\n",
    "    # Construct the SQL query for the SP500 table\n",
    "    sql_query_sp500 = f\"SELECT * FROM sp500 WHERE Date >= ? AND Date <= ?\"\n",
    "\n",
    "    # Execute the query for the SP500 table with user input\n",
    "    cursor_sp500 = conn.cursor()\n",
    "    cursor_sp500.execute(sql_query_sp500, (start_date_str, end_date_str))\n",
    "\n",
    "    # Fetch all the rows from the SP500 table\n",
    "    rows_sp500 = cursor_sp500.fetchall()\n",
    "\n",
    "    # Create a DataFrame from the query results of the SP500 table\n",
    "    columns_sp500 = [description[0] for description in cursor_sp500.description]\n",
    "    df_sp500 = pd.DataFrame(rows_sp500, columns=columns_sp500)\n",
    "\n",
    "    # Add a percent change column to the DataFrame for the SP500 table\n",
    "    df_sp500['Percent_Change'] = df_sp500['SP500_Price'].pct_change() * 100\n",
    "\n",
    "    # Drop any NaN values in the Percent_Change column for the SP500 table\n",
    "    df_sp500.dropna(subset=['Percent_Change'], inplace=True)\n",
    "\n",
    "    # Calculate the cumulative percent change for the SP500\n",
    "    df_sp500['Cumulative_Percent_Change'] = ((1 + df_sp500['SP500_Price'].pct_change().fillna(0)).cumprod() * 100)-100\n",
    "    # Create a Plotly figure\n",
    "    fig = make_subplots(specs=[[{\"secondary_y\": True}]])\n",
    "\n",
    "    # Add traces for the stock and SP500\n",
    "    fig.add_trace(\n",
    "        go.Scatter(x=df_stockdata['Date'], y=df_stockdata['Cumulative_Percent_Change'], name=f\"{stock_symbol} Cumulative Percent Change\", mode='lines'),\n",
    "        secondary_y=False,\n",
    "    )\n",
    "\n",
    "    fig.add_trace(\n",
    "        go.Scatter(x=df_sp500['Date'], y=df_sp500['Cumulative_Percent_Change'], name=\"S&P 500 Cumulative Percent Change\", mode='lines'),\n",
    "        secondary_y=True,\n",
    "    )\n",
    "\n",
    "    # Add title and labels\n",
    "    fig.update_layout(\n",
    "        title=f'{stock_symbol} Cumulative Percent Change compared to S&P 500 from {start_date_str} to {end_date_str}',\n",
    "        xaxis_title='Date',\n",
    "        yaxis_title=f'{stock_symbol} Cumulative Percent Change',\n",
    "        yaxis2_title='S&P 500 Cumulative Percent Change',\n",
    "    )\n",
    "    conn.close()\n",
    "    return fig  \n"
   ]
  },
  {
   "cell_type": "code",
   "execution_count": 61,
   "metadata": {},
   "outputs": [
    {
     "data": {
      "text/html": [
       "\n",
       "        <iframe\n",
       "            width=\"100%\"\n",
       "            height=\"650\"\n",
       "            src=\"http://127.0.0.1:8050/\"\n",
       "            frameborder=\"0\"\n",
       "            allowfullscreen\n",
       "            \n",
       "        ></iframe>\n",
       "        "
      ],
      "text/plain": [
       "<IPython.lib.display.IFrame at 0x1a68ae5d4b0>"
      ]
     },
     "metadata": {},
     "output_type": "display_data"
    },
    {
     "name": "stdout",
     "output_type": "stream",
     "text": [
      "---------------------------------------------------------------------------\n",
      "ProgrammingError                          Traceback (most recent call last)\n",
      "Cell In[60], line 19, in update_graph(\n",
      "    stock_symbol='Enter Stock Symbol',\n",
      "    start_date_str='',\n",
      "    end_date_str='',\n",
      "    time_frame='1M'\n",
      ")\n",
      "     16 sql_query_stocks = f\"SELECT * FROM stocks WHERE Symbol = ? AND Date >= ? AND Date <= ?\"\n",
      "     18 # Execute the query for the StockData table with user input\n",
      "---> 19 cursor_stocks = conn.cursor()\n",
      "        conn = <sqlite3.Connection object at 0x000001A68ACB7140>\n",
      "     20 cursor_stocks.execute(sql_query_stocks, (stock_symbol, start_date_str, end_date_str))\n",
      "     22 # Fetch all the rows from the StockData table\n",
      "\n",
      "ProgrammingError: SQLite objects created in a thread can only be used in that same thread. The object was created in thread id 30500 and this is thread id 13640.\n",
      "\n",
      "---------------------------------------------------------------------------\n",
      "ProgrammingError                          Traceback (most recent call last)\n",
      "Cell In[60], line 19, in update_graph(\n",
      "    stock_symbol='Enter Stock Symbol',\n",
      "    start_date_str='',\n",
      "    end_date_str='',\n",
      "    time_frame='1Y'\n",
      ")\n",
      "     16 sql_query_stocks = f\"SELECT * FROM stocks WHERE Symbol = ? AND Date >= ? AND Date <= ?\"\n",
      "     18 # Execute the query for the StockData table with user input\n",
      "---> 19 cursor_stocks = conn.cursor()\n",
      "        conn = <sqlite3.Connection object at 0x000001A68ACB7140>\n",
      "     20 cursor_stocks.execute(sql_query_stocks, (stock_symbol, start_date_str, end_date_str))\n",
      "     22 # Fetch all the rows from the StockData table\n",
      "\n",
      "ProgrammingError: SQLite objects created in a thread can only be used in that same thread. The object was created in thread id 30500 and this is thread id 26412.\n",
      "\n"
     ]
    }
   ],
   "source": [
    "if __name__ == '__main__':\n",
    "    app.run_server(debug=True, threaded=False)"
   ]
  }
 ],
 "metadata": {
  "kernelspec": {
   "display_name": "dev",
   "language": "python",
   "name": "python3"
  },
  "language_info": {
   "codemirror_mode": {
    "name": "ipython",
    "version": 3
   },
   "file_extension": ".py",
   "mimetype": "text/x-python",
   "name": "python",
   "nbconvert_exporter": "python",
   "pygments_lexer": "ipython3",
   "version": "3.10.13"
  }
 },
 "nbformat": 4,
 "nbformat_minor": 2
}
