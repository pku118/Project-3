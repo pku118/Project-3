{
 "cells": [
  {
   "cell_type": "code",
   "execution_count": null,
   "metadata": {},
   "outputs": [],
   "source": [
    "import pandas as pd\n",
    "import matplotlib.pyplot as plt\n",
    "\n"
   ]
  },
  {
   "cell_type": "code",
   "execution_count": null,
   "metadata": {},
   "outputs": [],
   "source": [
    "# Load S&P 500 index data from CSV\n",
    "sp500_df = pd.read_csv('S&P500.csv', parse_dates=['Date'])\n",
    "sp500_df = sp500_df.set_index('Date')\n",
    "\n"
   ]
  },
  {
   "cell_type": "code",
   "execution_count": null,
   "metadata": {},
   "outputs": [],
   "source": [
    "# Load individual stock data from CSV\n",
    "# For example, let's say you want to compare Apple (AAPL) with S&P 500\n",
    "apple_df = pd.read_csv('AAPL.csv', parse_dates=['Date'])\n",
    "apple_df = apple_df.set_index('Date')\n",
    "\n"
   ]
  },
  {
   "cell_type": "code",
   "execution_count": null,
   "metadata": {},
   "outputs": [],
   "source": [
    "# Select the 'Close' price column for both dataframes\n",
    "sp500_close = sp500_df['Close']\n",
    "apple_close = apple_df['Close']"
   ]
  },
  {
   "cell_type": "code",
   "execution_count": null,
   "metadata": {},
   "outputs": [],
   "source": [
    "# Plot the S&P 500 and Apple stock prices\n",
    "plt.figure(figsize=(10, 5))\n",
    "plt.plot(sp500_close, label='S&P 500')\n",
    "plt.plot(apple_close, label='Apple (AAPL)')\n",
    "plt.legend()\n",
    "plt.title('S&P 500 vs. Apple Stock Prices')\n",
    "plt.xlabel('Date')\n",
    "plt.ylabel('Price')\n",
    "plt.show()"
   ]
  },
  {
   "cell_type": "code",
   "execution_count": null,
   "metadata": {},
   "outputs": [],
   "source": [
    "# Animate the plot\n",
    "ani = FuncAnimation(fig, update, frames=len(sp500_df), blit=True, repeat=False)\n",
    "\n",
    "plt.title('S&P 500 vs. Apple Stock Prices')\n",
    "plt.xlabel('Date')\n",
    "plt.ylabel('Price')\n",
    "plt.show()"
   ]
  },
  {
   "cell_type": "code",
   "execution_count": null,
   "metadata": {},
   "outputs": [],
   "source": [
    "# Importing module \n",
    "import mysql.connector\n",
    " \n",
    "# Creating connection object\n",
    "mydb = mysql.connector.connect(\n",
    "    host = \"localhost\",\n",
    "    user = \"yourusername\",\n",
    "    password = \"your_password\"\n",
    ")\n",
    " \n",
    "# Printing the connection object \n",
    "print(mydb)"
   ]
  },
  {
   "cell_type": "code",
   "execution_count": null,
   "metadata": {},
   "outputs": [],
   "source": []
  }
 ],
 "metadata": {
  "language_info": {
   "name": "python"
  }
 },
 "nbformat": 4,
 "nbformat_minor": 2
}
