{
 "cells": [
  {
   "cell_type": "code",
   "execution_count": 2,
   "metadata": {},
   "outputs": [],
   "source": [
    "import pandas as pd\n",
    "import matplotlib.pyplot as plt\n",
    "from matplotlib.animation import FuncAnimation\n",
    "#from matplotlib.widgets import Dropdown"
   ]
  },
  {
   "cell_type": "code",
   "execution_count": 10,
   "metadata": {},
   "outputs": [
    {
     "data": {
      "text/html": [
       "<div>\n",
       "<style scoped>\n",
       "    .dataframe tbody tr th:only-of-type {\n",
       "        vertical-align: middle;\n",
       "    }\n",
       "\n",
       "    .dataframe tbody tr th {\n",
       "        vertical-align: top;\n",
       "    }\n",
       "\n",
       "    .dataframe thead th {\n",
       "        text-align: right;\n",
       "    }\n",
       "</style>\n",
       "<table border=\"1\" class=\"dataframe\">\n",
       "  <thead>\n",
       "    <tr style=\"text-align: right;\">\n",
       "      <th></th>\n",
       "      <th>Symbol</th>\n",
       "      <th>Adj Close</th>\n",
       "      <th>Close</th>\n",
       "      <th>High</th>\n",
       "      <th>Low</th>\n",
       "      <th>Open</th>\n",
       "      <th>Volume</th>\n",
       "    </tr>\n",
       "    <tr>\n",
       "      <th>Date</th>\n",
       "      <th></th>\n",
       "      <th></th>\n",
       "      <th></th>\n",
       "      <th></th>\n",
       "      <th></th>\n",
       "      <th></th>\n",
       "      <th></th>\n",
       "    </tr>\n",
       "  </thead>\n",
       "  <tbody>\n",
       "    <tr>\n",
       "      <th>2017-01-03</th>\n",
       "      <td>MMM</td>\n",
       "      <td>151.730133</td>\n",
       "      <td>178.050003</td>\n",
       "      <td>180.000000</td>\n",
       "      <td>177.220001</td>\n",
       "      <td>178.830002</td>\n",
       "      <td>2509300.0</td>\n",
       "    </tr>\n",
       "    <tr>\n",
       "      <th>2017-01-04</th>\n",
       "      <td>MMM</td>\n",
       "      <td>151.960205</td>\n",
       "      <td>178.320007</td>\n",
       "      <td>178.899994</td>\n",
       "      <td>177.610001</td>\n",
       "      <td>178.029999</td>\n",
       "      <td>1542000.0</td>\n",
       "    </tr>\n",
       "    <tr>\n",
       "      <th>2017-01-05</th>\n",
       "      <td>MMM</td>\n",
       "      <td>151.440369</td>\n",
       "      <td>177.710007</td>\n",
       "      <td>179.139999</td>\n",
       "      <td>176.889999</td>\n",
       "      <td>178.259995</td>\n",
       "      <td>1447800.0</td>\n",
       "    </tr>\n",
       "    <tr>\n",
       "      <th>2017-01-06</th>\n",
       "      <td>MMM</td>\n",
       "      <td>151.883499</td>\n",
       "      <td>178.229996</td>\n",
       "      <td>178.600006</td>\n",
       "      <td>175.800003</td>\n",
       "      <td>177.289993</td>\n",
       "      <td>1625000.0</td>\n",
       "    </tr>\n",
       "    <tr>\n",
       "      <th>2017-01-09</th>\n",
       "      <td>MMM</td>\n",
       "      <td>151.065399</td>\n",
       "      <td>177.270004</td>\n",
       "      <td>178.380005</td>\n",
       "      <td>177.199997</td>\n",
       "      <td>178.369995</td>\n",
       "      <td>1622600.0</td>\n",
       "    </tr>\n",
       "  </tbody>\n",
       "</table>\n",
       "</div>"
      ],
      "text/plain": [
       "           Symbol   Adj Close       Close        High         Low        Open  \\\n",
       "Date                                                                            \n",
       "2017-01-03    MMM  151.730133  178.050003  180.000000  177.220001  178.830002   \n",
       "2017-01-04    MMM  151.960205  178.320007  178.899994  177.610001  178.029999   \n",
       "2017-01-05    MMM  151.440369  177.710007  179.139999  176.889999  178.259995   \n",
       "2017-01-06    MMM  151.883499  178.229996  178.600006  175.800003  177.289993   \n",
       "2017-01-09    MMM  151.065399  177.270004  178.380005  177.199997  178.369995   \n",
       "\n",
       "               Volume  \n",
       "Date                   \n",
       "2017-01-03  2509300.0  \n",
       "2017-01-04  1542000.0  \n",
       "2017-01-05  1447800.0  \n",
       "2017-01-06  1625000.0  \n",
       "2017-01-09  1622600.0  "
      ]
     },
     "execution_count": 10,
     "metadata": {},
     "output_type": "execute_result"
    }
   ],
   "source": [
    "# Load S&P 500 index data from CSV\n",
    "sp500_df = pd.read_csv(\"Resources/SP500_stocks.csv\", parse_dates=['Date'])\n",
    "sp500_df = sp500_df.set_index('Date')\n",
    "sp500_df.head()\n"
   ]
  },
  {
   "cell_type": "code",
   "execution_count": null,
   "metadata": {},
   "outputs": [],
   "source": [
    "# Load individual stock data from CSV\n",
    "# For example, let's say you want to compare Apple (AAPL) with S&P 500\n",
    "apple_df = pd.read_csv('AAPL.csv', parse_dates=['Date'])\n",
    "apple_df = apple_df.set_index('Date')\n",
    "\n"
   ]
  },
  {
   "cell_type": "code",
   "execution_count": null,
   "metadata": {},
   "outputs": [],
   "source": [
    "# Select the 'Close' price column for both dataframes\n",
    "sp500_close = sp500_df['Close']\n",
    "apple_close = apple_df['Close']"
   ]
  },
  {
   "cell_type": "code",
   "execution_count": null,
   "metadata": {},
   "outputs": [],
   "source": [
    "# Plot the S&P 500 and Apple stock prices\n",
    "plt.figure(figsize=(10, 5))\n",
    "plt.plot(sp500_close, label='S&P 500')\n",
    "plt.plot(apple_close, label='Apple (AAPL)')\n",
    "plt.legend()\n",
    "plt.title('S&P 500 vs. Apple Stock Prices')\n",
    "plt.xlabel('Date')\n",
    "plt.ylabel('Price')\n",
    "plt.show()"
   ]
  },
  {
   "cell_type": "code",
   "execution_count": null,
   "metadata": {},
   "outputs": [],
   "source": [
    "# Animate the plot\n",
    "ani = FuncAnimation(fig, update, frames=len(sp500_df), blit=True, repeat=False)\n",
    "\n",
    "plt.title('S&P 500 vs. Apple Stock Prices')\n",
    "plt.xlabel('Date')\n",
    "plt.ylabel('Price')\n",
    "plt.show()"
   ]
  },
  {
   "cell_type": "code",
   "execution_count": null,
   "metadata": {},
   "outputs": [],
   "source": [
    "# Importing module \n",
    "import mysql.connector\n",
    " \n",
    "# Creating connection object\n",
    "mydb = mysql.connector.connect(\n",
    "    host = \"localhost\",\n",
    "    user = \"yourusername\",\n",
    "    password = \"your_password\"\n",
    ")\n",
    " \n",
    "# Printing the connection object \n",
    "print(mydb)"
   ]
  },
  {
   "cell_type": "code",
   "execution_count": null,
   "metadata": {},
   "outputs": [],
   "source": []
  }
 ],
 "metadata": {
  "kernelspec": {
   "display_name": "dev",
   "language": "python",
   "name": "python3"
  },
  "language_info": {
   "codemirror_mode": {
    "name": "ipython",
    "version": 3
   },
   "file_extension": ".py",
   "mimetype": "text/x-python",
   "name": "python",
   "nbconvert_exporter": "python",
   "pygments_lexer": "ipython3",
   "version": "3.10.13"
  }
 },
 "nbformat": 4,
 "nbformat_minor": 2
}
