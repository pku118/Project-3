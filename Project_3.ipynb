{
 "cells": [
  {
   "cell_type": "code",
   "execution_count": 48,
   "metadata": {},
   "outputs": [],
   "source": [
    "import pandas as pd\n",
    "import matplotlib.pyplot as plt\n",
    "from matplotlib.dates import MonthLocator, YearLocator, DateFormatter\n",
    "from matplotlib.ticker import MultipleLocator\n",
    "from matplotlib.animation import FuncAnimation\n",
    "import sqlite3\n",
    "from datetime import datetime\n",
    "import plotly.graph_objs as go\n",
    "import dash\n",
    "from dash import dcc, html\n",
    "from dash.dependencies import Input, Output\n",
    "from plotly.subplots import make_subplots"
   ]
  },
  {
   "cell_type": "code",
   "execution_count": 2,
   "metadata": {},
   "outputs": [],
   "source": [
    "# Connect to the SQLite database\n",
    "conn = sqlite3.connect('data/sp500_data.db')"
   ]
  },
  {
   "cell_type": "code",
   "execution_count": 29,
   "metadata": {},
   "outputs": [],
   "source": [
    "# Initialize the Dash app\n",
    "app = dash.Dash(__name__)"
   ]
  },
  {
   "cell_type": "code",
   "execution_count": 53,
   "metadata": {},
   "outputs": [],
   "source": [
    "# Ask the user for input\n",
    "symbol = input(\"Enter the stock symbol: \")\n",
    "start_date_str = input(\"Enter the start date (YYYY-MM-DD): \")\n",
    "end_date_str = input(\"Enter the end date (YYYY-MM-DD): \")\n",
    "\n"
   ]
  },
  {
   "cell_type": "code",
   "execution_count": 4,
   "metadata": {},
   "outputs": [],
   "source": [
    "# Convert the input strings to datetime objects\n",
    "start_date = datetime.strptime(start_date_str, '%Y-%m-%d')\n",
    "end_date = datetime.strptime(end_date_str, '%Y-%m-%d')\n"
   ]
  },
  {
   "cell_type": "code",
   "execution_count": 5,
   "metadata": {},
   "outputs": [],
   "source": [
    "# Construct the SQL query\n",
    "sql_query = f\"SELECT * FROM stocks WHERE Symbol = ? AND Date >= ? AND Date <= ?\""
   ]
  },
  {
   "cell_type": "code",
   "execution_count": null,
   "metadata": {},
   "outputs": [],
   "source": [
    "# Execute the query with user input\n",
    "cursor = conn.cursor()\n",
    "cursor.execute(sql_query, (symbol, start_date_str, end_date_str))\n",
    "# Fetch all the rows\n",
    "rowstockdata = cursor.fetchall()\n"
   ]
  },
  {
   "cell_type": "code",
   "execution_count": 7,
   "metadata": {},
   "outputs": [
    {
     "data": {
      "text/html": [
       "<div>\n",
       "<style scoped>\n",
       "    .dataframe tbody tr th:only-of-type {\n",
       "        vertical-align: middle;\n",
       "    }\n",
       "\n",
       "    .dataframe tbody tr th {\n",
       "        vertical-align: top;\n",
       "    }\n",
       "\n",
       "    .dataframe thead th {\n",
       "        text-align: right;\n",
       "    }\n",
       "</style>\n",
       "<table border=\"1\" class=\"dataframe\">\n",
       "  <thead>\n",
       "    <tr style=\"text-align: right;\">\n",
       "      <th></th>\n",
       "      <th>Date</th>\n",
       "      <th>Symbol</th>\n",
       "      <th>Adj Close</th>\n",
       "      <th>Close</th>\n",
       "      <th>High</th>\n",
       "      <th>Low</th>\n",
       "      <th>Open</th>\n",
       "      <th>Volume</th>\n",
       "      <th>Shortname</th>\n",
       "    </tr>\n",
       "  </thead>\n",
       "  <tbody>\n",
       "    <tr>\n",
       "      <th>0</th>\n",
       "      <td>2022-01-03 00:00:00.000000</td>\n",
       "      <td>MMM</td>\n",
       "      <td>176.038330</td>\n",
       "      <td>177.740005</td>\n",
       "      <td>179.089996</td>\n",
       "      <td>175.839996</td>\n",
       "      <td>178.320007</td>\n",
       "      <td>1930700.0</td>\n",
       "      <td>3M Company</td>\n",
       "    </tr>\n",
       "    <tr>\n",
       "      <th>1</th>\n",
       "      <td>2022-01-04 00:00:00.000000</td>\n",
       "      <td>MMM</td>\n",
       "      <td>178.504471</td>\n",
       "      <td>180.229996</td>\n",
       "      <td>181.259995</td>\n",
       "      <td>178.029999</td>\n",
       "      <td>178.479996</td>\n",
       "      <td>2522200.0</td>\n",
       "      <td>3M Company</td>\n",
       "    </tr>\n",
       "    <tr>\n",
       "      <th>2</th>\n",
       "      <td>2022-01-05 00:00:00.000000</td>\n",
       "      <td>MMM</td>\n",
       "      <td>177.771576</td>\n",
       "      <td>179.490005</td>\n",
       "      <td>181.779999</td>\n",
       "      <td>177.000000</td>\n",
       "      <td>177.130005</td>\n",
       "      <td>2952400.0</td>\n",
       "      <td>3M Company</td>\n",
       "    </tr>\n",
       "    <tr>\n",
       "      <th>3</th>\n",
       "      <td>2022-01-06 00:00:00.000000</td>\n",
       "      <td>MMM</td>\n",
       "      <td>176.295822</td>\n",
       "      <td>178.000000</td>\n",
       "      <td>181.279999</td>\n",
       "      <td>177.539993</td>\n",
       "      <td>180.880005</td>\n",
       "      <td>2505400.0</td>\n",
       "      <td>3M Company</td>\n",
       "    </tr>\n",
       "    <tr>\n",
       "      <th>4</th>\n",
       "      <td>2022-01-07 00:00:00.000000</td>\n",
       "      <td>MMM</td>\n",
       "      <td>178.227158</td>\n",
       "      <td>179.949997</td>\n",
       "      <td>180.490005</td>\n",
       "      <td>177.220001</td>\n",
       "      <td>178.130005</td>\n",
       "      <td>2800200.0</td>\n",
       "      <td>3M Company</td>\n",
       "    </tr>\n",
       "    <tr>\n",
       "      <th>5</th>\n",
       "      <td>2022-01-10 00:00:00.000000</td>\n",
       "      <td>MMM</td>\n",
       "      <td>175.711487</td>\n",
       "      <td>177.410004</td>\n",
       "      <td>179.830002</td>\n",
       "      <td>176.779999</td>\n",
       "      <td>179.449997</td>\n",
       "      <td>2318000.0</td>\n",
       "      <td>3M Company</td>\n",
       "    </tr>\n",
       "    <tr>\n",
       "      <th>6</th>\n",
       "      <td>2022-01-11 00:00:00.000000</td>\n",
       "      <td>MMM</td>\n",
       "      <td>177.266449</td>\n",
       "      <td>178.979996</td>\n",
       "      <td>179.550003</td>\n",
       "      <td>176.419998</td>\n",
       "      <td>178.000000</td>\n",
       "      <td>2264200.0</td>\n",
       "      <td>3M Company</td>\n",
       "    </tr>\n",
       "    <tr>\n",
       "      <th>7</th>\n",
       "      <td>2022-01-12 00:00:00.000000</td>\n",
       "      <td>MMM</td>\n",
       "      <td>177.702225</td>\n",
       "      <td>179.419998</td>\n",
       "      <td>180.009995</td>\n",
       "      <td>178.589996</td>\n",
       "      <td>179.000000</td>\n",
       "      <td>1728500.0</td>\n",
       "      <td>3M Company</td>\n",
       "    </tr>\n",
       "    <tr>\n",
       "      <th>8</th>\n",
       "      <td>2022-01-13 00:00:00.000000</td>\n",
       "      <td>MMM</td>\n",
       "      <td>179.286926</td>\n",
       "      <td>181.020004</td>\n",
       "      <td>181.339996</td>\n",
       "      <td>179.029999</td>\n",
       "      <td>179.880005</td>\n",
       "      <td>2094700.0</td>\n",
       "      <td>3M Company</td>\n",
       "    </tr>\n",
       "    <tr>\n",
       "      <th>9</th>\n",
       "      <td>2022-01-14 00:00:00.000000</td>\n",
       "      <td>MMM</td>\n",
       "      <td>177.028748</td>\n",
       "      <td>178.740005</td>\n",
       "      <td>180.860001</td>\n",
       "      <td>177.669998</td>\n",
       "      <td>180.860001</td>\n",
       "      <td>2286100.0</td>\n",
       "      <td>3M Company</td>\n",
       "    </tr>\n",
       "    <tr>\n",
       "      <th>10</th>\n",
       "      <td>2022-01-18 00:00:00.000000</td>\n",
       "      <td>MMM</td>\n",
       "      <td>176.573151</td>\n",
       "      <td>178.279999</td>\n",
       "      <td>178.550003</td>\n",
       "      <td>176.169998</td>\n",
       "      <td>178.179993</td>\n",
       "      <td>2410600.0</td>\n",
       "      <td>3M Company</td>\n",
       "    </tr>\n",
       "    <tr>\n",
       "      <th>11</th>\n",
       "      <td>2022-01-19 00:00:00.000000</td>\n",
       "      <td>MMM</td>\n",
       "      <td>176.771225</td>\n",
       "      <td>178.479996</td>\n",
       "      <td>180.869995</td>\n",
       "      <td>177.630005</td>\n",
       "      <td>179.830002</td>\n",
       "      <td>1968600.0</td>\n",
       "      <td>3M Company</td>\n",
       "    </tr>\n",
       "    <tr>\n",
       "      <th>12</th>\n",
       "      <td>2022-01-20 00:00:00.000000</td>\n",
       "      <td>MMM</td>\n",
       "      <td>171.908249</td>\n",
       "      <td>173.570007</td>\n",
       "      <td>179.220001</td>\n",
       "      <td>173.309998</td>\n",
       "      <td>178.580002</td>\n",
       "      <td>2817300.0</td>\n",
       "      <td>3M Company</td>\n",
       "    </tr>\n",
       "    <tr>\n",
       "      <th>13</th>\n",
       "      <td>2022-01-21 00:00:00.000000</td>\n",
       "      <td>MMM</td>\n",
       "      <td>170.997040</td>\n",
       "      <td>172.649994</td>\n",
       "      <td>176.020004</td>\n",
       "      <td>172.559998</td>\n",
       "      <td>173.399994</td>\n",
       "      <td>3479100.0</td>\n",
       "      <td>3M Company</td>\n",
       "    </tr>\n",
       "    <tr>\n",
       "      <th>14</th>\n",
       "      <td>2022-01-24 00:00:00.000000</td>\n",
       "      <td>MMM</td>\n",
       "      <td>171.145615</td>\n",
       "      <td>172.800003</td>\n",
       "      <td>173.210007</td>\n",
       "      <td>168.830002</td>\n",
       "      <td>171.860001</td>\n",
       "      <td>4711700.0</td>\n",
       "      <td>3M Company</td>\n",
       "    </tr>\n",
       "    <tr>\n",
       "      <th>15</th>\n",
       "      <td>2022-01-25 00:00:00.000000</td>\n",
       "      <td>MMM</td>\n",
       "      <td>172.086517</td>\n",
       "      <td>173.750000</td>\n",
       "      <td>174.559998</td>\n",
       "      <td>168.009995</td>\n",
       "      <td>173.529999</td>\n",
       "      <td>5051100.0</td>\n",
       "      <td>3M Company</td>\n",
       "    </tr>\n",
       "    <tr>\n",
       "      <th>16</th>\n",
       "      <td>2022-01-26 00:00:00.000000</td>\n",
       "      <td>MMM</td>\n",
       "      <td>167.679123</td>\n",
       "      <td>169.300003</td>\n",
       "      <td>175.250000</td>\n",
       "      <td>168.199997</td>\n",
       "      <td>174.279999</td>\n",
       "      <td>4410000.0</td>\n",
       "      <td>3M Company</td>\n",
       "    </tr>\n",
       "    <tr>\n",
       "      <th>17</th>\n",
       "      <td>2022-01-27 00:00:00.000000</td>\n",
       "      <td>MMM</td>\n",
       "      <td>168.530899</td>\n",
       "      <td>170.160004</td>\n",
       "      <td>172.119995</td>\n",
       "      <td>168.440002</td>\n",
       "      <td>169.100006</td>\n",
       "      <td>2782800.0</td>\n",
       "      <td>3M Company</td>\n",
       "    </tr>\n",
       "    <tr>\n",
       "      <th>18</th>\n",
       "      <td>2022-01-28 00:00:00.000000</td>\n",
       "      <td>MMM</td>\n",
       "      <td>161.538483</td>\n",
       "      <td>163.100006</td>\n",
       "      <td>168.750000</td>\n",
       "      <td>160.539993</td>\n",
       "      <td>168.389999</td>\n",
       "      <td>6221600.0</td>\n",
       "      <td>3M Company</td>\n",
       "    </tr>\n",
       "    <tr>\n",
       "      <th>19</th>\n",
       "      <td>2022-01-31 00:00:00.000000</td>\n",
       "      <td>MMM</td>\n",
       "      <td>164.430527</td>\n",
       "      <td>166.020004</td>\n",
       "      <td>166.289993</td>\n",
       "      <td>161.589996</td>\n",
       "      <td>162.699997</td>\n",
       "      <td>5090400.0</td>\n",
       "      <td>3M Company</td>\n",
       "    </tr>\n",
       "  </tbody>\n",
       "</table>\n",
       "</div>"
      ],
      "text/plain": [
       "                          Date Symbol   Adj Close       Close        High  \\\n",
       "0   2022-01-03 00:00:00.000000    MMM  176.038330  177.740005  179.089996   \n",
       "1   2022-01-04 00:00:00.000000    MMM  178.504471  180.229996  181.259995   \n",
       "2   2022-01-05 00:00:00.000000    MMM  177.771576  179.490005  181.779999   \n",
       "3   2022-01-06 00:00:00.000000    MMM  176.295822  178.000000  181.279999   \n",
       "4   2022-01-07 00:00:00.000000    MMM  178.227158  179.949997  180.490005   \n",
       "5   2022-01-10 00:00:00.000000    MMM  175.711487  177.410004  179.830002   \n",
       "6   2022-01-11 00:00:00.000000    MMM  177.266449  178.979996  179.550003   \n",
       "7   2022-01-12 00:00:00.000000    MMM  177.702225  179.419998  180.009995   \n",
       "8   2022-01-13 00:00:00.000000    MMM  179.286926  181.020004  181.339996   \n",
       "9   2022-01-14 00:00:00.000000    MMM  177.028748  178.740005  180.860001   \n",
       "10  2022-01-18 00:00:00.000000    MMM  176.573151  178.279999  178.550003   \n",
       "11  2022-01-19 00:00:00.000000    MMM  176.771225  178.479996  180.869995   \n",
       "12  2022-01-20 00:00:00.000000    MMM  171.908249  173.570007  179.220001   \n",
       "13  2022-01-21 00:00:00.000000    MMM  170.997040  172.649994  176.020004   \n",
       "14  2022-01-24 00:00:00.000000    MMM  171.145615  172.800003  173.210007   \n",
       "15  2022-01-25 00:00:00.000000    MMM  172.086517  173.750000  174.559998   \n",
       "16  2022-01-26 00:00:00.000000    MMM  167.679123  169.300003  175.250000   \n",
       "17  2022-01-27 00:00:00.000000    MMM  168.530899  170.160004  172.119995   \n",
       "18  2022-01-28 00:00:00.000000    MMM  161.538483  163.100006  168.750000   \n",
       "19  2022-01-31 00:00:00.000000    MMM  164.430527  166.020004  166.289993   \n",
       "\n",
       "           Low        Open     Volume   Shortname  \n",
       "0   175.839996  178.320007  1930700.0  3M Company  \n",
       "1   178.029999  178.479996  2522200.0  3M Company  \n",
       "2   177.000000  177.130005  2952400.0  3M Company  \n",
       "3   177.539993  180.880005  2505400.0  3M Company  \n",
       "4   177.220001  178.130005  2800200.0  3M Company  \n",
       "5   176.779999  179.449997  2318000.0  3M Company  \n",
       "6   176.419998  178.000000  2264200.0  3M Company  \n",
       "7   178.589996  179.000000  1728500.0  3M Company  \n",
       "8   179.029999  179.880005  2094700.0  3M Company  \n",
       "9   177.669998  180.860001  2286100.0  3M Company  \n",
       "10  176.169998  178.179993  2410600.0  3M Company  \n",
       "11  177.630005  179.830002  1968600.0  3M Company  \n",
       "12  173.309998  178.580002  2817300.0  3M Company  \n",
       "13  172.559998  173.399994  3479100.0  3M Company  \n",
       "14  168.830002  171.860001  4711700.0  3M Company  \n",
       "15  168.009995  173.529999  5051100.0  3M Company  \n",
       "16  168.199997  174.279999  4410000.0  3M Company  \n",
       "17  168.440002  169.100006  2782800.0  3M Company  \n",
       "18  160.539993  168.389999  6221600.0  3M Company  \n",
       "19  161.589996  162.699997  5090400.0  3M Company  "
      ]
     },
     "execution_count": 7,
     "metadata": {},
     "output_type": "execute_result"
    }
   ],
   "source": [
    "# Create a DataFrame from the query results\n",
    "columns = [description[0] for description in cursor.description]\n",
    "df_stockdata = pd.DataFrame(rowstockdata, columns=columns)\n",
    "df_stockdata"
   ]
  },
  {
   "cell_type": "code",
   "execution_count": 9,
   "metadata": {},
   "outputs": [],
   "source": [
    "# Add a percent change column to the DataFrame\n",
    "df_stockdata['Percent_Change'] = df_stockdata['Adj Close'].pct_change() * 100\n",
    "# Replace all NaN values in the Percent_Change column with 0\n",
    "df_stockdata['Percent_Change'].fillna(0, inplace=True)"
   ]
  },
  {
   "cell_type": "code",
   "execution_count": 26,
   "metadata": {},
   "outputs": [
    {
     "data": {
      "text/html": [
       "<div>\n",
       "<style scoped>\n",
       "    .dataframe tbody tr th:only-of-type {\n",
       "        vertical-align: middle;\n",
       "    }\n",
       "\n",
       "    .dataframe tbody tr th {\n",
       "        vertical-align: top;\n",
       "    }\n",
       "\n",
       "    .dataframe thead th {\n",
       "        text-align: right;\n",
       "    }\n",
       "</style>\n",
       "<table border=\"1\" class=\"dataframe\">\n",
       "  <thead>\n",
       "    <tr style=\"text-align: right;\">\n",
       "      <th></th>\n",
       "      <th>Date</th>\n",
       "      <th>Symbol</th>\n",
       "      <th>Adj Close</th>\n",
       "      <th>Close</th>\n",
       "      <th>High</th>\n",
       "      <th>Low</th>\n",
       "      <th>Open</th>\n",
       "      <th>Volume</th>\n",
       "      <th>Shortname</th>\n",
       "      <th>Percent_Change</th>\n",
       "    </tr>\n",
       "  </thead>\n",
       "  <tbody>\n",
       "    <tr>\n",
       "      <th>0</th>\n",
       "      <td>2022-01-03 00:00:00.000000</td>\n",
       "      <td>MMM</td>\n",
       "      <td>176.038330</td>\n",
       "      <td>177.740005</td>\n",
       "      <td>179.089996</td>\n",
       "      <td>175.839996</td>\n",
       "      <td>178.320007</td>\n",
       "      <td>1930700.0</td>\n",
       "      <td>3M Company</td>\n",
       "      <td>0.000000</td>\n",
       "    </tr>\n",
       "    <tr>\n",
       "      <th>1</th>\n",
       "      <td>2022-01-04 00:00:00.000000</td>\n",
       "      <td>MMM</td>\n",
       "      <td>178.504471</td>\n",
       "      <td>180.229996</td>\n",
       "      <td>181.259995</td>\n",
       "      <td>178.029999</td>\n",
       "      <td>178.479996</td>\n",
       "      <td>2522200.0</td>\n",
       "      <td>3M Company</td>\n",
       "      <td>1.400911</td>\n",
       "    </tr>\n",
       "    <tr>\n",
       "      <th>2</th>\n",
       "      <td>2022-01-05 00:00:00.000000</td>\n",
       "      <td>MMM</td>\n",
       "      <td>177.771576</td>\n",
       "      <td>179.490005</td>\n",
       "      <td>181.779999</td>\n",
       "      <td>177.000000</td>\n",
       "      <td>177.130005</td>\n",
       "      <td>2952400.0</td>\n",
       "      <td>3M Company</td>\n",
       "      <td>-0.410575</td>\n",
       "    </tr>\n",
       "    <tr>\n",
       "      <th>3</th>\n",
       "      <td>2022-01-06 00:00:00.000000</td>\n",
       "      <td>MMM</td>\n",
       "      <td>176.295822</td>\n",
       "      <td>178.000000</td>\n",
       "      <td>181.279999</td>\n",
       "      <td>177.539993</td>\n",
       "      <td>180.880005</td>\n",
       "      <td>2505400.0</td>\n",
       "      <td>3M Company</td>\n",
       "      <td>-0.830140</td>\n",
       "    </tr>\n",
       "    <tr>\n",
       "      <th>4</th>\n",
       "      <td>2022-01-07 00:00:00.000000</td>\n",
       "      <td>MMM</td>\n",
       "      <td>178.227158</td>\n",
       "      <td>179.949997</td>\n",
       "      <td>180.490005</td>\n",
       "      <td>177.220001</td>\n",
       "      <td>178.130005</td>\n",
       "      <td>2800200.0</td>\n",
       "      <td>3M Company</td>\n",
       "      <td>1.095508</td>\n",
       "    </tr>\n",
       "    <tr>\n",
       "      <th>5</th>\n",
       "      <td>2022-01-10 00:00:00.000000</td>\n",
       "      <td>MMM</td>\n",
       "      <td>175.711487</td>\n",
       "      <td>177.410004</td>\n",
       "      <td>179.830002</td>\n",
       "      <td>176.779999</td>\n",
       "      <td>179.449997</td>\n",
       "      <td>2318000.0</td>\n",
       "      <td>3M Company</td>\n",
       "      <td>-1.411497</td>\n",
       "    </tr>\n",
       "    <tr>\n",
       "      <th>6</th>\n",
       "      <td>2022-01-11 00:00:00.000000</td>\n",
       "      <td>MMM</td>\n",
       "      <td>177.266449</td>\n",
       "      <td>178.979996</td>\n",
       "      <td>179.550003</td>\n",
       "      <td>176.419998</td>\n",
       "      <td>178.000000</td>\n",
       "      <td>2264200.0</td>\n",
       "      <td>3M Company</td>\n",
       "      <td>0.884952</td>\n",
       "    </tr>\n",
       "    <tr>\n",
       "      <th>7</th>\n",
       "      <td>2022-01-12 00:00:00.000000</td>\n",
       "      <td>MMM</td>\n",
       "      <td>177.702225</td>\n",
       "      <td>179.419998</td>\n",
       "      <td>180.009995</td>\n",
       "      <td>178.589996</td>\n",
       "      <td>179.000000</td>\n",
       "      <td>1728500.0</td>\n",
       "      <td>3M Company</td>\n",
       "      <td>0.245831</td>\n",
       "    </tr>\n",
       "    <tr>\n",
       "      <th>8</th>\n",
       "      <td>2022-01-13 00:00:00.000000</td>\n",
       "      <td>MMM</td>\n",
       "      <td>179.286926</td>\n",
       "      <td>181.020004</td>\n",
       "      <td>181.339996</td>\n",
       "      <td>179.029999</td>\n",
       "      <td>179.880005</td>\n",
       "      <td>2094700.0</td>\n",
       "      <td>3M Company</td>\n",
       "      <td>0.891774</td>\n",
       "    </tr>\n",
       "    <tr>\n",
       "      <th>9</th>\n",
       "      <td>2022-01-14 00:00:00.000000</td>\n",
       "      <td>MMM</td>\n",
       "      <td>177.028748</td>\n",
       "      <td>178.740005</td>\n",
       "      <td>180.860001</td>\n",
       "      <td>177.669998</td>\n",
       "      <td>180.860001</td>\n",
       "      <td>2286100.0</td>\n",
       "      <td>3M Company</td>\n",
       "      <td>-1.259533</td>\n",
       "    </tr>\n",
       "    <tr>\n",
       "      <th>10</th>\n",
       "      <td>2022-01-18 00:00:00.000000</td>\n",
       "      <td>MMM</td>\n",
       "      <td>176.573151</td>\n",
       "      <td>178.279999</td>\n",
       "      <td>178.550003</td>\n",
       "      <td>176.169998</td>\n",
       "      <td>178.179993</td>\n",
       "      <td>2410600.0</td>\n",
       "      <td>3M Company</td>\n",
       "      <td>-0.257358</td>\n",
       "    </tr>\n",
       "    <tr>\n",
       "      <th>11</th>\n",
       "      <td>2022-01-19 00:00:00.000000</td>\n",
       "      <td>MMM</td>\n",
       "      <td>176.771225</td>\n",
       "      <td>178.479996</td>\n",
       "      <td>180.869995</td>\n",
       "      <td>177.630005</td>\n",
       "      <td>179.830002</td>\n",
       "      <td>1968600.0</td>\n",
       "      <td>3M Company</td>\n",
       "      <td>0.112177</td>\n",
       "    </tr>\n",
       "    <tr>\n",
       "      <th>12</th>\n",
       "      <td>2022-01-20 00:00:00.000000</td>\n",
       "      <td>MMM</td>\n",
       "      <td>171.908249</td>\n",
       "      <td>173.570007</td>\n",
       "      <td>179.220001</td>\n",
       "      <td>173.309998</td>\n",
       "      <td>178.580002</td>\n",
       "      <td>2817300.0</td>\n",
       "      <td>3M Company</td>\n",
       "      <td>-2.751000</td>\n",
       "    </tr>\n",
       "    <tr>\n",
       "      <th>13</th>\n",
       "      <td>2022-01-21 00:00:00.000000</td>\n",
       "      <td>MMM</td>\n",
       "      <td>170.997040</td>\n",
       "      <td>172.649994</td>\n",
       "      <td>176.020004</td>\n",
       "      <td>172.559998</td>\n",
       "      <td>173.399994</td>\n",
       "      <td>3479100.0</td>\n",
       "      <td>3M Company</td>\n",
       "      <td>-0.530055</td>\n",
       "    </tr>\n",
       "    <tr>\n",
       "      <th>14</th>\n",
       "      <td>2022-01-24 00:00:00.000000</td>\n",
       "      <td>MMM</td>\n",
       "      <td>171.145615</td>\n",
       "      <td>172.800003</td>\n",
       "      <td>173.210007</td>\n",
       "      <td>168.830002</td>\n",
       "      <td>171.860001</td>\n",
       "      <td>4711700.0</td>\n",
       "      <td>3M Company</td>\n",
       "      <td>0.086887</td>\n",
       "    </tr>\n",
       "    <tr>\n",
       "      <th>15</th>\n",
       "      <td>2022-01-25 00:00:00.000000</td>\n",
       "      <td>MMM</td>\n",
       "      <td>172.086517</td>\n",
       "      <td>173.750000</td>\n",
       "      <td>174.559998</td>\n",
       "      <td>168.009995</td>\n",
       "      <td>173.529999</td>\n",
       "      <td>5051100.0</td>\n",
       "      <td>3M Company</td>\n",
       "      <td>0.549767</td>\n",
       "    </tr>\n",
       "    <tr>\n",
       "      <th>16</th>\n",
       "      <td>2022-01-26 00:00:00.000000</td>\n",
       "      <td>MMM</td>\n",
       "      <td>167.679123</td>\n",
       "      <td>169.300003</td>\n",
       "      <td>175.250000</td>\n",
       "      <td>168.199997</td>\n",
       "      <td>174.279999</td>\n",
       "      <td>4410000.0</td>\n",
       "      <td>3M Company</td>\n",
       "      <td>-2.561150</td>\n",
       "    </tr>\n",
       "    <tr>\n",
       "      <th>17</th>\n",
       "      <td>2022-01-27 00:00:00.000000</td>\n",
       "      <td>MMM</td>\n",
       "      <td>168.530899</td>\n",
       "      <td>170.160004</td>\n",
       "      <td>172.119995</td>\n",
       "      <td>168.440002</td>\n",
       "      <td>169.100006</td>\n",
       "      <td>2782800.0</td>\n",
       "      <td>3M Company</td>\n",
       "      <td>0.507980</td>\n",
       "    </tr>\n",
       "    <tr>\n",
       "      <th>18</th>\n",
       "      <td>2022-01-28 00:00:00.000000</td>\n",
       "      <td>MMM</td>\n",
       "      <td>161.538483</td>\n",
       "      <td>163.100006</td>\n",
       "      <td>168.750000</td>\n",
       "      <td>160.539993</td>\n",
       "      <td>168.389999</td>\n",
       "      <td>6221600.0</td>\n",
       "      <td>3M Company</td>\n",
       "      <td>-4.149041</td>\n",
       "    </tr>\n",
       "    <tr>\n",
       "      <th>19</th>\n",
       "      <td>2022-01-31 00:00:00.000000</td>\n",
       "      <td>MMM</td>\n",
       "      <td>164.430527</td>\n",
       "      <td>166.020004</td>\n",
       "      <td>166.289993</td>\n",
       "      <td>161.589996</td>\n",
       "      <td>162.699997</td>\n",
       "      <td>5090400.0</td>\n",
       "      <td>3M Company</td>\n",
       "      <td>1.790313</td>\n",
       "    </tr>\n",
       "  </tbody>\n",
       "</table>\n",
       "</div>"
      ],
      "text/plain": [
       "                          Date Symbol   Adj Close       Close        High  \\\n",
       "0   2022-01-03 00:00:00.000000    MMM  176.038330  177.740005  179.089996   \n",
       "1   2022-01-04 00:00:00.000000    MMM  178.504471  180.229996  181.259995   \n",
       "2   2022-01-05 00:00:00.000000    MMM  177.771576  179.490005  181.779999   \n",
       "3   2022-01-06 00:00:00.000000    MMM  176.295822  178.000000  181.279999   \n",
       "4   2022-01-07 00:00:00.000000    MMM  178.227158  179.949997  180.490005   \n",
       "5   2022-01-10 00:00:00.000000    MMM  175.711487  177.410004  179.830002   \n",
       "6   2022-01-11 00:00:00.000000    MMM  177.266449  178.979996  179.550003   \n",
       "7   2022-01-12 00:00:00.000000    MMM  177.702225  179.419998  180.009995   \n",
       "8   2022-01-13 00:00:00.000000    MMM  179.286926  181.020004  181.339996   \n",
       "9   2022-01-14 00:00:00.000000    MMM  177.028748  178.740005  180.860001   \n",
       "10  2022-01-18 00:00:00.000000    MMM  176.573151  178.279999  178.550003   \n",
       "11  2022-01-19 00:00:00.000000    MMM  176.771225  178.479996  180.869995   \n",
       "12  2022-01-20 00:00:00.000000    MMM  171.908249  173.570007  179.220001   \n",
       "13  2022-01-21 00:00:00.000000    MMM  170.997040  172.649994  176.020004   \n",
       "14  2022-01-24 00:00:00.000000    MMM  171.145615  172.800003  173.210007   \n",
       "15  2022-01-25 00:00:00.000000    MMM  172.086517  173.750000  174.559998   \n",
       "16  2022-01-26 00:00:00.000000    MMM  167.679123  169.300003  175.250000   \n",
       "17  2022-01-27 00:00:00.000000    MMM  168.530899  170.160004  172.119995   \n",
       "18  2022-01-28 00:00:00.000000    MMM  161.538483  163.100006  168.750000   \n",
       "19  2022-01-31 00:00:00.000000    MMM  164.430527  166.020004  166.289993   \n",
       "\n",
       "           Low        Open     Volume   Shortname  Percent_Change  \n",
       "0   175.839996  178.320007  1930700.0  3M Company        0.000000  \n",
       "1   178.029999  178.479996  2522200.0  3M Company        1.400911  \n",
       "2   177.000000  177.130005  2952400.0  3M Company       -0.410575  \n",
       "3   177.539993  180.880005  2505400.0  3M Company       -0.830140  \n",
       "4   177.220001  178.130005  2800200.0  3M Company        1.095508  \n",
       "5   176.779999  179.449997  2318000.0  3M Company       -1.411497  \n",
       "6   176.419998  178.000000  2264200.0  3M Company        0.884952  \n",
       "7   178.589996  179.000000  1728500.0  3M Company        0.245831  \n",
       "8   179.029999  179.880005  2094700.0  3M Company        0.891774  \n",
       "9   177.669998  180.860001  2286100.0  3M Company       -1.259533  \n",
       "10  176.169998  178.179993  2410600.0  3M Company       -0.257358  \n",
       "11  177.630005  179.830002  1968600.0  3M Company        0.112177  \n",
       "12  173.309998  178.580002  2817300.0  3M Company       -2.751000  \n",
       "13  172.559998  173.399994  3479100.0  3M Company       -0.530055  \n",
       "14  168.830002  171.860001  4711700.0  3M Company        0.086887  \n",
       "15  168.009995  173.529999  5051100.0  3M Company        0.549767  \n",
       "16  168.199997  174.279999  4410000.0  3M Company       -2.561150  \n",
       "17  168.440002  169.100006  2782800.0  3M Company        0.507980  \n",
       "18  160.539993  168.389999  6221600.0  3M Company       -4.149041  \n",
       "19  161.589996  162.699997  5090400.0  3M Company        1.790313  "
      ]
     },
     "execution_count": 26,
     "metadata": {},
     "output_type": "execute_result"
    }
   ],
   "source": [
    "# Print the DataFrame\n",
    "df_stockdata"
   ]
  },
  {
   "cell_type": "code",
   "execution_count": 10,
   "metadata": {},
   "outputs": [
    {
     "data": {
      "text/html": [
       "<div>\n",
       "<style scoped>\n",
       "    .dataframe tbody tr th:only-of-type {\n",
       "        vertical-align: middle;\n",
       "    }\n",
       "\n",
       "    .dataframe tbody tr th {\n",
       "        vertical-align: top;\n",
       "    }\n",
       "\n",
       "    .dataframe thead th {\n",
       "        text-align: right;\n",
       "    }\n",
       "</style>\n",
       "<table border=\"1\" class=\"dataframe\">\n",
       "  <thead>\n",
       "    <tr style=\"text-align: right;\">\n",
       "      <th></th>\n",
       "      <th>Date</th>\n",
       "      <th>Symbol</th>\n",
       "      <th>Adj Close</th>\n",
       "      <th>Close</th>\n",
       "      <th>High</th>\n",
       "      <th>Low</th>\n",
       "      <th>Open</th>\n",
       "      <th>Volume</th>\n",
       "      <th>Shortname</th>\n",
       "      <th>Percent_Change</th>\n",
       "      <th>Cumulative_Percent_Change</th>\n",
       "    </tr>\n",
       "  </thead>\n",
       "  <tbody>\n",
       "    <tr>\n",
       "      <th>0</th>\n",
       "      <td>2022-01-03 00:00:00.000000</td>\n",
       "      <td>MMM</td>\n",
       "      <td>176.038330</td>\n",
       "      <td>177.740005</td>\n",
       "      <td>179.089996</td>\n",
       "      <td>175.839996</td>\n",
       "      <td>178.320007</td>\n",
       "      <td>1930700.0</td>\n",
       "      <td>3M Company</td>\n",
       "      <td>0.000000</td>\n",
       "      <td>0.000000</td>\n",
       "    </tr>\n",
       "    <tr>\n",
       "      <th>1</th>\n",
       "      <td>2022-01-04 00:00:00.000000</td>\n",
       "      <td>MMM</td>\n",
       "      <td>178.504471</td>\n",
       "      <td>180.229996</td>\n",
       "      <td>181.259995</td>\n",
       "      <td>178.029999</td>\n",
       "      <td>178.479996</td>\n",
       "      <td>2522200.0</td>\n",
       "      <td>3M Company</td>\n",
       "      <td>1.400911</td>\n",
       "      <td>1.400911</td>\n",
       "    </tr>\n",
       "    <tr>\n",
       "      <th>2</th>\n",
       "      <td>2022-01-05 00:00:00.000000</td>\n",
       "      <td>MMM</td>\n",
       "      <td>177.771576</td>\n",
       "      <td>179.490005</td>\n",
       "      <td>181.779999</td>\n",
       "      <td>177.000000</td>\n",
       "      <td>177.130005</td>\n",
       "      <td>2952400.0</td>\n",
       "      <td>3M Company</td>\n",
       "      <td>-0.410575</td>\n",
       "      <td>0.984584</td>\n",
       "    </tr>\n",
       "    <tr>\n",
       "      <th>3</th>\n",
       "      <td>2022-01-06 00:00:00.000000</td>\n",
       "      <td>MMM</td>\n",
       "      <td>176.295822</td>\n",
       "      <td>178.000000</td>\n",
       "      <td>181.279999</td>\n",
       "      <td>177.539993</td>\n",
       "      <td>180.880005</td>\n",
       "      <td>2505400.0</td>\n",
       "      <td>3M Company</td>\n",
       "      <td>-0.830140</td>\n",
       "      <td>0.146270</td>\n",
       "    </tr>\n",
       "    <tr>\n",
       "      <th>4</th>\n",
       "      <td>2022-01-07 00:00:00.000000</td>\n",
       "      <td>MMM</td>\n",
       "      <td>178.227158</td>\n",
       "      <td>179.949997</td>\n",
       "      <td>180.490005</td>\n",
       "      <td>177.220001</td>\n",
       "      <td>178.130005</td>\n",
       "      <td>2800200.0</td>\n",
       "      <td>3M Company</td>\n",
       "      <td>1.095508</td>\n",
       "      <td>1.243381</td>\n",
       "    </tr>\n",
       "    <tr>\n",
       "      <th>5</th>\n",
       "      <td>2022-01-10 00:00:00.000000</td>\n",
       "      <td>MMM</td>\n",
       "      <td>175.711487</td>\n",
       "      <td>177.410004</td>\n",
       "      <td>179.830002</td>\n",
       "      <td>176.779999</td>\n",
       "      <td>179.449997</td>\n",
       "      <td>2318000.0</td>\n",
       "      <td>3M Company</td>\n",
       "      <td>-1.411497</td>\n",
       "      <td>-0.185666</td>\n",
       "    </tr>\n",
       "    <tr>\n",
       "      <th>6</th>\n",
       "      <td>2022-01-11 00:00:00.000000</td>\n",
       "      <td>MMM</td>\n",
       "      <td>177.266449</td>\n",
       "      <td>178.979996</td>\n",
       "      <td>179.550003</td>\n",
       "      <td>176.419998</td>\n",
       "      <td>178.000000</td>\n",
       "      <td>2264200.0</td>\n",
       "      <td>3M Company</td>\n",
       "      <td>0.884952</td>\n",
       "      <td>0.697643</td>\n",
       "    </tr>\n",
       "    <tr>\n",
       "      <th>7</th>\n",
       "      <td>2022-01-12 00:00:00.000000</td>\n",
       "      <td>MMM</td>\n",
       "      <td>177.702225</td>\n",
       "      <td>179.419998</td>\n",
       "      <td>180.009995</td>\n",
       "      <td>178.589996</td>\n",
       "      <td>179.000000</td>\n",
       "      <td>1728500.0</td>\n",
       "      <td>3M Company</td>\n",
       "      <td>0.245831</td>\n",
       "      <td>0.945189</td>\n",
       "    </tr>\n",
       "    <tr>\n",
       "      <th>8</th>\n",
       "      <td>2022-01-13 00:00:00.000000</td>\n",
       "      <td>MMM</td>\n",
       "      <td>179.286926</td>\n",
       "      <td>181.020004</td>\n",
       "      <td>181.339996</td>\n",
       "      <td>179.029999</td>\n",
       "      <td>179.880005</td>\n",
       "      <td>2094700.0</td>\n",
       "      <td>3M Company</td>\n",
       "      <td>0.891774</td>\n",
       "      <td>1.845391</td>\n",
       "    </tr>\n",
       "    <tr>\n",
       "      <th>9</th>\n",
       "      <td>2022-01-14 00:00:00.000000</td>\n",
       "      <td>MMM</td>\n",
       "      <td>177.028748</td>\n",
       "      <td>178.740005</td>\n",
       "      <td>180.860001</td>\n",
       "      <td>177.669998</td>\n",
       "      <td>180.860001</td>\n",
       "      <td>2286100.0</td>\n",
       "      <td>3M Company</td>\n",
       "      <td>-1.259533</td>\n",
       "      <td>0.562615</td>\n",
       "    </tr>\n",
       "    <tr>\n",
       "      <th>10</th>\n",
       "      <td>2022-01-18 00:00:00.000000</td>\n",
       "      <td>MMM</td>\n",
       "      <td>176.573151</td>\n",
       "      <td>178.279999</td>\n",
       "      <td>178.550003</td>\n",
       "      <td>176.169998</td>\n",
       "      <td>178.179993</td>\n",
       "      <td>2410600.0</td>\n",
       "      <td>3M Company</td>\n",
       "      <td>-0.257358</td>\n",
       "      <td>0.303809</td>\n",
       "    </tr>\n",
       "    <tr>\n",
       "      <th>11</th>\n",
       "      <td>2022-01-19 00:00:00.000000</td>\n",
       "      <td>MMM</td>\n",
       "      <td>176.771225</td>\n",
       "      <td>178.479996</td>\n",
       "      <td>180.869995</td>\n",
       "      <td>177.630005</td>\n",
       "      <td>179.830002</td>\n",
       "      <td>1968600.0</td>\n",
       "      <td>3M Company</td>\n",
       "      <td>0.112177</td>\n",
       "      <td>0.416327</td>\n",
       "    </tr>\n",
       "    <tr>\n",
       "      <th>12</th>\n",
       "      <td>2022-01-20 00:00:00.000000</td>\n",
       "      <td>MMM</td>\n",
       "      <td>171.908249</td>\n",
       "      <td>173.570007</td>\n",
       "      <td>179.220001</td>\n",
       "      <td>173.309998</td>\n",
       "      <td>178.580002</td>\n",
       "      <td>2817300.0</td>\n",
       "      <td>3M Company</td>\n",
       "      <td>-2.751000</td>\n",
       "      <td>-2.346126</td>\n",
       "    </tr>\n",
       "    <tr>\n",
       "      <th>13</th>\n",
       "      <td>2022-01-21 00:00:00.000000</td>\n",
       "      <td>MMM</td>\n",
       "      <td>170.997040</td>\n",
       "      <td>172.649994</td>\n",
       "      <td>176.020004</td>\n",
       "      <td>172.559998</td>\n",
       "      <td>173.399994</td>\n",
       "      <td>3479100.0</td>\n",
       "      <td>3M Company</td>\n",
       "      <td>-0.530055</td>\n",
       "      <td>-2.863746</td>\n",
       "    </tr>\n",
       "    <tr>\n",
       "      <th>14</th>\n",
       "      <td>2022-01-24 00:00:00.000000</td>\n",
       "      <td>MMM</td>\n",
       "      <td>171.145615</td>\n",
       "      <td>172.800003</td>\n",
       "      <td>173.210007</td>\n",
       "      <td>168.830002</td>\n",
       "      <td>171.860001</td>\n",
       "      <td>4711700.0</td>\n",
       "      <td>3M Company</td>\n",
       "      <td>0.086887</td>\n",
       "      <td>-2.779347</td>\n",
       "    </tr>\n",
       "    <tr>\n",
       "      <th>15</th>\n",
       "      <td>2022-01-25 00:00:00.000000</td>\n",
       "      <td>MMM</td>\n",
       "      <td>172.086517</td>\n",
       "      <td>173.750000</td>\n",
       "      <td>174.559998</td>\n",
       "      <td>168.009995</td>\n",
       "      <td>173.529999</td>\n",
       "      <td>5051100.0</td>\n",
       "      <td>3M Company</td>\n",
       "      <td>0.549767</td>\n",
       "      <td>-2.244859</td>\n",
       "    </tr>\n",
       "    <tr>\n",
       "      <th>16</th>\n",
       "      <td>2022-01-26 00:00:00.000000</td>\n",
       "      <td>MMM</td>\n",
       "      <td>167.679123</td>\n",
       "      <td>169.300003</td>\n",
       "      <td>175.250000</td>\n",
       "      <td>168.199997</td>\n",
       "      <td>174.279999</td>\n",
       "      <td>4410000.0</td>\n",
       "      <td>3M Company</td>\n",
       "      <td>-2.561150</td>\n",
       "      <td>-4.748515</td>\n",
       "    </tr>\n",
       "    <tr>\n",
       "      <th>17</th>\n",
       "      <td>2022-01-27 00:00:00.000000</td>\n",
       "      <td>MMM</td>\n",
       "      <td>168.530899</td>\n",
       "      <td>170.160004</td>\n",
       "      <td>172.119995</td>\n",
       "      <td>168.440002</td>\n",
       "      <td>169.100006</td>\n",
       "      <td>2782800.0</td>\n",
       "      <td>3M Company</td>\n",
       "      <td>0.507980</td>\n",
       "      <td>-4.264657</td>\n",
       "    </tr>\n",
       "    <tr>\n",
       "      <th>18</th>\n",
       "      <td>2022-01-28 00:00:00.000000</td>\n",
       "      <td>MMM</td>\n",
       "      <td>161.538483</td>\n",
       "      <td>163.100006</td>\n",
       "      <td>168.750000</td>\n",
       "      <td>160.539993</td>\n",
       "      <td>168.389999</td>\n",
       "      <td>6221600.0</td>\n",
       "      <td>3M Company</td>\n",
       "      <td>-4.149041</td>\n",
       "      <td>-8.236756</td>\n",
       "    </tr>\n",
       "    <tr>\n",
       "      <th>19</th>\n",
       "      <td>2022-01-31 00:00:00.000000</td>\n",
       "      <td>MMM</td>\n",
       "      <td>164.430527</td>\n",
       "      <td>166.020004</td>\n",
       "      <td>166.289993</td>\n",
       "      <td>161.589996</td>\n",
       "      <td>162.699997</td>\n",
       "      <td>5090400.0</td>\n",
       "      <td>3M Company</td>\n",
       "      <td>1.790313</td>\n",
       "      <td>-6.593907</td>\n",
       "    </tr>\n",
       "  </tbody>\n",
       "</table>\n",
       "</div>"
      ],
      "text/plain": [
       "                          Date Symbol   Adj Close       Close        High  \\\n",
       "0   2022-01-03 00:00:00.000000    MMM  176.038330  177.740005  179.089996   \n",
       "1   2022-01-04 00:00:00.000000    MMM  178.504471  180.229996  181.259995   \n",
       "2   2022-01-05 00:00:00.000000    MMM  177.771576  179.490005  181.779999   \n",
       "3   2022-01-06 00:00:00.000000    MMM  176.295822  178.000000  181.279999   \n",
       "4   2022-01-07 00:00:00.000000    MMM  178.227158  179.949997  180.490005   \n",
       "5   2022-01-10 00:00:00.000000    MMM  175.711487  177.410004  179.830002   \n",
       "6   2022-01-11 00:00:00.000000    MMM  177.266449  178.979996  179.550003   \n",
       "7   2022-01-12 00:00:00.000000    MMM  177.702225  179.419998  180.009995   \n",
       "8   2022-01-13 00:00:00.000000    MMM  179.286926  181.020004  181.339996   \n",
       "9   2022-01-14 00:00:00.000000    MMM  177.028748  178.740005  180.860001   \n",
       "10  2022-01-18 00:00:00.000000    MMM  176.573151  178.279999  178.550003   \n",
       "11  2022-01-19 00:00:00.000000    MMM  176.771225  178.479996  180.869995   \n",
       "12  2022-01-20 00:00:00.000000    MMM  171.908249  173.570007  179.220001   \n",
       "13  2022-01-21 00:00:00.000000    MMM  170.997040  172.649994  176.020004   \n",
       "14  2022-01-24 00:00:00.000000    MMM  171.145615  172.800003  173.210007   \n",
       "15  2022-01-25 00:00:00.000000    MMM  172.086517  173.750000  174.559998   \n",
       "16  2022-01-26 00:00:00.000000    MMM  167.679123  169.300003  175.250000   \n",
       "17  2022-01-27 00:00:00.000000    MMM  168.530899  170.160004  172.119995   \n",
       "18  2022-01-28 00:00:00.000000    MMM  161.538483  163.100006  168.750000   \n",
       "19  2022-01-31 00:00:00.000000    MMM  164.430527  166.020004  166.289993   \n",
       "\n",
       "           Low        Open     Volume   Shortname  Percent_Change  \\\n",
       "0   175.839996  178.320007  1930700.0  3M Company        0.000000   \n",
       "1   178.029999  178.479996  2522200.0  3M Company        1.400911   \n",
       "2   177.000000  177.130005  2952400.0  3M Company       -0.410575   \n",
       "3   177.539993  180.880005  2505400.0  3M Company       -0.830140   \n",
       "4   177.220001  178.130005  2800200.0  3M Company        1.095508   \n",
       "5   176.779999  179.449997  2318000.0  3M Company       -1.411497   \n",
       "6   176.419998  178.000000  2264200.0  3M Company        0.884952   \n",
       "7   178.589996  179.000000  1728500.0  3M Company        0.245831   \n",
       "8   179.029999  179.880005  2094700.0  3M Company        0.891774   \n",
       "9   177.669998  180.860001  2286100.0  3M Company       -1.259533   \n",
       "10  176.169998  178.179993  2410600.0  3M Company       -0.257358   \n",
       "11  177.630005  179.830002  1968600.0  3M Company        0.112177   \n",
       "12  173.309998  178.580002  2817300.0  3M Company       -2.751000   \n",
       "13  172.559998  173.399994  3479100.0  3M Company       -0.530055   \n",
       "14  168.830002  171.860001  4711700.0  3M Company        0.086887   \n",
       "15  168.009995  173.529999  5051100.0  3M Company        0.549767   \n",
       "16  168.199997  174.279999  4410000.0  3M Company       -2.561150   \n",
       "17  168.440002  169.100006  2782800.0  3M Company        0.507980   \n",
       "18  160.539993  168.389999  6221600.0  3M Company       -4.149041   \n",
       "19  161.589996  162.699997  5090400.0  3M Company        1.790313   \n",
       "\n",
       "    Cumulative_Percent_Change  \n",
       "0                    0.000000  \n",
       "1                    1.400911  \n",
       "2                    0.984584  \n",
       "3                    0.146270  \n",
       "4                    1.243381  \n",
       "5                   -0.185666  \n",
       "6                    0.697643  \n",
       "7                    0.945189  \n",
       "8                    1.845391  \n",
       "9                    0.562615  \n",
       "10                   0.303809  \n",
       "11                   0.416327  \n",
       "12                  -2.346126  \n",
       "13                  -2.863746  \n",
       "14                  -2.779347  \n",
       "15                  -2.244859  \n",
       "16                  -4.748515  \n",
       "17                  -4.264657  \n",
       "18                  -8.236756  \n",
       "19                  -6.593907  "
      ]
     },
     "execution_count": 10,
     "metadata": {},
     "output_type": "execute_result"
    }
   ],
   "source": [
    "# Calculate the cumulative percent change for the stock symbol\n",
    "df_stockdata['Cumulative_Percent_Change'] = ((1 + df_stockdata['Adj Close'].pct_change().fillna(0)).cumprod() * 100)-100\n",
    "df_stockdata"
   ]
  },
  {
   "cell_type": "code",
   "execution_count": 11,
   "metadata": {},
   "outputs": [],
   "source": [
    "# Construct the SQL query for the sp500 table\n",
    "sql_query_sp500 = f\"SELECT * FROM sp500 WHERE Date >= ? AND Date <= ?\""
   ]
  },
  {
   "cell_type": "code",
   "execution_count": 12,
   "metadata": {},
   "outputs": [],
   "source": [
    "# Execute the query for the sp500 table with user input\n",
    "cursor_sp500 = conn.cursor()\n",
    "cursor_sp500.execute(sql_query_sp500, (start_date_str, end_date_str))\n",
    "# Fetch all the rows from the sp500 table\n",
    "rows_sp500 = cursor_sp500.fetchall()"
   ]
  },
  {
   "cell_type": "code",
   "execution_count": 13,
   "metadata": {},
   "outputs": [],
   "source": [
    "# Create a DataFrame from the query results of the sp500 table\n",
    "columns_sp500 = [description[0] for description in cursor_sp500.description]\n",
    "df_sp500 = pd.DataFrame(rows_sp500, columns=columns_sp500)"
   ]
  },
  {
   "cell_type": "code",
   "execution_count": 14,
   "metadata": {},
   "outputs": [
    {
     "data": {
      "text/html": [
       "<div>\n",
       "<style scoped>\n",
       "    .dataframe tbody tr th:only-of-type {\n",
       "        vertical-align: middle;\n",
       "    }\n",
       "\n",
       "    .dataframe tbody tr th {\n",
       "        vertical-align: top;\n",
       "    }\n",
       "\n",
       "    .dataframe thead th {\n",
       "        text-align: right;\n",
       "    }\n",
       "</style>\n",
       "<table border=\"1\" class=\"dataframe\">\n",
       "  <thead>\n",
       "    <tr style=\"text-align: right;\">\n",
       "      <th></th>\n",
       "      <th>Date</th>\n",
       "      <th>SP500_Price</th>\n",
       "      <th>Percent_Change</th>\n",
       "    </tr>\n",
       "  </thead>\n",
       "  <tbody>\n",
       "    <tr>\n",
       "      <th>0</th>\n",
       "      <td>2022-01-03 00:00:00.000000</td>\n",
       "      <td>4796.56</td>\n",
       "      <td>NaN</td>\n",
       "    </tr>\n",
       "    <tr>\n",
       "      <th>1</th>\n",
       "      <td>2022-01-04 00:00:00.000000</td>\n",
       "      <td>4793.54</td>\n",
       "      <td>-0.062962</td>\n",
       "    </tr>\n",
       "    <tr>\n",
       "      <th>2</th>\n",
       "      <td>2022-01-05 00:00:00.000000</td>\n",
       "      <td>4700.58</td>\n",
       "      <td>-1.939277</td>\n",
       "    </tr>\n",
       "    <tr>\n",
       "      <th>3</th>\n",
       "      <td>2022-01-06 00:00:00.000000</td>\n",
       "      <td>4696.05</td>\n",
       "      <td>-0.096371</td>\n",
       "    </tr>\n",
       "    <tr>\n",
       "      <th>4</th>\n",
       "      <td>2022-01-07 00:00:00.000000</td>\n",
       "      <td>4677.03</td>\n",
       "      <td>-0.405021</td>\n",
       "    </tr>\n",
       "    <tr>\n",
       "      <th>5</th>\n",
       "      <td>2022-01-10 00:00:00.000000</td>\n",
       "      <td>4670.29</td>\n",
       "      <td>-0.144109</td>\n",
       "    </tr>\n",
       "    <tr>\n",
       "      <th>6</th>\n",
       "      <td>2022-01-11 00:00:00.000000</td>\n",
       "      <td>4713.07</td>\n",
       "      <td>0.916003</td>\n",
       "    </tr>\n",
       "    <tr>\n",
       "      <th>7</th>\n",
       "      <td>2022-01-12 00:00:00.000000</td>\n",
       "      <td>4726.35</td>\n",
       "      <td>0.281770</td>\n",
       "    </tr>\n",
       "    <tr>\n",
       "      <th>8</th>\n",
       "      <td>2022-01-13 00:00:00.000000</td>\n",
       "      <td>4659.03</td>\n",
       "      <td>-1.424355</td>\n",
       "    </tr>\n",
       "    <tr>\n",
       "      <th>9</th>\n",
       "      <td>2022-01-14 00:00:00.000000</td>\n",
       "      <td>4662.85</td>\n",
       "      <td>0.081991</td>\n",
       "    </tr>\n",
       "    <tr>\n",
       "      <th>10</th>\n",
       "      <td>2022-01-18 00:00:00.000000</td>\n",
       "      <td>4577.11</td>\n",
       "      <td>-1.838790</td>\n",
       "    </tr>\n",
       "    <tr>\n",
       "      <th>11</th>\n",
       "      <td>2022-01-19 00:00:00.000000</td>\n",
       "      <td>4532.76</td>\n",
       "      <td>-0.968952</td>\n",
       "    </tr>\n",
       "    <tr>\n",
       "      <th>12</th>\n",
       "      <td>2022-01-20 00:00:00.000000</td>\n",
       "      <td>4482.73</td>\n",
       "      <td>-1.103743</td>\n",
       "    </tr>\n",
       "    <tr>\n",
       "      <th>13</th>\n",
       "      <td>2022-01-21 00:00:00.000000</td>\n",
       "      <td>4397.94</td>\n",
       "      <td>-1.891481</td>\n",
       "    </tr>\n",
       "    <tr>\n",
       "      <th>14</th>\n",
       "      <td>2022-01-24 00:00:00.000000</td>\n",
       "      <td>4410.13</td>\n",
       "      <td>0.277175</td>\n",
       "    </tr>\n",
       "    <tr>\n",
       "      <th>15</th>\n",
       "      <td>2022-01-25 00:00:00.000000</td>\n",
       "      <td>4356.45</td>\n",
       "      <td>-1.217198</td>\n",
       "    </tr>\n",
       "    <tr>\n",
       "      <th>16</th>\n",
       "      <td>2022-01-26 00:00:00.000000</td>\n",
       "      <td>4349.93</td>\n",
       "      <td>-0.149663</td>\n",
       "    </tr>\n",
       "    <tr>\n",
       "      <th>17</th>\n",
       "      <td>2022-01-27 00:00:00.000000</td>\n",
       "      <td>4326.51</td>\n",
       "      <td>-0.538399</td>\n",
       "    </tr>\n",
       "    <tr>\n",
       "      <th>18</th>\n",
       "      <td>2022-01-28 00:00:00.000000</td>\n",
       "      <td>4431.85</td>\n",
       "      <td>2.434757</td>\n",
       "    </tr>\n",
       "    <tr>\n",
       "      <th>19</th>\n",
       "      <td>2022-01-31 00:00:00.000000</td>\n",
       "      <td>4515.55</td>\n",
       "      <td>1.888602</td>\n",
       "    </tr>\n",
       "  </tbody>\n",
       "</table>\n",
       "</div>"
      ],
      "text/plain": [
       "                          Date  SP500_Price  Percent_Change\n",
       "0   2022-01-03 00:00:00.000000      4796.56             NaN\n",
       "1   2022-01-04 00:00:00.000000      4793.54       -0.062962\n",
       "2   2022-01-05 00:00:00.000000      4700.58       -1.939277\n",
       "3   2022-01-06 00:00:00.000000      4696.05       -0.096371\n",
       "4   2022-01-07 00:00:00.000000      4677.03       -0.405021\n",
       "5   2022-01-10 00:00:00.000000      4670.29       -0.144109\n",
       "6   2022-01-11 00:00:00.000000      4713.07        0.916003\n",
       "7   2022-01-12 00:00:00.000000      4726.35        0.281770\n",
       "8   2022-01-13 00:00:00.000000      4659.03       -1.424355\n",
       "9   2022-01-14 00:00:00.000000      4662.85        0.081991\n",
       "10  2022-01-18 00:00:00.000000      4577.11       -1.838790\n",
       "11  2022-01-19 00:00:00.000000      4532.76       -0.968952\n",
       "12  2022-01-20 00:00:00.000000      4482.73       -1.103743\n",
       "13  2022-01-21 00:00:00.000000      4397.94       -1.891481\n",
       "14  2022-01-24 00:00:00.000000      4410.13        0.277175\n",
       "15  2022-01-25 00:00:00.000000      4356.45       -1.217198\n",
       "16  2022-01-26 00:00:00.000000      4349.93       -0.149663\n",
       "17  2022-01-27 00:00:00.000000      4326.51       -0.538399\n",
       "18  2022-01-28 00:00:00.000000      4431.85        2.434757\n",
       "19  2022-01-31 00:00:00.000000      4515.55        1.888602"
      ]
     },
     "execution_count": 14,
     "metadata": {},
     "output_type": "execute_result"
    }
   ],
   "source": [
    "# Add a percent change column to the DataFrame for the sp500 table\n",
    "df_sp500['Percent_Change'] = df_sp500['SP500_Price'].pct_change() * 100\n",
    "df_sp500"
   ]
  },
  {
   "cell_type": "code",
   "execution_count": 15,
   "metadata": {},
   "outputs": [],
   "source": [
    "# Replace all NaN values in the Percent_Change column with 0 for the sp500 table\n",
    "df_sp500['Percent_Change'].fillna(0, inplace=True)"
   ]
  },
  {
   "cell_type": "code",
   "execution_count": 16,
   "metadata": {},
   "outputs": [
    {
     "data": {
      "text/html": [
       "<div>\n",
       "<style scoped>\n",
       "    .dataframe tbody tr th:only-of-type {\n",
       "        vertical-align: middle;\n",
       "    }\n",
       "\n",
       "    .dataframe tbody tr th {\n",
       "        vertical-align: top;\n",
       "    }\n",
       "\n",
       "    .dataframe thead th {\n",
       "        text-align: right;\n",
       "    }\n",
       "</style>\n",
       "<table border=\"1\" class=\"dataframe\">\n",
       "  <thead>\n",
       "    <tr style=\"text-align: right;\">\n",
       "      <th></th>\n",
       "      <th>Date</th>\n",
       "      <th>SP500_Price</th>\n",
       "      <th>Percent_Change</th>\n",
       "      <th>Cumulative_Percent_Change</th>\n",
       "    </tr>\n",
       "  </thead>\n",
       "  <tbody>\n",
       "    <tr>\n",
       "      <th>0</th>\n",
       "      <td>2022-01-03 00:00:00.000000</td>\n",
       "      <td>4796.56</td>\n",
       "      <td>0.000000</td>\n",
       "      <td>0.000000</td>\n",
       "    </tr>\n",
       "    <tr>\n",
       "      <th>1</th>\n",
       "      <td>2022-01-04 00:00:00.000000</td>\n",
       "      <td>4793.54</td>\n",
       "      <td>-0.062962</td>\n",
       "      <td>-0.062962</td>\n",
       "    </tr>\n",
       "    <tr>\n",
       "      <th>2</th>\n",
       "      <td>2022-01-05 00:00:00.000000</td>\n",
       "      <td>4700.58</td>\n",
       "      <td>-1.939277</td>\n",
       "      <td>-2.001017</td>\n",
       "    </tr>\n",
       "    <tr>\n",
       "      <th>3</th>\n",
       "      <td>2022-01-06 00:00:00.000000</td>\n",
       "      <td>4696.05</td>\n",
       "      <td>-0.096371</td>\n",
       "      <td>-2.095460</td>\n",
       "    </tr>\n",
       "    <tr>\n",
       "      <th>4</th>\n",
       "      <td>2022-01-07 00:00:00.000000</td>\n",
       "      <td>4677.03</td>\n",
       "      <td>-0.405021</td>\n",
       "      <td>-2.491994</td>\n",
       "    </tr>\n",
       "    <tr>\n",
       "      <th>5</th>\n",
       "      <td>2022-01-10 00:00:00.000000</td>\n",
       "      <td>4670.29</td>\n",
       "      <td>-0.144109</td>\n",
       "      <td>-2.632512</td>\n",
       "    </tr>\n",
       "    <tr>\n",
       "      <th>6</th>\n",
       "      <td>2022-01-11 00:00:00.000000</td>\n",
       "      <td>4713.07</td>\n",
       "      <td>0.916003</td>\n",
       "      <td>-1.740622</td>\n",
       "    </tr>\n",
       "    <tr>\n",
       "      <th>7</th>\n",
       "      <td>2022-01-12 00:00:00.000000</td>\n",
       "      <td>4726.35</td>\n",
       "      <td>0.281770</td>\n",
       "      <td>-1.463757</td>\n",
       "    </tr>\n",
       "    <tr>\n",
       "      <th>8</th>\n",
       "      <td>2022-01-13 00:00:00.000000</td>\n",
       "      <td>4659.03</td>\n",
       "      <td>-1.424355</td>\n",
       "      <td>-2.867263</td>\n",
       "    </tr>\n",
       "    <tr>\n",
       "      <th>9</th>\n",
       "      <td>2022-01-14 00:00:00.000000</td>\n",
       "      <td>4662.85</td>\n",
       "      <td>0.081991</td>\n",
       "      <td>-2.787623</td>\n",
       "    </tr>\n",
       "    <tr>\n",
       "      <th>10</th>\n",
       "      <td>2022-01-18 00:00:00.000000</td>\n",
       "      <td>4577.11</td>\n",
       "      <td>-1.838790</td>\n",
       "      <td>-4.575154</td>\n",
       "    </tr>\n",
       "    <tr>\n",
       "      <th>11</th>\n",
       "      <td>2022-01-19 00:00:00.000000</td>\n",
       "      <td>4532.76</td>\n",
       "      <td>-0.968952</td>\n",
       "      <td>-5.499775</td>\n",
       "    </tr>\n",
       "    <tr>\n",
       "      <th>12</th>\n",
       "      <td>2022-01-20 00:00:00.000000</td>\n",
       "      <td>4482.73</td>\n",
       "      <td>-1.103743</td>\n",
       "      <td>-6.542814</td>\n",
       "    </tr>\n",
       "    <tr>\n",
       "      <th>13</th>\n",
       "      <td>2022-01-21 00:00:00.000000</td>\n",
       "      <td>4397.94</td>\n",
       "      <td>-1.891481</td>\n",
       "      <td>-8.310539</td>\n",
       "    </tr>\n",
       "    <tr>\n",
       "      <th>14</th>\n",
       "      <td>2022-01-24 00:00:00.000000</td>\n",
       "      <td>4410.13</td>\n",
       "      <td>0.277175</td>\n",
       "      <td>-8.056399</td>\n",
       "    </tr>\n",
       "    <tr>\n",
       "      <th>15</th>\n",
       "      <td>2022-01-25 00:00:00.000000</td>\n",
       "      <td>4356.45</td>\n",
       "      <td>-1.217198</td>\n",
       "      <td>-9.175534</td>\n",
       "    </tr>\n",
       "    <tr>\n",
       "      <th>16</th>\n",
       "      <td>2022-01-26 00:00:00.000000</td>\n",
       "      <td>4349.93</td>\n",
       "      <td>-0.149663</td>\n",
       "      <td>-9.311465</td>\n",
       "    </tr>\n",
       "    <tr>\n",
       "      <th>17</th>\n",
       "      <td>2022-01-27 00:00:00.000000</td>\n",
       "      <td>4326.51</td>\n",
       "      <td>-0.538399</td>\n",
       "      <td>-9.799731</td>\n",
       "    </tr>\n",
       "    <tr>\n",
       "      <th>18</th>\n",
       "      <td>2022-01-28 00:00:00.000000</td>\n",
       "      <td>4431.85</td>\n",
       "      <td>2.434757</td>\n",
       "      <td>-7.603574</td>\n",
       "    </tr>\n",
       "    <tr>\n",
       "      <th>19</th>\n",
       "      <td>2022-01-31 00:00:00.000000</td>\n",
       "      <td>4515.55</td>\n",
       "      <td>1.888602</td>\n",
       "      <td>-5.858574</td>\n",
       "    </tr>\n",
       "  </tbody>\n",
       "</table>\n",
       "</div>"
      ],
      "text/plain": [
       "                          Date  SP500_Price  Percent_Change  \\\n",
       "0   2022-01-03 00:00:00.000000      4796.56        0.000000   \n",
       "1   2022-01-04 00:00:00.000000      4793.54       -0.062962   \n",
       "2   2022-01-05 00:00:00.000000      4700.58       -1.939277   \n",
       "3   2022-01-06 00:00:00.000000      4696.05       -0.096371   \n",
       "4   2022-01-07 00:00:00.000000      4677.03       -0.405021   \n",
       "5   2022-01-10 00:00:00.000000      4670.29       -0.144109   \n",
       "6   2022-01-11 00:00:00.000000      4713.07        0.916003   \n",
       "7   2022-01-12 00:00:00.000000      4726.35        0.281770   \n",
       "8   2022-01-13 00:00:00.000000      4659.03       -1.424355   \n",
       "9   2022-01-14 00:00:00.000000      4662.85        0.081991   \n",
       "10  2022-01-18 00:00:00.000000      4577.11       -1.838790   \n",
       "11  2022-01-19 00:00:00.000000      4532.76       -0.968952   \n",
       "12  2022-01-20 00:00:00.000000      4482.73       -1.103743   \n",
       "13  2022-01-21 00:00:00.000000      4397.94       -1.891481   \n",
       "14  2022-01-24 00:00:00.000000      4410.13        0.277175   \n",
       "15  2022-01-25 00:00:00.000000      4356.45       -1.217198   \n",
       "16  2022-01-26 00:00:00.000000      4349.93       -0.149663   \n",
       "17  2022-01-27 00:00:00.000000      4326.51       -0.538399   \n",
       "18  2022-01-28 00:00:00.000000      4431.85        2.434757   \n",
       "19  2022-01-31 00:00:00.000000      4515.55        1.888602   \n",
       "\n",
       "    Cumulative_Percent_Change  \n",
       "0                    0.000000  \n",
       "1                   -0.062962  \n",
       "2                   -2.001017  \n",
       "3                   -2.095460  \n",
       "4                   -2.491994  \n",
       "5                   -2.632512  \n",
       "6                   -1.740622  \n",
       "7                   -1.463757  \n",
       "8                   -2.867263  \n",
       "9                   -2.787623  \n",
       "10                  -4.575154  \n",
       "11                  -5.499775  \n",
       "12                  -6.542814  \n",
       "13                  -8.310539  \n",
       "14                  -8.056399  \n",
       "15                  -9.175534  \n",
       "16                  -9.311465  \n",
       "17                  -9.799731  \n",
       "18                  -7.603574  \n",
       "19                  -5.858574  "
      ]
     },
     "execution_count": 16,
     "metadata": {},
     "output_type": "execute_result"
    }
   ],
   "source": [
    "df_sp500['Cumulative_Percent_Change'] = ((1 + df_sp500['SP500_Price'].pct_change().fillna(0)).cumprod() * 100)-100\n",
    "df_sp500"
   ]
  },
  {
   "cell_type": "code",
   "execution_count": 17,
   "metadata": {},
   "outputs": [],
   "source": [
    "conn.close()"
   ]
  },
  {
   "cell_type": "code",
   "execution_count": 18,
   "metadata": {},
   "outputs": [
    {
     "data": {
      "image/png": "[encoded data removed]",
      "text/plain": [
       "<Figure size 640x480 with 1 Axes>"
      ]
     },
     "metadata": {},
     "output_type": "display_data"
    }
   ],
   "source": [
    "# Create a figure and axis\n",
    "fig, ax = plt.subplots()\n",
    "\n",
    "# Plot the percent change data for the input symbol\n",
    "ax.plot(df_stockdata['Date'], df_stockdata['Cumulative_Percent_Change'], label=symbol)\n",
    "\n",
    "# Plot the percent change data for the S&P 500\n",
    "ax.plot(df_sp500['Date'], df_sp500['Cumulative_Percent_Change'], label='S&P 500')\n",
    "\n",
    "# # Set the x-axis labels to be in the format of \"Month Year\"\n",
    "# ax.xaxis.set_major_locator(YearLocator())\n",
    "# ax.xaxis.set_minor_locator(MonthLocator())\n",
    "# ax.xaxis.set_major_formatter(DateFormatter('%b %Y'))\n",
    "\n",
    "# Set the axis labels and title\n",
    "ax.set_xlabel('Date')\n",
    "ax.set_ylabel('Cumulative_Percent_Change')\n",
    "ax.set_title('Stock vs S&P 500 Cumulative_Percent_Change')\n",
    "\n",
    "# Rotate the x-axis labels for better visibility\n",
    "plt.xticks(rotation=45)\n",
    "\n",
    "# Set the x-axis major locator to show every 5 days\n",
    "ax.xaxis.set_major_locator(MultipleLocator(5))\n",
    "\n",
    "# Display the legend\n",
    "ax.legend()\n",
    "\n",
    "# Show the plot\n",
    "plt.show()"
   ]
  },
  {
   "cell_type": "code",
   "execution_count": 19,
   "metadata": {},
   "outputs": [
    {
     "data": {
      "image/png": "[encoded data removed]",
      "text/plain": [
       "<Figure size 640x480 with 1 Axes>"
      ]
     },
     "metadata": {},
     "output_type": "display_data"
    }
   ],
   "source": [
    "# Create a figure and axis\n",
    "fig, ax = plt.subplots()\n",
    "\n",
    "# Initialize the line objects for the plots\n",
    "line_stock, = ax.plot([], [], label=symbol)\n",
    "line_sp500, = ax.plot([], [], label='S&P 500')\n",
    "\n",
    "# Function to update the data in the plots\n",
    "def update(i):\n",
    "    start_idx = max(0, i - 5)\n",
    "    end_idx = i + 1\n",
    "    x_stock = pd.to_datetime(df_stockdata['Date'].iloc[start_idx:end_idx])\n",
    "    y_stock = df_stockdata['Cumulative_Percent_Change'].iloc[start_idx:end_idx]\n",
    "    x_sp500 = pd.to_datetime(df_sp500['Date'].iloc[start_idx:end_idx])\n",
    "    y_sp500 = df_sp500['Cumulative_Percent_Change'].iloc[start_idx:end_idx]\n",
    "\n",
    "    line_stock.set_data(x_stock, y_stock)\n",
    "    line_sp500.set_data(x_sp500, y_sp500)\n",
    "\n",
    "    return line_stock, line_sp500\n",
    "\n",
    "# Create the animation\n",
    "ani = FuncAnimation(fig, update, frames=len(df_stockdata), blit=True)\n",
    "\n",
    "# # Set the x-axis labels to be in the format of \"Month Year\"\n",
    "# ax.xaxis.set_major_locator(YearLocator())\n",
    "# ax.xaxis.set_minor_locator(MonthLocator())\n",
    "# ax.xaxis.set_major_formatter(DateFormatter('%b %Y'))\n",
    "\n",
    "# Set the axis labels and title\n",
    "ax.set_xlabel('Date')\n",
    "ax.set_ylabel('Cumulative Percent Change')\n",
    "ax.set_title('Stock vs S&P 500 Cumulative Percent Change')\n",
    "\n",
    "# Rotate the x-axis labels for better visibility\n",
    "plt.xticks(rotation=45)\n",
    "\n",
    "# # Set the x-axis major locator to show every 5 days\n",
    "# ax.xaxis.set_major_locator(MultipleLocator(5))\n",
    "\n",
    "# Display the legend\n",
    "ax.legend()\n",
    "\n",
    "# Show the animation\n",
    "plt.show()"
   ]
  },
  {
   "cell_type": "code",
   "execution_count": 20,
   "metadata": {},
   "outputs": [
    {
     "data": {
      "image/png": "[encoded data removed]",
      "text/plain": [
       "<Figure size 640x480 with 1 Axes>"
      ]
     },
     "metadata": {},
     "output_type": "display_data"
    }
   ],
   "source": [
    "# Combine the percent change data into a single DataFrame\n",
    "df_combined = pd.concat([df_stockdata['Cumulative_Percent_Change'], df_sp500['Cumulative_Percent_Change']], axis=1)\n",
    "df_combined.columns = [symbol, 'S&P 500']\n",
    "\n",
    "# Create a boxplot\n",
    "df_combined.boxplot(grid=False)\n",
    "plt.ylabel('Cumulative_Percent_Change')\n",
    "plt.title(f'Box Plot of Cumulative Percent Change for {symbol} and S&P 500')\n",
    "plt.show()\n"
   ]
  },
  {
   "cell_type": "code",
   "execution_count": 63,
   "metadata": {},
   "outputs": [
    {
     "data": {
      "application/vnd.plotly.v1+json": {
       "config": {
        "plotlyServerURL": "https://plot.ly"
       },
       "data": [
        {
         "mode": "lines",
         "name": "MMM Cumulative Percent Change",
         "type": "scatter",
         "x": [
          "2022-01-03 00:00:00.000000",
          "2022-01-04 00:00:00.000000",
          "2022-01-05 00:00:00.000000",
          "2022-01-06 00:00:00.000000",
          "2022-01-07 00:00:00.000000",
          "2022-01-10 00:00:00.000000",
          "2022-01-11 00:00:00.000000",
          "2022-01-12 00:00:00.000000",
          "2022-01-13 00:00:00.000000",
          "2022-01-14 00:00:00.000000",
          "2022-01-18 00:00:00.000000",
          "2022-01-19 00:00:00.000000",
          "2022-01-20 00:00:00.000000",
          "2022-01-21 00:00:00.000000",
          "2022-01-24 00:00:00.000000",
          "2022-01-25 00:00:00.000000",
          "2022-01-26 00:00:00.000000",
          "2022-01-27 00:00:00.000000",
          "2022-01-28 00:00:00.000000",
          "2022-01-31 00:00:00.000000"
         ],
         "xaxis": "x",
         "y": [
          0,
          1.4009112367606775,
          0.9845843509422849,
          0.1462704544603355,
          1.2433812077614164,
          -0.18566596352835063,
          0.6976428917153044,
          0.9451888418743124,
          1.8453913928657073,
          0.56261467603629,
          0.3038091513383847,
          0.4163268858183642,
          -2.346126082271354,
          -2.8637457995459528,
          -2.7793466638374866,
          -2.244859254451498,
          -4.748515365722099,
          -4.26465703630663,
          -8.236755827934985,
          -6.593906758587792
         ],
         "yaxis": "y"
        },
        {
         "mode": "lines",
         "name": "S&P 500 Cumulative Percent Change",
         "type": "scatter",
         "x": [
          "2022-01-03 00:00:00.000000",
          "2022-01-04 00:00:00.000000",
          "2022-01-05 00:00:00.000000",
          "2022-01-06 00:00:00.000000",
          "2022-01-07 00:00:00.000000",
          "2022-01-10 00:00:00.000000",
          "2022-01-11 00:00:00.000000",
          "2022-01-12 00:00:00.000000",
          "2022-01-13 00:00:00.000000",
          "2022-01-14 00:00:00.000000",
          "2022-01-18 00:00:00.000000",
          "2022-01-19 00:00:00.000000",
          "2022-01-20 00:00:00.000000",
          "2022-01-21 00:00:00.000000",
          "2022-01-24 00:00:00.000000",
          "2022-01-25 00:00:00.000000",
          "2022-01-26 00:00:00.000000",
          "2022-01-27 00:00:00.000000",
          "2022-01-28 00:00:00.000000",
          "2022-01-31 00:00:00.000000"
         ],
         "xaxis": "x",
         "y": [
          0,
          -0.06296178928232621,
          -2.001017395800318,
          -2.095460079723793,
          -2.491994262554826,
          -2.6325116333372165,
          -1.7406224460863626,
          -1.4637573594409048,
          -2.867263205297121,
          -2.7876227963373594,
          -4.575153860266511,
          -5.499774838634323,
          -6.542814016711958,
          -8.310539219774142,
          -8.056398752439208,
          -9.175534132795136,
          -9.311464883166238,
          -9.799731474223165,
          -7.603574228196834,
          -5.858573644445144
         ],
         "yaxis": "y2"
        }
       ],
       "layout": {
        "template": {
         "data": {
          "bar": [
           {
            "error_x": {
             "color": "#2a3f5f"
            },
            "error_y": {
             "color": "#2a3f5f"
            },
            "marker": {
             "line": {
              "color": "#E5ECF6",
              "width": 0.5
             },
             "pattern": {
              "fillmode": "overlay",
              "size": 10,
              "solidity": 0.2
             }
            },
            "type": "bar"
           }
          ],
          "barpolar": [
           {
            "marker": {
             "line": {
              "color": "#E5ECF6",
              "width": 0.5
             },
             "pattern": {
              "fillmode": "overlay",
              "size": 10,
              "solidity": 0.2
             }
            },
            "type": "barpolar"
           }
          ],
          "carpet": [
           {
            "aaxis": {
             "endlinecolor": "#2a3f5f",
             "gridcolor": "white",
             "linecolor": "white",
             "minorgridcolor": "white",
             "startlinecolor": "#2a3f5f"
            },
            "baxis": {
             "endlinecolor": "#2a3f5f",
             "gridcolor": "white",
             "linecolor": "white",
             "minorgridcolor": "white",
             "startlinecolor": "#2a3f5f"
            },
            "type": "carpet"
           }
          ],
          "choropleth": [
           {
            "colorbar": {
             "outlinewidth": 0,
             "ticks": ""
            },
            "type": "choropleth"
           }
          ],
          "contour": [
           {
            "colorbar": {
             "outlinewidth": 0,
             "ticks": ""
            },
            "colorscale": [
             [
              0,
              "#0d0887"
             ],
             [
              0.1111111111111111,
              "#46039f"
             ],
             [
              0.2222222222222222,
              "#7201a8"
             ],
             [
              0.3333333333333333,
              "#9c179e"
             ],
             [
              0.4444444444444444,
              "#bd3786"
             ],
             [
              0.5555555555555556,
              "#d8576b"
             ],
             [
              0.6666666666666666,
              "#ed7953"
             ],
             [
              0.7777777777777778,
              "#fb9f3a"
             ],
             [
              0.8888888888888888,
              "#fdca26"
             ],
             [
              1,
              "#f0f921"
             ]
            ],
            "type": "contour"
           }
          ],
          "contourcarpet": [
           {
            "colorbar": {
             "outlinewidth": 0,
             "ticks": ""
            },
            "type": "contourcarpet"
           }
          ],
          "heatmap": [
           {
            "colorbar": {
             "outlinewidth": 0,
             "ticks": ""
            },
            "colorscale": [
             [
              0,
              "#0d0887"
             ],
             [
              0.1111111111111111,
              "#46039f"
             ],
             [
              0.2222222222222222,
              "#7201a8"
             ],
             [
              0.3333333333333333,
              "#9c179e"
             ],
             [
              0.4444444444444444,
              "#bd3786"
             ],
             [
              0.5555555555555556,
              "#d8576b"
             ],
             [
              0.6666666666666666,
              "#ed7953"
             ],
             [
              0.7777777777777778,
              "#fb9f3a"
             ],
             [
              0.8888888888888888,
              "#fdca26"
             ],
             [
              1,
              "#f0f921"
             ]
            ],
            "type": "heatmap"
           }
          ],
          "heatmapgl": [
           {
            "colorbar": {
             "outlinewidth": 0,
             "ticks": ""
            },
            "colorscale": [
             [
              0,
              "#0d0887"
             ],
             [
              0.1111111111111111,
              "#46039f"
             ],
             [
              0.2222222222222222,
              "#7201a8"
             ],
             [
              0.3333333333333333,
              "#9c179e"
             ],
             [
              0.4444444444444444,
              "#bd3786"
             ],
             [
              0.5555555555555556,
              "#d8576b"
             ],
             [
              0.6666666666666666,
              "#ed7953"
             ],
             [
              0.7777777777777778,
              "#fb9f3a"
             ],
             [
              0.8888888888888888,
              "#fdca26"
             ],
             [
              1,
              "#f0f921"
             ]
            ],
            "type": "heatmapgl"
           }
          ],
          "histogram": [
           {
            "marker": {
             "pattern": {
              "fillmode": "overlay",
              "size": 10,
              "solidity": 0.2
             }
            },
            "type": "histogram"
           }
          ],
          "histogram2d": [
           {
            "colorbar": {
             "outlinewidth": 0,
             "ticks": ""
            },
            "colorscale": [
             [
              0,
              "#0d0887"
             ],
             [
              0.1111111111111111,
              "#46039f"
             ],
             [
              0.2222222222222222,
              "#7201a8"
             ],
             [
              0.3333333333333333,
              "#9c179e"
             ],
             [
              0.4444444444444444,
              "#bd3786"
             ],
             [
              0.5555555555555556,
              "#d8576b"
             ],
             [
              0.6666666666666666,
              "#ed7953"
             ],
             [
              0.7777777777777778,
              "#fb9f3a"
             ],
             [
              0.8888888888888888,
              "#fdca26"
             ],
             [
              1,
              "#f0f921"
             ]
            ],
            "type": "histogram2d"
           }
          ],
          "histogram2dcontour": [
           {
            "colorbar": {
             "outlinewidth": 0,
             "ticks": ""
            },
            "colorscale": [
             [
              0,
              "#0d0887"
             ],
             [
              0.1111111111111111,
              "#46039f"
             ],
             [
              0.2222222222222222,
              "#7201a8"
             ],
             [
              0.3333333333333333,
              "#9c179e"
             ],
             [
              0.4444444444444444,
              "#bd3786"
             ],
             [
              0.5555555555555556,
              "#d8576b"
             ],
             [
              0.6666666666666666,
              "#ed7953"
             ],
             [
              0.7777777777777778,
              "#fb9f3a"
             ],
             [
              0.8888888888888888,
              "#fdca26"
             ],
             [
              1,
              "#f0f921"
             ]
            ],
            "type": "histogram2dcontour"
           }
          ],
          "mesh3d": [
           {
            "colorbar": {
             "outlinewidth": 0,
             "ticks": ""
            },
            "type": "mesh3d"
           }
          ],
          "parcoords": [
           {
            "line": {
             "colorbar": {
              "outlinewidth": 0,
              "ticks": ""
             }
            },
            "type": "parcoords"
           }
          ],
          "pie": [
           {
            "automargin": true,
            "type": "pie"
           }
          ],
          "scatter": [
           {
            "fillpattern": {
             "fillmode": "overlay",
             "size": 10,
             "solidity": 0.2
            },
            "type": "scatter"
           }
          ],
          "scatter3d": [
           {
            "line": {
             "colorbar": {
              "outlinewidth": 0,
              "ticks": ""
             }
            },
            "marker": {
             "colorbar": {
              "outlinewidth": 0,
              "ticks": ""
             }
            },
            "type": "scatter3d"
           }
          ],
          "scattercarpet": [
           {
            "marker": {
             "colorbar": {
              "outlinewidth": 0,
              "ticks": ""
             }
            },
            "type": "scattercarpet"
           }
          ],
          "scattergeo": [
           {
            "marker": {
             "colorbar": {
              "outlinewidth": 0,
              "ticks": ""
             }
            },
            "type": "scattergeo"
           }
          ],
          "scattergl": [
           {
            "marker": {
             "colorbar": {
              "outlinewidth": 0,
              "ticks": ""
             }
            },
            "type": "scattergl"
           }
          ],
          "scattermapbox": [
           {
            "marker": {
             "colorbar": {
              "outlinewidth": 0,
              "ticks": ""
             }
            },
            "type": "scattermapbox"
           }
          ],
          "scatterpolar": [
           {
            "marker": {
             "colorbar": {
              "outlinewidth": 0,
              "ticks": ""
             }
            },
            "type": "scatterpolar"
           }
          ],
          "scatterpolargl": [
           {
            "marker": {
             "colorbar": {
              "outlinewidth": 0,
              "ticks": ""
             }
            },
            "type": "scatterpolargl"
           }
          ],
          "scatterternary": [
           {
            "marker": {
             "colorbar": {
              "outlinewidth": 0,
              "ticks": ""
             }
            },
            "type": "scatterternary"
           }
          ],
          "surface": [
           {
            "colorbar": {
             "outlinewidth": 0,
             "ticks": ""
            },
            "colorscale": [
             [
              0,
              "#0d0887"
             ],
             [
              0.1111111111111111,
              "#46039f"
             ],
             [
              0.2222222222222222,
              "#7201a8"
             ],
             [
              0.3333333333333333,
              "#9c179e"
             ],
             [
              0.4444444444444444,
              "#bd3786"
             ],
             [
              0.5555555555555556,
              "#d8576b"
             ],
             [
              0.6666666666666666,
              "#ed7953"
             ],
             [
              0.7777777777777778,
              "#fb9f3a"
             ],
             [
              0.8888888888888888,
              "#fdca26"
             ],
             [
              1,
              "#f0f921"
             ]
            ],
            "type": "surface"
           }
          ],
          "table": [
           {
            "cells": {
             "fill": {
              "color": "#EBF0F8"
             },
             "line": {
              "color": "white"
             }
            },
            "header": {
             "fill": {
              "color": "#C8D4E3"
             },
             "line": {
              "color": "white"
             }
            },
            "type": "table"
           }
          ]
         },
         "layout": {
          "annotationdefaults": {
           "arrowcolor": "#2a3f5f",
           "arrowhead": 0,
           "arrowwidth": 1
          },
          "autotypenumbers": "strict",
          "coloraxis": {
           "colorbar": {
            "outlinewidth": 0,
            "ticks": ""
           }
          },
          "colorscale": {
           "diverging": [
            [
             0,
             "#8e0152"
            ],
            [
             0.1,
             "#c51b7d"
            ],
            [
             0.2,
             "#de77ae"
            ],
            [
             0.3,
             "#f1b6da"
            ],
            [
             0.4,
             "#fde0ef"
            ],
            [
             0.5,
             "#f7f7f7"
            ],
            [
             0.6,
             "#e6f5d0"
            ],
            [
             0.7,
             "#b8e186"
            ],
            [
             0.8,
             "#7fbc41"
            ],
            [
             0.9,
             "#4d9221"
            ],
            [
             1,
             "#276419"
            ]
           ],
           "sequential": [
            [
             0,
             "#0d0887"
            ],
            [
             0.1111111111111111,
             "#46039f"
            ],
            [
             0.2222222222222222,
             "#7201a8"
            ],
            [
             0.3333333333333333,
             "#9c179e"
            ],
            [
             0.4444444444444444,
             "#bd3786"
            ],
            [
             0.5555555555555556,
             "#d8576b"
            ],
            [
             0.6666666666666666,
             "#ed7953"
            ],
            [
             0.7777777777777778,
             "#fb9f3a"
            ],
            [
             0.8888888888888888,
             "#fdca26"
            ],
            [
             1,
             "#f0f921"
            ]
           ],
           "sequentialminus": [
            [
             0,
             "#0d0887"
            ],
            [
             0.1111111111111111,
             "#46039f"
            ],
            [
             0.2222222222222222,
             "#7201a8"
            ],
            [
             0.3333333333333333,
             "#9c179e"
            ],
            [
             0.4444444444444444,
             "#bd3786"
            ],
            [
             0.5555555555555556,
             "#d8576b"
            ],
            [
             0.6666666666666666,
             "#ed7953"
            ],
            [
             0.7777777777777778,
             "#fb9f3a"
            ],
            [
             0.8888888888888888,
             "#fdca26"
            ],
            [
             1,
             "#f0f921"
            ]
           ]
          },
          "colorway": [
           "#636efa",
           "#EF553B",
           "#00cc96",
           "#ab63fa",
           "#FFA15A",
           "#19d3f3",
           "#FF6692",
           "#B6E880",
           "#FF97FF",
           "#FECB52"
          ],
          "font": {
           "color": "#2a3f5f"
          },
          "geo": {
           "bgcolor": "white",
           "lakecolor": "white",
           "landcolor": "#E5ECF6",
           "showlakes": true,
           "showland": true,
           "subunitcolor": "white"
          },
          "hoverlabel": {
           "align": "left"
          },
          "hovermode": "closest",
          "mapbox": {
           "style": "light"
          },
          "paper_bgcolor": "white",
          "plot_bgcolor": "#E5ECF6",
          "polar": {
           "angularaxis": {
            "gridcolor": "white",
            "linecolor": "white",
            "ticks": ""
           },
           "bgcolor": "#E5ECF6",
           "radialaxis": {
            "gridcolor": "white",
            "linecolor": "white",
            "ticks": ""
           }
          },
          "scene": {
           "xaxis": {
            "backgroundcolor": "#E5ECF6",
            "gridcolor": "white",
            "gridwidth": 2,
            "linecolor": "white",
            "showbackground": true,
            "ticks": "",
            "zerolinecolor": "white"
           },
           "yaxis": {
            "backgroundcolor": "#E5ECF6",
            "gridcolor": "white",
            "gridwidth": 2,
            "linecolor": "white",
            "showbackground": true,
            "ticks": "",
            "zerolinecolor": "white"
           },
           "zaxis": {
            "backgroundcolor": "#E5ECF6",
            "gridcolor": "white",
            "gridwidth": 2,
            "linecolor": "white",
            "showbackground": true,
            "ticks": "",
            "zerolinecolor": "white"
           }
          },
          "shapedefaults": {
           "line": {
            "color": "#2a3f5f"
           }
          },
          "ternary": {
           "aaxis": {
            "gridcolor": "white",
            "linecolor": "white",
            "ticks": ""
           },
           "baxis": {
            "gridcolor": "white",
            "linecolor": "white",
            "ticks": ""
           },
           "bgcolor": "#E5ECF6",
           "caxis": {
            "gridcolor": "white",
            "linecolor": "white",
            "ticks": ""
           }
          },
          "title": {
           "x": 0.05
          },
          "xaxis": {
           "automargin": true,
           "gridcolor": "white",
           "linecolor": "white",
           "ticks": "",
           "title": {
            "standoff": 15
           },
           "zerolinecolor": "white",
           "zerolinewidth": 2
          },
          "yaxis": {
           "automargin": true,
           "gridcolor": "white",
           "linecolor": "white",
           "ticks": "",
           "title": {
            "standoff": 15
           },
           "zerolinecolor": "white",
           "zerolinewidth": 2
          }
         }
        },
        "xaxis": {
         "anchor": "y",
         "domain": [
          0,
          0.94
         ]
        },
        "yaxis": {
         "anchor": "x",
         "domain": [
          0,
          1
         ]
        },
        "yaxis2": {
         "anchor": "x",
         "overlaying": "y",
         "side": "right"
        }
       }
      }
     },
     "metadata": {},
     "output_type": "display_data"
    }
   ],
   "source": [
    "# Create a Plotly figure\n",
    "fig = make_subplots(specs=[[{\"secondary_y\": True}]])\n",
    "\n",
    "# Add traces for the stock and SP500\n",
    "fig.add_trace(\n",
    "    go.Scatter(x=df_stockdata['Date'], y=df_stockdata['Cumulative_Percent_Change'], name=f\"{symbol} Cumulative Percent Change\", mode='lines'),\n",
    "    secondary_y=False,\n",
    ")\n",
    "\n",
    "fig.add_trace(\n",
    "    go.Scatter(x=df_sp500['Date'], y=df_sp500['Cumulative_Percent_Change'], name=\"S&P 500 Cumulative Percent Change\", mode='lines'),\n",
    "    secondary_y=True,\n",
    ")\n"
   ]
  },
  {
   "cell_type": "code",
   "execution_count": 64,
   "metadata": {},
   "outputs": [],
   "source": [
    "# Create a Plotly figure\n",
    "fig = make_subplots(specs=[[{\"secondary_y\": True}]])\n"
   ]
  },
  {
   "cell_type": "code",
   "execution_count": 73,
   "metadata": {},
   "outputs": [
    {
     "data": {
      "application/vnd.plotly.v1+json": {
       "config": {
        "plotlyServerURL": "https://plot.ly"
       },
       "data": [
        {
         "mode": "lines",
         "name": "MMM Cumulative Percent Change",
         "type": "scatter",
         "x": [
          "2022-01-03 00:00:00.000000",
          "2022-01-04 00:00:00.000000",
          "2022-01-05 00:00:00.000000",
          "2022-01-06 00:00:00.000000",
          "2022-01-07 00:00:00.000000",
          "2022-01-10 00:00:00.000000",
          "2022-01-11 00:00:00.000000",
          "2022-01-12 00:00:00.000000",
          "2022-01-13 00:00:00.000000",
          "2022-01-14 00:00:00.000000",
          "2022-01-18 00:00:00.000000",
          "2022-01-19 00:00:00.000000",
          "2022-01-20 00:00:00.000000",
          "2022-01-21 00:00:00.000000",
          "2022-01-24 00:00:00.000000",
          "2022-01-25 00:00:00.000000",
          "2022-01-26 00:00:00.000000",
          "2022-01-27 00:00:00.000000",
          "2022-01-28 00:00:00.000000",
          "2022-01-31 00:00:00.000000"
         ],
         "xaxis": "x",
         "y": [
          0,
          1.4009112367606775,
          0.9845843509422849,
          0.1462704544603355,
          1.2433812077614164,
          -0.18566596352835063,
          0.6976428917153044,
          0.9451888418743124,
          1.8453913928657073,
          0.56261467603629,
          0.3038091513383847,
          0.4163268858183642,
          -2.346126082271354,
          -2.8637457995459528,
          -2.7793466638374866,
          -2.244859254451498,
          -4.748515365722099,
          -4.26465703630663,
          -8.236755827934985,
          -6.593906758587792
         ],
         "yaxis": "y"
        },
        {
         "mode": "lines",
         "name": "S&P 500 Cumulative Percent Change",
         "type": "scatter",
         "x": [
          "2022-01-03 00:00:00.000000",
          "2022-01-04 00:00:00.000000",
          "2022-01-05 00:00:00.000000",
          "2022-01-06 00:00:00.000000",
          "2022-01-07 00:00:00.000000",
          "2022-01-10 00:00:00.000000",
          "2022-01-11 00:00:00.000000",
          "2022-01-12 00:00:00.000000",
          "2022-01-13 00:00:00.000000",
          "2022-01-14 00:00:00.000000",
          "2022-01-18 00:00:00.000000",
          "2022-01-19 00:00:00.000000",
          "2022-01-20 00:00:00.000000",
          "2022-01-21 00:00:00.000000",
          "2022-01-24 00:00:00.000000",
          "2022-01-25 00:00:00.000000",
          "2022-01-26 00:00:00.000000",
          "2022-01-27 00:00:00.000000",
          "2022-01-28 00:00:00.000000",
          "2022-01-31 00:00:00.000000"
         ],
         "xaxis": "x",
         "y": [
          0,
          -0.06296178928232621,
          -2.001017395800318,
          -2.095460079723793,
          -2.491994262554826,
          -2.6325116333372165,
          -1.7406224460863626,
          -1.4637573594409048,
          -2.867263205297121,
          -2.7876227963373594,
          -4.575153860266511,
          -5.499774838634323,
          -6.542814016711958,
          -8.310539219774142,
          -8.056398752439208,
          -9.175534132795136,
          -9.311464883166238,
          -9.799731474223165,
          -7.603574228196834,
          -5.858573644445144
         ],
         "yaxis": "y2"
        }
       ],
       "layout": {
        "template": {
         "data": {
          "bar": [
           {
            "error_x": {
             "color": "#2a3f5f"
            },
            "error_y": {
             "color": "#2a3f5f"
            },
            "marker": {
             "line": {
              "color": "#E5ECF6",
              "width": 0.5
             },
             "pattern": {
              "fillmode": "overlay",
              "size": 10,
              "solidity": 0.2
             }
            },
            "type": "bar"
           }
          ],
          "barpolar": [
           {
            "marker": {
             "line": {
              "color": "#E5ECF6",
              "width": 0.5
             },
             "pattern": {
              "fillmode": "overlay",
              "size": 10,
              "solidity": 0.2
             }
            },
            "type": "barpolar"
           }
          ],
          "carpet": [
           {
            "aaxis": {
             "endlinecolor": "#2a3f5f",
             "gridcolor": "white",
             "linecolor": "white",
             "minorgridcolor": "white",
             "startlinecolor": "#2a3f5f"
            },
            "baxis": {
             "endlinecolor": "#2a3f5f",
             "gridcolor": "white",
             "linecolor": "white",
             "minorgridcolor": "white",
             "startlinecolor": "#2a3f5f"
            },
            "type": "carpet"
           }
          ],
          "choropleth": [
           {
            "colorbar": {
             "outlinewidth": 0,
             "ticks": ""
            },
            "type": "choropleth"
           }
          ],
          "contour": [
           {
            "colorbar": {
             "outlinewidth": 0,
             "ticks": ""
            },
            "colorscale": [
             [
              0,
              "#0d0887"
             ],
             [
              0.1111111111111111,
              "#46039f"
             ],
             [
              0.2222222222222222,
              "#7201a8"
             ],
             [
              0.3333333333333333,
              "#9c179e"
             ],
             [
              0.4444444444444444,
              "#bd3786"
             ],
             [
              0.5555555555555556,
              "#d8576b"
             ],
             [
              0.6666666666666666,
              "#ed7953"
             ],
             [
              0.7777777777777778,
              "#fb9f3a"
             ],
             [
              0.8888888888888888,
              "#fdca26"
             ],
             [
              1,
              "#f0f921"
             ]
            ],
            "type": "contour"
           }
          ],
          "contourcarpet": [
           {
            "colorbar": {
             "outlinewidth": 0,
             "ticks": ""
            },
            "type": "contourcarpet"
           }
          ],
          "heatmap": [
           {
            "colorbar": {
             "outlinewidth": 0,
             "ticks": ""
            },
            "colorscale": [
             [
              0,
              "#0d0887"
             ],
             [
              0.1111111111111111,
              "#46039f"
             ],
             [
              0.2222222222222222,
              "#7201a8"
             ],
             [
              0.3333333333333333,
              "#9c179e"
             ],
             [
              0.4444444444444444,
              "#bd3786"
             ],
             [
              0.5555555555555556,
              "#d8576b"
             ],
             [
              0.6666666666666666,
              "#ed7953"
             ],
             [
              0.7777777777777778,
              "#fb9f3a"
             ],
             [
              0.8888888888888888,
              "#fdca26"
             ],
             [
              1,
              "#f0f921"
             ]
            ],
            "type": "heatmap"
           }
          ],
          "heatmapgl": [
           {
            "colorbar": {
             "outlinewidth": 0,
             "ticks": ""
            },
            "colorscale": [
             [
              0,
              "#0d0887"
             ],
             [
              0.1111111111111111,
              "#46039f"
             ],
             [
              0.2222222222222222,
              "#7201a8"
             ],
             [
              0.3333333333333333,
              "#9c179e"
             ],
             [
              0.4444444444444444,
              "#bd3786"
             ],
             [
              0.5555555555555556,
              "#d8576b"
             ],
             [
              0.6666666666666666,
              "#ed7953"
             ],
             [
              0.7777777777777778,
              "#fb9f3a"
             ],
             [
              0.8888888888888888,
              "#fdca26"
             ],
             [
              1,
              "#f0f921"
             ]
            ],
            "type": "heatmapgl"
           }
          ],
          "histogram": [
           {
            "marker": {
             "pattern": {
              "fillmode": "overlay",
              "size": 10,
              "solidity": 0.2
             }
            },
            "type": "histogram"
           }
          ],
          "histogram2d": [
           {
            "colorbar": {
             "outlinewidth": 0,
             "ticks": ""
            },
            "colorscale": [
             [
              0,
              "#0d0887"
             ],
             [
              0.1111111111111111,
              "#46039f"
             ],
             [
              0.2222222222222222,
              "#7201a8"
             ],
             [
              0.3333333333333333,
              "#9c179e"
             ],
             [
              0.4444444444444444,
              "#bd3786"
             ],
             [
              0.5555555555555556,
              "#d8576b"
             ],
             [
              0.6666666666666666,
              "#ed7953"
             ],
             [
              0.7777777777777778,
              "#fb9f3a"
             ],
             [
              0.8888888888888888,
              "#fdca26"
             ],
             [
              1,
              "#f0f921"
             ]
            ],
            "type": "histogram2d"
           }
          ],
          "histogram2dcontour": [
           {
            "colorbar": {
             "outlinewidth": 0,
             "ticks": ""
            },
            "colorscale": [
             [
              0,
              "#0d0887"
             ],
             [
              0.1111111111111111,
              "#46039f"
             ],
             [
              0.2222222222222222,
              "#7201a8"
             ],
             [
              0.3333333333333333,
              "#9c179e"
             ],
             [
              0.4444444444444444,
              "#bd3786"
             ],
             [
              0.5555555555555556,
              "#d8576b"
             ],
             [
              0.6666666666666666,
              "#ed7953"
             ],
             [
              0.7777777777777778,
              "#fb9f3a"
             ],
             [
              0.8888888888888888,
              "#fdca26"
             ],
             [
              1,
              "#f0f921"
             ]
            ],
            "type": "histogram2dcontour"
           }
          ],
          "mesh3d": [
           {
            "colorbar": {
             "outlinewidth": 0,
             "ticks": ""
            },
            "type": "mesh3d"
           }
          ],
          "parcoords": [
           {
            "line": {
             "colorbar": {
              "outlinewidth": 0,
              "ticks": ""
             }
            },
            "type": "parcoords"
           }
          ],
          "pie": [
           {
            "automargin": true,
            "type": "pie"
           }
          ],
          "scatter": [
           {
            "fillpattern": {
             "fillmode": "overlay",
             "size": 10,
             "solidity": 0.2
            },
            "type": "scatter"
           }
          ],
          "scatter3d": [
           {
            "line": {
             "colorbar": {
              "outlinewidth": 0,
              "ticks": ""
             }
            },
            "marker": {
             "colorbar": {
              "outlinewidth": 0,
              "ticks": ""
             }
            },
            "type": "scatter3d"
           }
          ],
          "scattercarpet": [
           {
            "marker": {
             "colorbar": {
              "outlinewidth": 0,
              "ticks": ""
             }
            },
            "type": "scattercarpet"
           }
          ],
          "scattergeo": [
           {
            "marker": {
             "colorbar": {
              "outlinewidth": 0,
              "ticks": ""
             }
            },
            "type": "scattergeo"
           }
          ],
          "scattergl": [
           {
            "marker": {
             "colorbar": {
              "outlinewidth": 0,
              "ticks": ""
             }
            },
            "type": "scattergl"
           }
          ],
          "scattermapbox": [
           {
            "marker": {
             "colorbar": {
              "outlinewidth": 0,
              "ticks": ""
             }
            },
            "type": "scattermapbox"
           }
          ],
          "scatterpolar": [
           {
            "marker": {
             "colorbar": {
              "outlinewidth": 0,
              "ticks": ""
             }
            },
            "type": "scatterpolar"
           }
          ],
          "scatterpolargl": [
           {
            "marker": {
             "colorbar": {
              "outlinewidth": 0,
              "ticks": ""
             }
            },
            "type": "scatterpolargl"
           }
          ],
          "scatterternary": [
           {
            "marker": {
             "colorbar": {
              "outlinewidth": 0,
              "ticks": ""
             }
            },
            "type": "scatterternary"
           }
          ],
          "surface": [
           {
            "colorbar": {
             "outlinewidth": 0,
             "ticks": ""
            },
            "colorscale": [
             [
              0,
              "#0d0887"
             ],
             [
              0.1111111111111111,
              "#46039f"
             ],
             [
              0.2222222222222222,
              "#7201a8"
             ],
             [
              0.3333333333333333,
              "#9c179e"
             ],
             [
              0.4444444444444444,
              "#bd3786"
             ],
             [
              0.5555555555555556,
              "#d8576b"
             ],
             [
              0.6666666666666666,
              "#ed7953"
             ],
             [
              0.7777777777777778,
              "#fb9f3a"
             ],
             [
              0.8888888888888888,
              "#fdca26"
             ],
             [
              1,
              "#f0f921"
             ]
            ],
            "type": "surface"
           }
          ],
          "table": [
           {
            "cells": {
             "fill": {
              "color": "#EBF0F8"
             },
             "line": {
              "color": "white"
             }
            },
            "header": {
             "fill": {
              "color": "#C8D4E3"
             },
             "line": {
              "color": "white"
             }
            },
            "type": "table"
           }
          ]
         },
         "layout": {
          "annotationdefaults": {
           "arrowcolor": "#2a3f5f",
           "arrowhead": 0,
           "arrowwidth": 1
          },
          "autotypenumbers": "strict",
          "coloraxis": {
           "colorbar": {
            "outlinewidth": 0,
            "ticks": ""
           }
          },
          "colorscale": {
           "diverging": [
            [
             0,
             "#8e0152"
            ],
            [
             0.1,
             "#c51b7d"
            ],
            [
             0.2,
             "#de77ae"
            ],
            [
             0.3,
             "#f1b6da"
            ],
            [
             0.4,
             "#fde0ef"
            ],
            [
             0.5,
             "#f7f7f7"
            ],
            [
             0.6,
             "#e6f5d0"
            ],
            [
             0.7,
             "#b8e186"
            ],
            [
             0.8,
             "#7fbc41"
            ],
            [
             0.9,
             "#4d9221"
            ],
            [
             1,
             "#276419"
            ]
           ],
           "sequential": [
            [
             0,
             "#0d0887"
            ],
            [
             0.1111111111111111,
             "#46039f"
            ],
            [
             0.2222222222222222,
             "#7201a8"
            ],
            [
             0.3333333333333333,
             "#9c179e"
            ],
            [
             0.4444444444444444,
             "#bd3786"
            ],
            [
             0.5555555555555556,
             "#d8576b"
            ],
            [
             0.6666666666666666,
             "#ed7953"
            ],
            [
             0.7777777777777778,
             "#fb9f3a"
            ],
            [
             0.8888888888888888,
             "#fdca26"
            ],
            [
             1,
             "#f0f921"
            ]
           ],
           "sequentialminus": [
            [
             0,
             "#0d0887"
            ],
            [
             0.1111111111111111,
             "#46039f"
            ],
            [
             0.2222222222222222,
             "#7201a8"
            ],
            [
             0.3333333333333333,
             "#9c179e"
            ],
            [
             0.4444444444444444,
             "#bd3786"
            ],
            [
             0.5555555555555556,
             "#d8576b"
            ],
            [
             0.6666666666666666,
             "#ed7953"
            ],
            [
             0.7777777777777778,
             "#fb9f3a"
            ],
            [
             0.8888888888888888,
             "#fdca26"
            ],
            [
             1,
             "#f0f921"
            ]
           ]
          },
          "colorway": [
           "#636efa",
           "#EF553B",
           "#00cc96",
           "#ab63fa",
           "#FFA15A",
           "#19d3f3",
           "#FF6692",
           "#B6E880",
           "#FF97FF",
           "#FECB52"
          ],
          "font": {
           "color": "#2a3f5f"
          },
          "geo": {
           "bgcolor": "white",
           "lakecolor": "white",
           "landcolor": "#E5ECF6",
           "showlakes": true,
           "showland": true,
           "subunitcolor": "white"
          },
          "hoverlabel": {
           "align": "left"
          },
          "hovermode": "closest",
          "mapbox": {
           "style": "light"
          },
          "paper_bgcolor": "white",
          "plot_bgcolor": "#E5ECF6",
          "polar": {
           "angularaxis": {
            "gridcolor": "white",
            "linecolor": "white",
            "ticks": ""
           },
           "bgcolor": "#E5ECF6",
           "radialaxis": {
            "gridcolor": "white",
            "linecolor": "white",
            "ticks": ""
           }
          },
          "scene": {
           "xaxis": {
            "backgroundcolor": "#E5ECF6",
            "gridcolor": "white",
            "gridwidth": 2,
            "linecolor": "white",
            "showbackground": true,
            "ticks": "",
            "zerolinecolor": "white"
           },
           "yaxis": {
            "backgroundcolor": "#E5ECF6",
            "gridcolor": "white",
            "gridwidth": 2,
            "linecolor": "white",
            "showbackground": true,
            "ticks": "",
            "zerolinecolor": "white"
           },
           "zaxis": {
            "backgroundcolor": "#E5ECF6",
            "gridcolor": "white",
            "gridwidth": 2,
            "linecolor": "white",
            "showbackground": true,
            "ticks": "",
            "zerolinecolor": "white"
           }
          },
          "shapedefaults": {
           "line": {
            "color": "#2a3f5f"
           }
          },
          "ternary": {
           "aaxis": {
            "gridcolor": "white",
            "linecolor": "white",
            "ticks": ""
           },
           "baxis": {
            "gridcolor": "white",
            "linecolor": "white",
            "ticks": ""
           },
           "bgcolor": "#E5ECF6",
           "caxis": {
            "gridcolor": "white",
            "linecolor": "white",
            "ticks": ""
           }
          },
          "title": {
           "x": 0.05
          },
          "xaxis": {
           "automargin": true,
           "gridcolor": "white",
           "linecolor": "white",
           "ticks": "",
           "title": {
            "standoff": 15
           },
           "zerolinecolor": "white",
           "zerolinewidth": 2
          },
          "yaxis": {
           "automargin": true,
           "gridcolor": "white",
           "linecolor": "white",
           "ticks": "",
           "title": {
            "standoff": 15
           },
           "zerolinecolor": "white",
           "zerolinewidth": 2
          }
         }
        },
        "title": {
         "text": "MMM Cumulative Percent Change compared to S&P 500 from 2022-01-01 to 2022-02-01"
        },
        "updatemenus": [
         {
          "buttons": [
           {
            "args": [
             {
              "visible": [
               true,
               true
              ]
             },
             {
              "title": "MMM Cumulative Percent Change compared to S&P 500 from 2022-01-01 to 2022-02-01",
              "xaxis_title": "Date",
              "yaxis2_title": "S&P 500 Cumulative Percent Change",
              "yaxis_title": "MMM Cumulative Percent Change"
             }
            ],
            "label": "1 Month",
            "method": "update"
           },
           {
            "args": [
             {
              "visible": [
               true,
               true
              ]
             },
             {
              "title": "MMM Cumulative Percent Change compared to S&P 500 from 2022-01-01 to 2022-02-01",
              "xaxis_title": "Date",
              "yaxis2_title": "S&P 500 Cumulative Percent Change",
              "yaxis_title": "MMM Cumulative Percent Change"
             }
            ],
            "label": "6 Months",
            "method": "update"
           },
           {
            "args": [
             {
              "visible": [
               true,
               true
              ]
             },
             {
              "title": "MMM Cumulative Percent Change compared to S&P 500 from 2022-01-01 to 2022-02-01",
              "xaxis_title": "Date",
              "yaxis2_title": "S&P 500 Cumulative Percent Change",
              "yaxis_title": "MMM Cumulative Percent Change"
             }
            ],
            "label": "1 Year",
            "method": "update"
           },
           {
            "args": [
             {
              "visible": [
               true,
               true
              ]
             },
             {
              "title": "MMM Cumulative Percent Change compared to S&P 500 from 2022-01-01 to 2022-02-01",
              "xaxis_title": "Date",
              "yaxis2_title": "S&P 500 Cumulative Percent Change",
              "yaxis_title": "MMM Cumulative Percent Change"
             }
            ],
            "label": "3 Years",
            "method": "update"
           },
           {
            "args": [
             {
              "visible": [
               true,
               true
              ]
             },
             {
              "title": "MMM Cumulative Percent Change compared to S&P 500 from 2022-01-01 to 2022-02-01",
              "xaxis_title": "Date",
              "yaxis2_title": "S&P 500 Cumulative Percent Change",
              "yaxis_title": "MMM Cumulative Percent Change"
             }
            ],
            "label": "5 Years",
            "method": "update"
           }
          ],
          "direction": "down",
          "showactive": true,
          "x": 0.1,
          "xanchor": "left",
          "y": 1.1,
          "yanchor": "top"
         }
        ],
        "xaxis": {
         "anchor": "y",
         "domain": [
          0,
          0.94
         ],
         "title": {
          "text": "Date"
         }
        },
        "yaxis": {
         "anchor": "x",
         "domain": [
          0,
          1
         ],
         "title": {
          "text": "MMM Cumulative Percent Change"
         }
        },
        "yaxis2": {
         "anchor": "x",
         "overlaying": "y",
         "side": "right",
         "title": {
          "text": "S&P 500 Cumulative Percent Change"
         }
        }
       }
      }
     },
     "metadata": {},
     "output_type": "display_data"
    },
    {
     "ename": "",
     "evalue": "",
     "output_type": "error",
     "traceback": [
      "\u001b[1;31mThe Kernel crashed while executing code in the current cell or a previous cell. \n",
      "\u001b[1;31mPlease review the code in the cell(s) to identify a possible cause of the failure. \n",
      "\u001b[1;31mClick <a href='https://aka.ms/vscodeJupyterKernelCrash'>here</a> for more info. \n",
      "\u001b[1;31mView Jupyter <a href='command:jupyter.viewOutput'>log</a> for further details."
     ]
    }
   ],
   "source": [
    "# Add dropdown list for changing time frame\n",
    "fig.update_layout(\n",
    "    updatemenus=[\n",
    "        dict(\n",
    "            buttons=list([\n",
    "                dict(label=\"1 Month\", method=\"update\", args=[{\"visible\": [True, True]}, {\"title\": f'{symbol} Cumulative Percent Change compared to S&P 500 from {start_date_str} to {end_date_str}', \"xaxis_title\": \"Date\", \"yaxis_title\": f'{symbol} Cumulative Percent Change', \"yaxis2_title\": \"S&P 500 Cumulative Percent Change\"}]),\n",
    "                dict(label=\"6 Months\", method=\"update\", args=[{\"visible\": [True, True]}, {\"title\": f'{symbol} Cumulative Percent Change compared to S&P 500 from {start_date_str} to {end_date_str}', \"xaxis_title\": \"Date\", \"yaxis_title\": f'{symbol} Cumulative Percent Change', \"yaxis2_title\": \"S&P 500 Cumulative Percent Change\"}]),\n",
    "                dict(label=\"1 Year\", method=\"update\", args=[{\"visible\": [True, True]}, {\"title\": f'{symbol} Cumulative Percent Change compared to S&P 500 from {start_date_str} to {end_date_str}', \"xaxis_title\": \"Date\", \"yaxis_title\": f'{symbol} Cumulative Percent Change', \"yaxis2_title\": \"S&P 500 Cumulative Percent Change\"}]),\n",
    "                dict(label=\"3 Years\", method=\"update\", args=[{\"visible\": [True, True]}, {\"title\": f'{symbol} Cumulative Percent Change compared to S&P 500 from {start_date_str} to {end_date_str}', \"xaxis_title\": \"Date\", \"yaxis_title\": f'{symbol} Cumulative Percent Change', \"yaxis2_title\": \"S&P 500 Cumulative Percent Change\"}]),\n",
    "                dict(label=\"5 Years\", method=\"update\", args=[{\"visible\": [True, True]}, {\"title\": f'{symbol} Cumulative Percent Change compared to S&P 500 from {start_date_str} to {end_date_str}', \"xaxis_title\": \"Date\", \"yaxis_title\": f'{symbol} Cumulative Percent Change', \"yaxis2_title\": \"S&P 500 Cumulative Percent Change\"}]),\n",
    "            ]),\n",
    "            direction=\"down\",\n",
    "            showactive=True,\n",
    "            x=0.1,\n",
    "            xanchor=\"left\",\n",
    "            y=1.1,\n",
    "            yanchor=\"top\"\n",
    "        ),\n",
    "    ]\n",
    ")\n"
   ]
  },
  {
   "cell_type": "code",
   "execution_count": 72,
   "metadata": {},
   "outputs": [
    {
     "ename": "SyntaxError",
     "evalue": "incomplete input (2439545826.py, line 24)",
     "output_type": "error",
     "traceback": [
      "\u001b[1;36m  Cell \u001b[1;32mIn[72], line 24\u001b[1;36m\u001b[0m\n\u001b[1;33m    )\u001b[0m\n\u001b[1;37m     ^\u001b[0m\n\u001b[1;31mSyntaxError\u001b[0m\u001b[1;31m:\u001b[0m incomplete input\n"
     ]
    }
   ],
   "source": [
    "# Add input box for updating stock symbol\n",
    "fig.update_layout(\n",
    "    annotations=[\n",
    "        dict(\n",
    "            text=\"Enter Stock Symbol:\",\n",
    "            x=0,\n",
    "            xref=\"paper\",\n",
    "            y=1.05,\n",
    "            yref=\"paper\",\n",
    "            align=\"left\",\n",
    "            showarrow=False\n",
    "        ),\n",
    "    ]\n",
    ")\n",
    "\n",
    "app.layout = html.Div([\n",
    "    dcc.Graph(id='plot', figure=fig),\n",
    "    dcc.Input(id='stock-symbol', value=symbol, type='text', debounce=True),\n",
    "])\n",
    "\n",
    "@app.callback(\n",
    "    Output('plot', 'figure'),\n",
    "    [Input('stock-symbol', 'value')]\n",
    ")"
   ]
  }
 ],
 "metadata": {
  "kernelspec": {
   "display_name": "dev",
   "language": "python",
   "name": "python3"
  },
  "language_info": {
   "codemirror_mode": {
    "name": "ipython",
    "version": 3
   },
   "file_extension": ".py",
   "mimetype": "text/x-python",
   "name": "python",
   "nbconvert_exporter": "python",
   "pygments_lexer": "ipython3",
   "version": "3.10.13"
  }
 },
 "nbformat": 4,
 "nbformat_minor": 2
}
