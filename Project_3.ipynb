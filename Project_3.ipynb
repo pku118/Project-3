{
 "cells": [
  {
   "cell_type": "code",
   "execution_count": 80,
   "metadata": {},
   "outputs": [],
   "source": [
    "import pandas as pd\n",
    "import matplotlib.pyplot as plt\n",
    "from matplotlib.dates import MonthLocator, YearLocator, DateFormatter\n",
    "from matplotlib.ticker import MultipleLocator\n",
    "from matplotlib.animation import FuncAnimation\n",
    "import sqlite3\n",
    "from datetime import datetime\n",
    "import plotly.graph_objs as go\n",
    "import dash\n",
    "from dash import dcc, html\n",
    "from dash.dependencies import Input, Output\n",
    "from plotly.subplots import make_subplots"
   ]
  },
  {
   "cell_type": "code",
   "execution_count": 81,
   "metadata": {},
   "outputs": [],
   "source": [
    "# Connect to the SQLite database\n",
    "conn = sqlite3.connect('data/sp500_data.db')"
   ]
  },
  {
   "cell_type": "code",
   "execution_count": 82,
   "metadata": {},
   "outputs": [],
   "source": [
    "# Initialize the Dash app\n",
    "app = dash.Dash(__name__)"
   ]
  },
  {
   "cell_type": "code",
   "execution_count": 83,
   "metadata": {},
   "outputs": [],
   "source": [
    "# Ask the user for input\n",
    "symbol = input(\"Enter the stock symbol: \")\n",
    "start_date_str = input(\"Enter the start date (YYYY-MM-DD): \")\n",
    "end_date_str = input(\"Enter the end date (YYYY-MM-DD): \")\n",
    "\n"
   ]
  },
  {
   "cell_type": "code",
   "execution_count": 84,
   "metadata": {},
   "outputs": [],
   "source": [
    "# Convert the input strings to datetime objects\n",
    "start_date = datetime.strptime(start_date_str, '%Y-%m-%d')\n",
    "end_date = datetime.strptime(end_date_str, '%Y-%m-%d')\n"
   ]
  },
  {
   "cell_type": "code",
   "execution_count": 85,
   "metadata": {},
   "outputs": [],
   "source": [
    "# Construct the SQL query\n",
    "sql_query = f\"SELECT * FROM stocks WHERE Symbol = ? AND Date >= ? AND Date <= ?\""
   ]
  },
  {
   "cell_type": "code",
   "execution_count": 86,
   "metadata": {},
   "outputs": [],
   "source": [
    "# Execute the query with user input\n",
    "cursor = conn.cursor()\n",
    "cursor.execute(sql_query, (symbol, start_date_str, end_date_str))\n",
    "# Fetch all the rows\n",
    "rowstockdata = cursor.fetchall()\n"
   ]
  },
  {
   "cell_type": "code",
   "execution_count": 87,
   "metadata": {},
   "outputs": [
    {
     "data": {
      "text/html": [
       "<div>\n",
       "<style scoped>\n",
       "    .dataframe tbody tr th:only-of-type {\n",
       "        vertical-align: middle;\n",
       "    }\n",
       "\n",
       "    .dataframe tbody tr th {\n",
       "        vertical-align: top;\n",
       "    }\n",
       "\n",
       "    .dataframe thead th {\n",
       "        text-align: right;\n",
       "    }\n",
       "</style>\n",
       "<table border=\"1\" class=\"dataframe\">\n",
       "  <thead>\n",
       "    <tr style=\"text-align: right;\">\n",
       "      <th></th>\n",
       "      <th>Date</th>\n",
       "      <th>Symbol</th>\n",
       "      <th>Adj Close</th>\n",
       "      <th>Close</th>\n",
       "      <th>High</th>\n",
       "      <th>Low</th>\n",
       "      <th>Open</th>\n",
       "      <th>Volume</th>\n",
       "      <th>Shortname</th>\n",
       "    </tr>\n",
       "  </thead>\n",
       "  <tbody>\n",
       "    <tr>\n",
       "      <th>0</th>\n",
       "      <td>2020-01-02 00:00:00.000000</td>\n",
       "      <td>AAPL</td>\n",
       "      <td>74.207466</td>\n",
       "      <td>75.087502</td>\n",
       "      <td>75.150002</td>\n",
       "      <td>73.797501</td>\n",
       "      <td>74.059998</td>\n",
       "      <td>135480400.0</td>\n",
       "      <td>Apple Inc.</td>\n",
       "    </tr>\n",
       "    <tr>\n",
       "      <th>1</th>\n",
       "      <td>2020-01-03 00:00:00.000000</td>\n",
       "      <td>AAPL</td>\n",
       "      <td>73.486023</td>\n",
       "      <td>74.357498</td>\n",
       "      <td>75.144997</td>\n",
       "      <td>74.125000</td>\n",
       "      <td>74.287498</td>\n",
       "      <td>146322800.0</td>\n",
       "      <td>Apple Inc.</td>\n",
       "    </tr>\n",
       "    <tr>\n",
       "      <th>2</th>\n",
       "      <td>2020-01-06 00:00:00.000000</td>\n",
       "      <td>AAPL</td>\n",
       "      <td>74.071579</td>\n",
       "      <td>74.949997</td>\n",
       "      <td>74.989998</td>\n",
       "      <td>73.187500</td>\n",
       "      <td>73.447502</td>\n",
       "      <td>118387200.0</td>\n",
       "      <td>Apple Inc.</td>\n",
       "    </tr>\n",
       "    <tr>\n",
       "      <th>3</th>\n",
       "      <td>2020-01-07 00:00:00.000000</td>\n",
       "      <td>AAPL</td>\n",
       "      <td>73.723213</td>\n",
       "      <td>74.597504</td>\n",
       "      <td>75.224998</td>\n",
       "      <td>74.370003</td>\n",
       "      <td>74.959999</td>\n",
       "      <td>108872000.0</td>\n",
       "      <td>Apple Inc.</td>\n",
       "    </tr>\n",
       "    <tr>\n",
       "      <th>4</th>\n",
       "      <td>2020-01-08 00:00:00.000000</td>\n",
       "      <td>AAPL</td>\n",
       "      <td>74.909149</td>\n",
       "      <td>75.797501</td>\n",
       "      <td>76.110001</td>\n",
       "      <td>74.290001</td>\n",
       "      <td>74.290001</td>\n",
       "      <td>132079200.0</td>\n",
       "      <td>Apple Inc.</td>\n",
       "    </tr>\n",
       "    <tr>\n",
       "      <th>...</th>\n",
       "      <td>...</td>\n",
       "      <td>...</td>\n",
       "      <td>...</td>\n",
       "      <td>...</td>\n",
       "      <td>...</td>\n",
       "      <td>...</td>\n",
       "      <td>...</td>\n",
       "      <td>...</td>\n",
       "      <td>...</td>\n",
       "    </tr>\n",
       "    <tr>\n",
       "      <th>98</th>\n",
       "      <td>2020-05-22 00:00:00.000000</td>\n",
       "      <td>AAPL</td>\n",
       "      <td>79.188927</td>\n",
       "      <td>79.722504</td>\n",
       "      <td>79.807503</td>\n",
       "      <td>78.837502</td>\n",
       "      <td>78.942497</td>\n",
       "      <td>81803200.0</td>\n",
       "      <td>Apple Inc.</td>\n",
       "    </tr>\n",
       "    <tr>\n",
       "      <th>99</th>\n",
       "      <td>2020-05-26 00:00:00.000000</td>\n",
       "      <td>AAPL</td>\n",
       "      <td>78.652542</td>\n",
       "      <td>79.182503</td>\n",
       "      <td>81.059998</td>\n",
       "      <td>79.125000</td>\n",
       "      <td>80.875000</td>\n",
       "      <td>125522000.0</td>\n",
       "      <td>Apple Inc.</td>\n",
       "    </tr>\n",
       "    <tr>\n",
       "      <th>100</th>\n",
       "      <td>2020-05-27 00:00:00.000000</td>\n",
       "      <td>AAPL</td>\n",
       "      <td>78.995224</td>\n",
       "      <td>79.527496</td>\n",
       "      <td>79.677498</td>\n",
       "      <td>78.272499</td>\n",
       "      <td>79.035004</td>\n",
       "      <td>112945200.0</td>\n",
       "      <td>Apple Inc.</td>\n",
       "    </tr>\n",
       "    <tr>\n",
       "      <th>101</th>\n",
       "      <td>2020-05-28 00:00:00.000000</td>\n",
       "      <td>AAPL</td>\n",
       "      <td>79.029984</td>\n",
       "      <td>79.562500</td>\n",
       "      <td>80.860001</td>\n",
       "      <td>78.907501</td>\n",
       "      <td>79.192497</td>\n",
       "      <td>133560800.0</td>\n",
       "      <td>Apple Inc.</td>\n",
       "    </tr>\n",
       "    <tr>\n",
       "      <th>102</th>\n",
       "      <td>2020-05-29 00:00:00.000000</td>\n",
       "      <td>AAPL</td>\n",
       "      <td>78.953018</td>\n",
       "      <td>79.485001</td>\n",
       "      <td>80.287498</td>\n",
       "      <td>79.117500</td>\n",
       "      <td>79.812500</td>\n",
       "      <td>153532400.0</td>\n",
       "      <td>Apple Inc.</td>\n",
       "    </tr>\n",
       "  </tbody>\n",
       "</table>\n",
       "<p>103 rows × 9 columns</p>\n",
       "</div>"
      ],
      "text/plain": [
       "                           Date Symbol  Adj Close      Close       High  \\\n",
       "0    2020-01-02 00:00:00.000000   AAPL  74.207466  75.087502  75.150002   \n",
       "1    2020-01-03 00:00:00.000000   AAPL  73.486023  74.357498  75.144997   \n",
       "2    2020-01-06 00:00:00.000000   AAPL  74.071579  74.949997  74.989998   \n",
       "3    2020-01-07 00:00:00.000000   AAPL  73.723213  74.597504  75.224998   \n",
       "4    2020-01-08 00:00:00.000000   AAPL  74.909149  75.797501  76.110001   \n",
       "..                          ...    ...        ...        ...        ...   \n",
       "98   2020-05-22 00:00:00.000000   AAPL  79.188927  79.722504  79.807503   \n",
       "99   2020-05-26 00:00:00.000000   AAPL  78.652542  79.182503  81.059998   \n",
       "100  2020-05-27 00:00:00.000000   AAPL  78.995224  79.527496  79.677498   \n",
       "101  2020-05-28 00:00:00.000000   AAPL  79.029984  79.562500  80.860001   \n",
       "102  2020-05-29 00:00:00.000000   AAPL  78.953018  79.485001  80.287498   \n",
       "\n",
       "           Low       Open       Volume   Shortname  \n",
       "0    73.797501  74.059998  135480400.0  Apple Inc.  \n",
       "1    74.125000  74.287498  146322800.0  Apple Inc.  \n",
       "2    73.187500  73.447502  118387200.0  Apple Inc.  \n",
       "3    74.370003  74.959999  108872000.0  Apple Inc.  \n",
       "4    74.290001  74.290001  132079200.0  Apple Inc.  \n",
       "..         ...        ...          ...         ...  \n",
       "98   78.837502  78.942497   81803200.0  Apple Inc.  \n",
       "99   79.125000  80.875000  125522000.0  Apple Inc.  \n",
       "100  78.272499  79.035004  112945200.0  Apple Inc.  \n",
       "101  78.907501  79.192497  133560800.0  Apple Inc.  \n",
       "102  79.117500  79.812500  153532400.0  Apple Inc.  \n",
       "\n",
       "[103 rows x 9 columns]"
      ]
     },
     "execution_count": 87,
     "metadata": {},
     "output_type": "execute_result"
    }
   ],
   "source": [
    "# Create a DataFrame from the query results\n",
    "columns = [description[0] for description in cursor.description]\n",
    "df_stockdata = pd.DataFrame(rowstockdata, columns=columns)\n",
    "df_stockdata"
   ]
  },
  {
   "cell_type": "code",
   "execution_count": 88,
   "metadata": {},
   "outputs": [],
   "source": [
    "# Add a percent change column to the DataFrame\n",
    "df_stockdata['Percent_Change'] = df_stockdata['Adj Close'].pct_change() * 100\n",
    "# Replace all NaN values in the Percent_Change column with 0\n",
    "df_stockdata['Percent_Change'].fillna(0, inplace=True)"
   ]
  },
  {
   "cell_type": "code",
   "execution_count": 89,
   "metadata": {},
   "outputs": [
    {
     "data": {
      "text/html": [
       "<div>\n",
       "<style scoped>\n",
       "    .dataframe tbody tr th:only-of-type {\n",
       "        vertical-align: middle;\n",
       "    }\n",
       "\n",
       "    .dataframe tbody tr th {\n",
       "        vertical-align: top;\n",
       "    }\n",
       "\n",
       "    .dataframe thead th {\n",
       "        text-align: right;\n",
       "    }\n",
       "</style>\n",
       "<table border=\"1\" class=\"dataframe\">\n",
       "  <thead>\n",
       "    <tr style=\"text-align: right;\">\n",
       "      <th></th>\n",
       "      <th>Date</th>\n",
       "      <th>Symbol</th>\n",
       "      <th>Adj Close</th>\n",
       "      <th>Close</th>\n",
       "      <th>High</th>\n",
       "      <th>Low</th>\n",
       "      <th>Open</th>\n",
       "      <th>Volume</th>\n",
       "      <th>Shortname</th>\n",
       "      <th>Percent_Change</th>\n",
       "    </tr>\n",
       "  </thead>\n",
       "  <tbody>\n",
       "    <tr>\n",
       "      <th>0</th>\n",
       "      <td>2020-01-02 00:00:00.000000</td>\n",
       "      <td>AAPL</td>\n",
       "      <td>74.207466</td>\n",
       "      <td>75.087502</td>\n",
       "      <td>75.150002</td>\n",
       "      <td>73.797501</td>\n",
       "      <td>74.059998</td>\n",
       "      <td>135480400.0</td>\n",
       "      <td>Apple Inc.</td>\n",
       "      <td>0.000000</td>\n",
       "    </tr>\n",
       "    <tr>\n",
       "      <th>1</th>\n",
       "      <td>2020-01-03 00:00:00.000000</td>\n",
       "      <td>AAPL</td>\n",
       "      <td>73.486023</td>\n",
       "      <td>74.357498</td>\n",
       "      <td>75.144997</td>\n",
       "      <td>74.125000</td>\n",
       "      <td>74.287498</td>\n",
       "      <td>146322800.0</td>\n",
       "      <td>Apple Inc.</td>\n",
       "      <td>-0.972198</td>\n",
       "    </tr>\n",
       "    <tr>\n",
       "      <th>2</th>\n",
       "      <td>2020-01-06 00:00:00.000000</td>\n",
       "      <td>AAPL</td>\n",
       "      <td>74.071579</td>\n",
       "      <td>74.949997</td>\n",
       "      <td>74.989998</td>\n",
       "      <td>73.187500</td>\n",
       "      <td>73.447502</td>\n",
       "      <td>118387200.0</td>\n",
       "      <td>Apple Inc.</td>\n",
       "      <td>0.796826</td>\n",
       "    </tr>\n",
       "    <tr>\n",
       "      <th>3</th>\n",
       "      <td>2020-01-07 00:00:00.000000</td>\n",
       "      <td>AAPL</td>\n",
       "      <td>73.723213</td>\n",
       "      <td>74.597504</td>\n",
       "      <td>75.224998</td>\n",
       "      <td>74.370003</td>\n",
       "      <td>74.959999</td>\n",
       "      <td>108872000.0</td>\n",
       "      <td>Apple Inc.</td>\n",
       "      <td>-0.470310</td>\n",
       "    </tr>\n",
       "    <tr>\n",
       "      <th>4</th>\n",
       "      <td>2020-01-08 00:00:00.000000</td>\n",
       "      <td>AAPL</td>\n",
       "      <td>74.909149</td>\n",
       "      <td>75.797501</td>\n",
       "      <td>76.110001</td>\n",
       "      <td>74.290001</td>\n",
       "      <td>74.290001</td>\n",
       "      <td>132079200.0</td>\n",
       "      <td>Apple Inc.</td>\n",
       "      <td>1.608633</td>\n",
       "    </tr>\n",
       "    <tr>\n",
       "      <th>...</th>\n",
       "      <td>...</td>\n",
       "      <td>...</td>\n",
       "      <td>...</td>\n",
       "      <td>...</td>\n",
       "      <td>...</td>\n",
       "      <td>...</td>\n",
       "      <td>...</td>\n",
       "      <td>...</td>\n",
       "      <td>...</td>\n",
       "      <td>...</td>\n",
       "    </tr>\n",
       "    <tr>\n",
       "      <th>98</th>\n",
       "      <td>2020-05-22 00:00:00.000000</td>\n",
       "      <td>AAPL</td>\n",
       "      <td>79.188927</td>\n",
       "      <td>79.722504</td>\n",
       "      <td>79.807503</td>\n",
       "      <td>78.837502</td>\n",
       "      <td>78.942497</td>\n",
       "      <td>81803200.0</td>\n",
       "      <td>Apple Inc.</td>\n",
       "      <td>0.643854</td>\n",
       "    </tr>\n",
       "    <tr>\n",
       "      <th>99</th>\n",
       "      <td>2020-05-26 00:00:00.000000</td>\n",
       "      <td>AAPL</td>\n",
       "      <td>78.652542</td>\n",
       "      <td>79.182503</td>\n",
       "      <td>81.059998</td>\n",
       "      <td>79.125000</td>\n",
       "      <td>80.875000</td>\n",
       "      <td>125522000.0</td>\n",
       "      <td>Apple Inc.</td>\n",
       "      <td>-0.677348</td>\n",
       "    </tr>\n",
       "    <tr>\n",
       "      <th>100</th>\n",
       "      <td>2020-05-27 00:00:00.000000</td>\n",
       "      <td>AAPL</td>\n",
       "      <td>78.995224</td>\n",
       "      <td>79.527496</td>\n",
       "      <td>79.677498</td>\n",
       "      <td>78.272499</td>\n",
       "      <td>79.035004</td>\n",
       "      <td>112945200.0</td>\n",
       "      <td>Apple Inc.</td>\n",
       "      <td>0.435691</td>\n",
       "    </tr>\n",
       "    <tr>\n",
       "      <th>101</th>\n",
       "      <td>2020-05-28 00:00:00.000000</td>\n",
       "      <td>AAPL</td>\n",
       "      <td>79.029984</td>\n",
       "      <td>79.562500</td>\n",
       "      <td>80.860001</td>\n",
       "      <td>78.907501</td>\n",
       "      <td>79.192497</td>\n",
       "      <td>133560800.0</td>\n",
       "      <td>Apple Inc.</td>\n",
       "      <td>0.044002</td>\n",
       "    </tr>\n",
       "    <tr>\n",
       "      <th>102</th>\n",
       "      <td>2020-05-29 00:00:00.000000</td>\n",
       "      <td>AAPL</td>\n",
       "      <td>78.953018</td>\n",
       "      <td>79.485001</td>\n",
       "      <td>80.287498</td>\n",
       "      <td>79.117500</td>\n",
       "      <td>79.812500</td>\n",
       "      <td>153532400.0</td>\n",
       "      <td>Apple Inc.</td>\n",
       "      <td>-0.097388</td>\n",
       "    </tr>\n",
       "  </tbody>\n",
       "</table>\n",
       "<p>103 rows × 10 columns</p>\n",
       "</div>"
      ],
      "text/plain": [
       "                           Date Symbol  Adj Close      Close       High  \\\n",
       "0    2020-01-02 00:00:00.000000   AAPL  74.207466  75.087502  75.150002   \n",
       "1    2020-01-03 00:00:00.000000   AAPL  73.486023  74.357498  75.144997   \n",
       "2    2020-01-06 00:00:00.000000   AAPL  74.071579  74.949997  74.989998   \n",
       "3    2020-01-07 00:00:00.000000   AAPL  73.723213  74.597504  75.224998   \n",
       "4    2020-01-08 00:00:00.000000   AAPL  74.909149  75.797501  76.110001   \n",
       "..                          ...    ...        ...        ...        ...   \n",
       "98   2020-05-22 00:00:00.000000   AAPL  79.188927  79.722504  79.807503   \n",
       "99   2020-05-26 00:00:00.000000   AAPL  78.652542  79.182503  81.059998   \n",
       "100  2020-05-27 00:00:00.000000   AAPL  78.995224  79.527496  79.677498   \n",
       "101  2020-05-28 00:00:00.000000   AAPL  79.029984  79.562500  80.860001   \n",
       "102  2020-05-29 00:00:00.000000   AAPL  78.953018  79.485001  80.287498   \n",
       "\n",
       "           Low       Open       Volume   Shortname  Percent_Change  \n",
       "0    73.797501  74.059998  135480400.0  Apple Inc.        0.000000  \n",
       "1    74.125000  74.287498  146322800.0  Apple Inc.       -0.972198  \n",
       "2    73.187500  73.447502  118387200.0  Apple Inc.        0.796826  \n",
       "3    74.370003  74.959999  108872000.0  Apple Inc.       -0.470310  \n",
       "4    74.290001  74.290001  132079200.0  Apple Inc.        1.608633  \n",
       "..         ...        ...          ...         ...             ...  \n",
       "98   78.837502  78.942497   81803200.0  Apple Inc.        0.643854  \n",
       "99   79.125000  80.875000  125522000.0  Apple Inc.       -0.677348  \n",
       "100  78.272499  79.035004  112945200.0  Apple Inc.        0.435691  \n",
       "101  78.907501  79.192497  133560800.0  Apple Inc.        0.044002  \n",
       "102  79.117500  79.812500  153532400.0  Apple Inc.       -0.097388  \n",
       "\n",
       "[103 rows x 10 columns]"
      ]
     },
     "execution_count": 89,
     "metadata": {},
     "output_type": "execute_result"
    }
   ],
   "source": [
    "# Print the DataFrame\n",
    "df_stockdata"
   ]
  },
  {
   "cell_type": "code",
   "execution_count": 90,
   "metadata": {},
   "outputs": [
    {
     "data": {
      "text/html": [
       "<div>\n",
       "<style scoped>\n",
       "    .dataframe tbody tr th:only-of-type {\n",
       "        vertical-align: middle;\n",
       "    }\n",
       "\n",
       "    .dataframe tbody tr th {\n",
       "        vertical-align: top;\n",
       "    }\n",
       "\n",
       "    .dataframe thead th {\n",
       "        text-align: right;\n",
       "    }\n",
       "</style>\n",
       "<table border=\"1\" class=\"dataframe\">\n",
       "  <thead>\n",
       "    <tr style=\"text-align: right;\">\n",
       "      <th></th>\n",
       "      <th>Date</th>\n",
       "      <th>Symbol</th>\n",
       "      <th>Adj Close</th>\n",
       "      <th>Close</th>\n",
       "      <th>High</th>\n",
       "      <th>Low</th>\n",
       "      <th>Open</th>\n",
       "      <th>Volume</th>\n",
       "      <th>Shortname</th>\n",
       "      <th>Percent_Change</th>\n",
       "      <th>Cumulative_Percent_Change</th>\n",
       "    </tr>\n",
       "  </thead>\n",
       "  <tbody>\n",
       "    <tr>\n",
       "      <th>0</th>\n",
       "      <td>2020-01-02 00:00:00.000000</td>\n",
       "      <td>AAPL</td>\n",
       "      <td>74.207466</td>\n",
       "      <td>75.087502</td>\n",
       "      <td>75.150002</td>\n",
       "      <td>73.797501</td>\n",
       "      <td>74.059998</td>\n",
       "      <td>135480400.0</td>\n",
       "      <td>Apple Inc.</td>\n",
       "      <td>0.000000</td>\n",
       "      <td>0.000000</td>\n",
       "    </tr>\n",
       "    <tr>\n",
       "      <th>1</th>\n",
       "      <td>2020-01-03 00:00:00.000000</td>\n",
       "      <td>AAPL</td>\n",
       "      <td>73.486023</td>\n",
       "      <td>74.357498</td>\n",
       "      <td>75.144997</td>\n",
       "      <td>74.125000</td>\n",
       "      <td>74.287498</td>\n",
       "      <td>146322800.0</td>\n",
       "      <td>Apple Inc.</td>\n",
       "      <td>-0.972198</td>\n",
       "      <td>-0.972198</td>\n",
       "    </tr>\n",
       "    <tr>\n",
       "      <th>2</th>\n",
       "      <td>2020-01-06 00:00:00.000000</td>\n",
       "      <td>AAPL</td>\n",
       "      <td>74.071579</td>\n",
       "      <td>74.949997</td>\n",
       "      <td>74.989998</td>\n",
       "      <td>73.187500</td>\n",
       "      <td>73.447502</td>\n",
       "      <td>118387200.0</td>\n",
       "      <td>Apple Inc.</td>\n",
       "      <td>0.796826</td>\n",
       "      <td>-0.183118</td>\n",
       "    </tr>\n",
       "    <tr>\n",
       "      <th>3</th>\n",
       "      <td>2020-01-07 00:00:00.000000</td>\n",
       "      <td>AAPL</td>\n",
       "      <td>73.723213</td>\n",
       "      <td>74.597504</td>\n",
       "      <td>75.224998</td>\n",
       "      <td>74.370003</td>\n",
       "      <td>74.959999</td>\n",
       "      <td>108872000.0</td>\n",
       "      <td>Apple Inc.</td>\n",
       "      <td>-0.470310</td>\n",
       "      <td>-0.652566</td>\n",
       "    </tr>\n",
       "    <tr>\n",
       "      <th>4</th>\n",
       "      <td>2020-01-08 00:00:00.000000</td>\n",
       "      <td>AAPL</td>\n",
       "      <td>74.909149</td>\n",
       "      <td>75.797501</td>\n",
       "      <td>76.110001</td>\n",
       "      <td>74.290001</td>\n",
       "      <td>74.290001</td>\n",
       "      <td>132079200.0</td>\n",
       "      <td>Apple Inc.</td>\n",
       "      <td>1.608633</td>\n",
       "      <td>0.945569</td>\n",
       "    </tr>\n",
       "    <tr>\n",
       "      <th>...</th>\n",
       "      <td>...</td>\n",
       "      <td>...</td>\n",
       "      <td>...</td>\n",
       "      <td>...</td>\n",
       "      <td>...</td>\n",
       "      <td>...</td>\n",
       "      <td>...</td>\n",
       "      <td>...</td>\n",
       "      <td>...</td>\n",
       "      <td>...</td>\n",
       "      <td>...</td>\n",
       "    </tr>\n",
       "    <tr>\n",
       "      <th>98</th>\n",
       "      <td>2020-05-22 00:00:00.000000</td>\n",
       "      <td>AAPL</td>\n",
       "      <td>79.188927</td>\n",
       "      <td>79.722504</td>\n",
       "      <td>79.807503</td>\n",
       "      <td>78.837502</td>\n",
       "      <td>78.942497</td>\n",
       "      <td>81803200.0</td>\n",
       "      <td>Apple Inc.</td>\n",
       "      <td>0.643854</td>\n",
       "      <td>6.712883</td>\n",
       "    </tr>\n",
       "    <tr>\n",
       "      <th>99</th>\n",
       "      <td>2020-05-26 00:00:00.000000</td>\n",
       "      <td>AAPL</td>\n",
       "      <td>78.652542</td>\n",
       "      <td>79.182503</td>\n",
       "      <td>81.059998</td>\n",
       "      <td>79.125000</td>\n",
       "      <td>80.875000</td>\n",
       "      <td>125522000.0</td>\n",
       "      <td>Apple Inc.</td>\n",
       "      <td>-0.677348</td>\n",
       "      <td>5.990066</td>\n",
       "    </tr>\n",
       "    <tr>\n",
       "      <th>100</th>\n",
       "      <td>2020-05-27 00:00:00.000000</td>\n",
       "      <td>AAPL</td>\n",
       "      <td>78.995224</td>\n",
       "      <td>79.527496</td>\n",
       "      <td>79.677498</td>\n",
       "      <td>78.272499</td>\n",
       "      <td>79.035004</td>\n",
       "      <td>112945200.0</td>\n",
       "      <td>Apple Inc.</td>\n",
       "      <td>0.435691</td>\n",
       "      <td>6.451855</td>\n",
       "    </tr>\n",
       "    <tr>\n",
       "      <th>101</th>\n",
       "      <td>2020-05-28 00:00:00.000000</td>\n",
       "      <td>AAPL</td>\n",
       "      <td>79.029984</td>\n",
       "      <td>79.562500</td>\n",
       "      <td>80.860001</td>\n",
       "      <td>78.907501</td>\n",
       "      <td>79.192497</td>\n",
       "      <td>133560800.0</td>\n",
       "      <td>Apple Inc.</td>\n",
       "      <td>0.044002</td>\n",
       "      <td>6.498696</td>\n",
       "    </tr>\n",
       "    <tr>\n",
       "      <th>102</th>\n",
       "      <td>2020-05-29 00:00:00.000000</td>\n",
       "      <td>AAPL</td>\n",
       "      <td>78.953018</td>\n",
       "      <td>79.485001</td>\n",
       "      <td>80.287498</td>\n",
       "      <td>79.117500</td>\n",
       "      <td>79.812500</td>\n",
       "      <td>153532400.0</td>\n",
       "      <td>Apple Inc.</td>\n",
       "      <td>-0.097388</td>\n",
       "      <td>6.394979</td>\n",
       "    </tr>\n",
       "  </tbody>\n",
       "</table>\n",
       "<p>103 rows × 11 columns</p>\n",
       "</div>"
      ],
      "text/plain": [
       "                           Date Symbol  Adj Close      Close       High  \\\n",
       "0    2020-01-02 00:00:00.000000   AAPL  74.207466  75.087502  75.150002   \n",
       "1    2020-01-03 00:00:00.000000   AAPL  73.486023  74.357498  75.144997   \n",
       "2    2020-01-06 00:00:00.000000   AAPL  74.071579  74.949997  74.989998   \n",
       "3    2020-01-07 00:00:00.000000   AAPL  73.723213  74.597504  75.224998   \n",
       "4    2020-01-08 00:00:00.000000   AAPL  74.909149  75.797501  76.110001   \n",
       "..                          ...    ...        ...        ...        ...   \n",
       "98   2020-05-22 00:00:00.000000   AAPL  79.188927  79.722504  79.807503   \n",
       "99   2020-05-26 00:00:00.000000   AAPL  78.652542  79.182503  81.059998   \n",
       "100  2020-05-27 00:00:00.000000   AAPL  78.995224  79.527496  79.677498   \n",
       "101  2020-05-28 00:00:00.000000   AAPL  79.029984  79.562500  80.860001   \n",
       "102  2020-05-29 00:00:00.000000   AAPL  78.953018  79.485001  80.287498   \n",
       "\n",
       "           Low       Open       Volume   Shortname  Percent_Change  \\\n",
       "0    73.797501  74.059998  135480400.0  Apple Inc.        0.000000   \n",
       "1    74.125000  74.287498  146322800.0  Apple Inc.       -0.972198   \n",
       "2    73.187500  73.447502  118387200.0  Apple Inc.        0.796826   \n",
       "3    74.370003  74.959999  108872000.0  Apple Inc.       -0.470310   \n",
       "4    74.290001  74.290001  132079200.0  Apple Inc.        1.608633   \n",
       "..         ...        ...          ...         ...             ...   \n",
       "98   78.837502  78.942497   81803200.0  Apple Inc.        0.643854   \n",
       "99   79.125000  80.875000  125522000.0  Apple Inc.       -0.677348   \n",
       "100  78.272499  79.035004  112945200.0  Apple Inc.        0.435691   \n",
       "101  78.907501  79.192497  133560800.0  Apple Inc.        0.044002   \n",
       "102  79.117500  79.812500  153532400.0  Apple Inc.       -0.097388   \n",
       "\n",
       "     Cumulative_Percent_Change  \n",
       "0                     0.000000  \n",
       "1                    -0.972198  \n",
       "2                    -0.183118  \n",
       "3                    -0.652566  \n",
       "4                     0.945569  \n",
       "..                         ...  \n",
       "98                    6.712883  \n",
       "99                    5.990066  \n",
       "100                   6.451855  \n",
       "101                   6.498696  \n",
       "102                   6.394979  \n",
       "\n",
       "[103 rows x 11 columns]"
      ]
     },
     "execution_count": 90,
     "metadata": {},
     "output_type": "execute_result"
    }
   ],
   "source": [
    "# Calculate the cumulative percent change for the stock symbol\n",
    "df_stockdata['Cumulative_Percent_Change'] = ((1 + df_stockdata['Adj Close'].pct_change().fillna(0)).cumprod() * 100)-100\n",
    "df_stockdata"
   ]
  },
  {
   "cell_type": "code",
   "execution_count": 91,
   "metadata": {},
   "outputs": [],
   "source": [
    "# Construct the SQL query for the sp500 table\n",
    "sql_query_sp500 = f\"SELECT * FROM sp500 WHERE Date >= ? AND Date <= ?\""
   ]
  },
  {
   "cell_type": "code",
   "execution_count": 92,
   "metadata": {},
   "outputs": [],
   "source": [
    "# Execute the query for the sp500 table with user input\n",
    "cursor_sp500 = conn.cursor()\n",
    "cursor_sp500.execute(sql_query_sp500, (start_date_str, end_date_str))\n",
    "# Fetch all the rows from the sp500 table\n",
    "rows_sp500 = cursor_sp500.fetchall()"
   ]
  },
  {
   "cell_type": "code",
   "execution_count": 93,
   "metadata": {},
   "outputs": [],
   "source": [
    "# Create a DataFrame from the query results of the sp500 table\n",
    "columns_sp500 = [description[0] for description in cursor_sp500.description]\n",
    "df_sp500 = pd.DataFrame(rows_sp500, columns=columns_sp500)"
   ]
  },
  {
   "cell_type": "code",
   "execution_count": 94,
   "metadata": {},
   "outputs": [
    {
     "data": {
      "text/html": [
       "<div>\n",
       "<style scoped>\n",
       "    .dataframe tbody tr th:only-of-type {\n",
       "        vertical-align: middle;\n",
       "    }\n",
       "\n",
       "    .dataframe tbody tr th {\n",
       "        vertical-align: top;\n",
       "    }\n",
       "\n",
       "    .dataframe thead th {\n",
       "        text-align: right;\n",
       "    }\n",
       "</style>\n",
       "<table border=\"1\" class=\"dataframe\">\n",
       "  <thead>\n",
       "    <tr style=\"text-align: right;\">\n",
       "      <th></th>\n",
       "      <th>Date</th>\n",
       "      <th>SP500_Price</th>\n",
       "      <th>Percent_Change</th>\n",
       "    </tr>\n",
       "  </thead>\n",
       "  <tbody>\n",
       "    <tr>\n",
       "      <th>0</th>\n",
       "      <td>2020-01-02 00:00:00.000000</td>\n",
       "      <td>3257.85</td>\n",
       "      <td>NaN</td>\n",
       "    </tr>\n",
       "    <tr>\n",
       "      <th>1</th>\n",
       "      <td>2020-01-03 00:00:00.000000</td>\n",
       "      <td>3234.85</td>\n",
       "      <td>-0.705987</td>\n",
       "    </tr>\n",
       "    <tr>\n",
       "      <th>2</th>\n",
       "      <td>2020-01-06 00:00:00.000000</td>\n",
       "      <td>3246.28</td>\n",
       "      <td>0.353339</td>\n",
       "    </tr>\n",
       "    <tr>\n",
       "      <th>3</th>\n",
       "      <td>2020-01-07 00:00:00.000000</td>\n",
       "      <td>3237.18</td>\n",
       "      <td>-0.280321</td>\n",
       "    </tr>\n",
       "    <tr>\n",
       "      <th>4</th>\n",
       "      <td>2020-01-08 00:00:00.000000</td>\n",
       "      <td>3253.05</td>\n",
       "      <td>0.490242</td>\n",
       "    </tr>\n",
       "    <tr>\n",
       "      <th>...</th>\n",
       "      <td>...</td>\n",
       "      <td>...</td>\n",
       "      <td>...</td>\n",
       "    </tr>\n",
       "    <tr>\n",
       "      <th>98</th>\n",
       "      <td>2020-05-22 00:00:00.000000</td>\n",
       "      <td>2955.45</td>\n",
       "      <td>0.235373</td>\n",
       "    </tr>\n",
       "    <tr>\n",
       "      <th>99</th>\n",
       "      <td>2020-05-26 00:00:00.000000</td>\n",
       "      <td>2991.77</td>\n",
       "      <td>1.228916</td>\n",
       "    </tr>\n",
       "    <tr>\n",
       "      <th>100</th>\n",
       "      <td>2020-05-27 00:00:00.000000</td>\n",
       "      <td>3036.13</td>\n",
       "      <td>1.482734</td>\n",
       "    </tr>\n",
       "    <tr>\n",
       "      <th>101</th>\n",
       "      <td>2020-05-28 00:00:00.000000</td>\n",
       "      <td>3029.73</td>\n",
       "      <td>-0.210795</td>\n",
       "    </tr>\n",
       "    <tr>\n",
       "      <th>102</th>\n",
       "      <td>2020-05-29 00:00:00.000000</td>\n",
       "      <td>3044.31</td>\n",
       "      <td>0.481231</td>\n",
       "    </tr>\n",
       "  </tbody>\n",
       "</table>\n",
       "<p>103 rows × 3 columns</p>\n",
       "</div>"
      ],
      "text/plain": [
       "                           Date  SP500_Price  Percent_Change\n",
       "0    2020-01-02 00:00:00.000000      3257.85             NaN\n",
       "1    2020-01-03 00:00:00.000000      3234.85       -0.705987\n",
       "2    2020-01-06 00:00:00.000000      3246.28        0.353339\n",
       "3    2020-01-07 00:00:00.000000      3237.18       -0.280321\n",
       "4    2020-01-08 00:00:00.000000      3253.05        0.490242\n",
       "..                          ...          ...             ...\n",
       "98   2020-05-22 00:00:00.000000      2955.45        0.235373\n",
       "99   2020-05-26 00:00:00.000000      2991.77        1.228916\n",
       "100  2020-05-27 00:00:00.000000      3036.13        1.482734\n",
       "101  2020-05-28 00:00:00.000000      3029.73       -0.210795\n",
       "102  2020-05-29 00:00:00.000000      3044.31        0.481231\n",
       "\n",
       "[103 rows x 3 columns]"
      ]
     },
     "execution_count": 94,
     "metadata": {},
     "output_type": "execute_result"
    }
   ],
   "source": [
    "# Add a percent change column to the DataFrame for the sp500 table\n",
    "df_sp500['Percent_Change'] = df_sp500['SP500_Price'].pct_change() * 100\n",
    "df_sp500"
   ]
  },
  {
   "cell_type": "code",
   "execution_count": 95,
   "metadata": {},
   "outputs": [],
   "source": [
    "# Replace all NaN values in the Percent_Change column with 0 for the sp500 table\n",
    "df_sp500['Percent_Change'].fillna(0, inplace=True)"
   ]
  },
  {
   "cell_type": "code",
   "execution_count": 96,
   "metadata": {},
   "outputs": [
    {
     "data": {
      "text/html": [
       "<div>\n",
       "<style scoped>\n",
       "    .dataframe tbody tr th:only-of-type {\n",
       "        vertical-align: middle;\n",
       "    }\n",
       "\n",
       "    .dataframe tbody tr th {\n",
       "        vertical-align: top;\n",
       "    }\n",
       "\n",
       "    .dataframe thead th {\n",
       "        text-align: right;\n",
       "    }\n",
       "</style>\n",
       "<table border=\"1\" class=\"dataframe\">\n",
       "  <thead>\n",
       "    <tr style=\"text-align: right;\">\n",
       "      <th></th>\n",
       "      <th>Date</th>\n",
       "      <th>SP500_Price</th>\n",
       "      <th>Percent_Change</th>\n",
       "      <th>Cumulative_Percent_Change</th>\n",
       "    </tr>\n",
       "  </thead>\n",
       "  <tbody>\n",
       "    <tr>\n",
       "      <th>0</th>\n",
       "      <td>2020-01-02 00:00:00.000000</td>\n",
       "      <td>3257.85</td>\n",
       "      <td>0.000000</td>\n",
       "      <td>0.000000</td>\n",
       "    </tr>\n",
       "    <tr>\n",
       "      <th>1</th>\n",
       "      <td>2020-01-03 00:00:00.000000</td>\n",
       "      <td>3234.85</td>\n",
       "      <td>-0.705987</td>\n",
       "      <td>-0.705987</td>\n",
       "    </tr>\n",
       "    <tr>\n",
       "      <th>2</th>\n",
       "      <td>2020-01-06 00:00:00.000000</td>\n",
       "      <td>3246.28</td>\n",
       "      <td>0.353339</td>\n",
       "      <td>-0.355142</td>\n",
       "    </tr>\n",
       "    <tr>\n",
       "      <th>3</th>\n",
       "      <td>2020-01-07 00:00:00.000000</td>\n",
       "      <td>3237.18</td>\n",
       "      <td>-0.280321</td>\n",
       "      <td>-0.634468</td>\n",
       "    </tr>\n",
       "    <tr>\n",
       "      <th>4</th>\n",
       "      <td>2020-01-08 00:00:00.000000</td>\n",
       "      <td>3253.05</td>\n",
       "      <td>0.490242</td>\n",
       "      <td>-0.147336</td>\n",
       "    </tr>\n",
       "    <tr>\n",
       "      <th>...</th>\n",
       "      <td>...</td>\n",
       "      <td>...</td>\n",
       "      <td>...</td>\n",
       "      <td>...</td>\n",
       "    </tr>\n",
       "    <tr>\n",
       "      <th>98</th>\n",
       "      <td>2020-05-22 00:00:00.000000</td>\n",
       "      <td>2955.45</td>\n",
       "      <td>0.235373</td>\n",
       "      <td>-9.282195</td>\n",
       "    </tr>\n",
       "    <tr>\n",
       "      <th>99</th>\n",
       "      <td>2020-05-26 00:00:00.000000</td>\n",
       "      <td>2991.77</td>\n",
       "      <td>1.228916</td>\n",
       "      <td>-8.167350</td>\n",
       "    </tr>\n",
       "    <tr>\n",
       "      <th>100</th>\n",
       "      <td>2020-05-27 00:00:00.000000</td>\n",
       "      <td>3036.13</td>\n",
       "      <td>1.482734</td>\n",
       "      <td>-6.805715</td>\n",
       "    </tr>\n",
       "    <tr>\n",
       "      <th>101</th>\n",
       "      <td>2020-05-28 00:00:00.000000</td>\n",
       "      <td>3029.73</td>\n",
       "      <td>-0.210795</td>\n",
       "      <td>-7.002164</td>\n",
       "    </tr>\n",
       "    <tr>\n",
       "      <th>102</th>\n",
       "      <td>2020-05-29 00:00:00.000000</td>\n",
       "      <td>3044.31</td>\n",
       "      <td>0.481231</td>\n",
       "      <td>-6.554630</td>\n",
       "    </tr>\n",
       "  </tbody>\n",
       "</table>\n",
       "<p>103 rows × 4 columns</p>\n",
       "</div>"
      ],
      "text/plain": [
       "                           Date  SP500_Price  Percent_Change  \\\n",
       "0    2020-01-02 00:00:00.000000      3257.85        0.000000   \n",
       "1    2020-01-03 00:00:00.000000      3234.85       -0.705987   \n",
       "2    2020-01-06 00:00:00.000000      3246.28        0.353339   \n",
       "3    2020-01-07 00:00:00.000000      3237.18       -0.280321   \n",
       "4    2020-01-08 00:00:00.000000      3253.05        0.490242   \n",
       "..                          ...          ...             ...   \n",
       "98   2020-05-22 00:00:00.000000      2955.45        0.235373   \n",
       "99   2020-05-26 00:00:00.000000      2991.77        1.228916   \n",
       "100  2020-05-27 00:00:00.000000      3036.13        1.482734   \n",
       "101  2020-05-28 00:00:00.000000      3029.73       -0.210795   \n",
       "102  2020-05-29 00:00:00.000000      3044.31        0.481231   \n",
       "\n",
       "     Cumulative_Percent_Change  \n",
       "0                     0.000000  \n",
       "1                    -0.705987  \n",
       "2                    -0.355142  \n",
       "3                    -0.634468  \n",
       "4                    -0.147336  \n",
       "..                         ...  \n",
       "98                   -9.282195  \n",
       "99                   -8.167350  \n",
       "100                  -6.805715  \n",
       "101                  -7.002164  \n",
       "102                  -6.554630  \n",
       "\n",
       "[103 rows x 4 columns]"
      ]
     },
     "execution_count": 96,
     "metadata": {},
     "output_type": "execute_result"
    }
   ],
   "source": [
    "df_sp500['Cumulative_Percent_Change'] = ((1 + df_sp500['SP500_Price'].pct_change().fillna(0)).cumprod() * 100)-100\n",
    "df_sp500"
   ]
  },
  {
   "cell_type": "code",
   "execution_count": 97,
   "metadata": {},
   "outputs": [],
   "source": [
    "# conn.close()"
   ]
  },
  {
   "cell_type": "code",
   "execution_count": 98,
   "metadata": {},
   "outputs": [
    {
     "data": {
      "image/png": "[encoded data removed]",
      "text/plain": [
       "<Figure size 640x480 with 1 Axes>"
      ]
     },
     "metadata": {},
     "output_type": "display_data"
    }
   ],
   "source": [
    "# Create a figure and axis\n",
    "fig, ax = plt.subplots()\n",
    "\n",
    "# Plot the percent change data for the input symbol\n",
    "ax.plot(df_stockdata['Date'], df_stockdata['Cumulative_Percent_Change'], label=symbol)\n",
    "\n",
    "# Plot the percent change data for the S&P 500\n",
    "ax.plot(df_sp500['Date'], df_sp500['Cumulative_Percent_Change'], label='S&P 500')\n",
    "\n",
    "# # Set the x-axis labels to be in the format of \"Month Year\"\n",
    "# ax.xaxis.set_major_locator(YearLocator())\n",
    "# ax.xaxis.set_minor_locator(MonthLocator())\n",
    "# ax.xaxis.set_major_formatter(DateFormatter('%b %Y'))\n",
    "\n",
    "# Set the axis labels and title\n",
    "ax.set_xlabel('Date')\n",
    "ax.set_ylabel('Cumulative_Percent_Change')\n",
    "ax.set_title('Stock vs S&P 500 Cumulative_Percent_Change')\n",
    "\n",
    "# Rotate the x-axis labels for better visibility\n",
    "plt.xticks(rotation=45)\n",
    "\n",
    "# Set the x-axis major locator to show every25 days\n",
    "ax.xaxis.set_major_locator(MultipleLocator(25))\n",
    "\n",
    "# Display the legend\n",
    "ax.legend()\n",
    "\n",
    "# Show the plot\n",
    "plt.show()"
   ]
  },
  {
   "cell_type": "code",
   "execution_count": 99,
   "metadata": {},
   "outputs": [
    {
     "name": "stderr",
     "output_type": "stream",
     "text": [
      "c:\\Users\\pku11\\anaconda3\\envs\\dev\\lib\\site-packages\\matplotlib\\animation.py:884: UserWarning:\n",
      "\n",
      "Animation was deleted without rendering anything. This is most likely not intended. To prevent deletion, assign the Animation to a variable, e.g. `anim`, that exists until you output the Animation using `plt.show()` or `anim.save()`.\n",
      "\n"
     ]
    },
    {
     "data": {
      "image/png": "[encoded data removed]",
      "text/plain": [
       "<Figure size 640x480 with 1 Axes>"
      ]
     },
     "metadata": {},
     "output_type": "display_data"
    }
   ],
   "source": [
    "# Create a figure and axis\n",
    "fig, ax = plt.subplots()\n",
    "\n",
    "# Initialize the line objects for the plots\n",
    "line_stock, = ax.plot([], [], label=symbol)\n",
    "line_sp500, = ax.plot([], [], label='S&P 500')\n",
    "\n",
    "# Function to update the data in the plots\n",
    "def update(i):\n",
    "    start_idx = max(0, i - 5)\n",
    "    end_idx = i + 1\n",
    "    x_stock = pd.to_datetime(df_stockdata['Date'].iloc[start_idx:end_idx])\n",
    "    y_stock = df_stockdata['Cumulative_Percent_Change'].iloc[start_idx:end_idx]\n",
    "    x_sp500 = pd.to_datetime(df_sp500['Date'].iloc[start_idx:end_idx])\n",
    "    y_sp500 = df_sp500['Cumulative_Percent_Change'].iloc[start_idx:end_idx]\n",
    "\n",
    "    line_stock.set_data(x_stock, y_stock)\n",
    "    line_sp500.set_data(x_sp500, y_sp500)\n",
    "\n",
    "    return line_stock, line_sp500\n",
    "# Create the animation\n",
    "animation = FuncAnimation(fig, update, frames=len(df_stockdata), blit=False)\n",
    "\n",
    "# # Set the x-axis labels to be in the format of \"Month Year\"\n",
    "# ax.xaxis.set_major_locator(YearLocator())\n",
    "# ax.xaxis.set_minor_locator(MonthLocator())\n",
    "# ax.xaxis.set_major_formatter(DateFormatter('%b %Y'))\n",
    "# Set the axis labels and title\n",
    "ax.set_xlabel('Date')\n",
    "ax.set_ylabel('Cumulative Percent Change')\n",
    "ax.set_title('Stock vs S&P 500 Cumulative Percent Change')\n",
    "\n",
    "# Rotate the x-axis labels for better visibility\n",
    "plt.xticks(rotation=45)\n",
    "\n",
    "# # Set the x-axis major locator to show every 5 days\n",
    "# ax.xaxis.set_major_locator(MultipleLocator(5))\n",
    "\n",
    "# Display the legend\n",
    "ax.legend()\n",
    "\n",
    "# Show the animation\n",
    "plt.show()\n",
    "\n"
   ]
  },
  {
   "cell_type": "code",
   "execution_count": 100,
   "metadata": {},
   "outputs": [
    {
     "data": {
      "image/png": "[encoded data removed]",
      "text/plain": [
       "<Figure size 640x480 with 1 Axes>"
      ]
     },
     "metadata": {},
     "output_type": "display_data"
    }
   ],
   "source": [
    "# Combine the percent change data into a single DataFrame\n",
    "df_combined = pd.concat([df_stockdata['Cumulative_Percent_Change'], df_sp500['Cumulative_Percent_Change']], axis=1)\n",
    "df_combined.columns = [symbol, 'S&P 500']\n",
    "\n",
    "# Create a boxplot\n",
    "df_combined.boxplot(grid=False)\n",
    "plt.ylabel('Cumulative_Percent_Change')\n",
    "plt.title(f'Box Plot of Cumulative Percent Change for {symbol} and S&P 500')\n",
    "plt.show()\n"
   ]
  },
  {
   "cell_type": "code",
   "execution_count": 101,
   "metadata": {},
   "outputs": [
    {
     "data": {
      "application/vnd.plotly.v1+json": {
       "config": {
        "plotlyServerURL": "https://plot.ly"
       },
       "data": [
        {
         "mode": "lines",
         "name": "AAPL Cumulative Percent Change",
         "type": "scatter",
         "x": [
          "2020-01-02 00:00:00.000000",
          "2020-01-03 00:00:00.000000",
          "2020-01-06 00:00:00.000000",
          "2020-01-07 00:00:00.000000",
          "2020-01-08 00:00:00.000000",
          "2020-01-09 00:00:00.000000",
          "2020-01-10 00:00:00.000000",
          "2020-01-13 00:00:00.000000",
          "2020-01-14 00:00:00.000000",
          "2020-01-15 00:00:00.000000",
          "2020-01-16 00:00:00.000000",
          "2020-01-17 00:00:00.000000",
          "2020-01-21 00:00:00.000000",
          "2020-01-22 00:00:00.000000",
          "2020-01-23 00:00:00.000000",
          "2020-01-24 00:00:00.000000",
          "2020-01-27 00:00:00.000000",
          "2020-01-28 00:00:00.000000",
          "2020-01-29 00:00:00.000000",
          "2020-01-30 00:00:00.000000",
          "2020-01-31 00:00:00.000000",
          "2020-02-03 00:00:00.000000",
          "2020-02-04 00:00:00.000000",
          "2020-02-05 00:00:00.000000",
          "2020-02-06 00:00:00.000000",
          "2020-02-07 00:00:00.000000",
          "2020-02-10 00:00:00.000000",
          "2020-02-11 00:00:00.000000",
          "2020-02-12 00:00:00.000000",
          "2020-02-13 00:00:00.000000",
          "2020-02-14 00:00:00.000000",
          "2020-02-18 00:00:00.000000",
          "2020-02-19 00:00:00.000000",
          "2020-02-20 00:00:00.000000",
          "2020-02-21 00:00:00.000000",
          "2020-02-24 00:00:00.000000",
          "2020-02-25 00:00:00.000000",
          "2020-02-26 00:00:00.000000",
          "2020-02-27 00:00:00.000000",
          "2020-02-28 00:00:00.000000",
          "2020-03-02 00:00:00.000000",
          "2020-03-03 00:00:00.000000",
          "2020-03-04 00:00:00.000000",
          "2020-03-05 00:00:00.000000",
          "2020-03-06 00:00:00.000000",
          "2020-03-09 00:00:00.000000",
          "2020-03-10 00:00:00.000000",
          "2020-03-11 00:00:00.000000",
          "2020-03-12 00:00:00.000000",
          "2020-03-13 00:00:00.000000",
          "2020-03-16 00:00:00.000000",
          "2020-03-17 00:00:00.000000",
          "2020-03-18 00:00:00.000000",
          "2020-03-19 00:00:00.000000",
          "2020-03-20 00:00:00.000000",
          "2020-03-23 00:00:00.000000",
          "2020-03-24 00:00:00.000000",
          "2020-03-25 00:00:00.000000",
          "2020-03-26 00:00:00.000000",
          "2020-03-27 00:00:00.000000",
          "2020-03-30 00:00:00.000000",
          "2020-03-31 00:00:00.000000",
          "2020-04-01 00:00:00.000000",
          "2020-04-02 00:00:00.000000",
          "2020-04-03 00:00:00.000000",
          "2020-04-06 00:00:00.000000",
          "2020-04-07 00:00:00.000000",
          "2020-04-08 00:00:00.000000",
          "2020-04-09 00:00:00.000000",
          "2020-04-13 00:00:00.000000",
          "2020-04-14 00:00:00.000000",
          "2020-04-15 00:00:00.000000",
          "2020-04-16 00:00:00.000000",
          "2020-04-17 00:00:00.000000",
          "2020-04-20 00:00:00.000000",
          "2020-04-21 00:00:00.000000",
          "2020-04-22 00:00:00.000000",
          "2020-04-23 00:00:00.000000",
          "2020-04-24 00:00:00.000000",
          "2020-04-27 00:00:00.000000",
          "2020-04-28 00:00:00.000000",
          "2020-04-29 00:00:00.000000",
          "2020-04-30 00:00:00.000000",
          "2020-05-01 00:00:00.000000",
          "2020-05-04 00:00:00.000000",
          "2020-05-05 00:00:00.000000",
          "2020-05-06 00:00:00.000000",
          "2020-05-07 00:00:00.000000",
          "2020-05-08 00:00:00.000000",
          "2020-05-11 00:00:00.000000",
          "2020-05-12 00:00:00.000000",
          "2020-05-13 00:00:00.000000",
          "2020-05-14 00:00:00.000000",
          "2020-05-15 00:00:00.000000",
          "2020-05-18 00:00:00.000000",
          "2020-05-19 00:00:00.000000",
          "2020-05-20 00:00:00.000000",
          "2020-05-21 00:00:00.000000",
          "2020-05-22 00:00:00.000000",
          "2020-05-26 00:00:00.000000",
          "2020-05-27 00:00:00.000000",
          "2020-05-28 00:00:00.000000",
          "2020-05-29 00:00:00.000000"
         ],
         "xaxis": "x",
         "y": [
          0,
          -0.9721975616975556,
          -0.18311788973673515,
          -0.6525663184195025,
          0.9455693356339907,
          3.08972756034764,
          3.3227913659981994,
          5.530209619657441,
          4.10520884085895,
          3.6590781020264416,
          4.957548541765377,
          6.119536471468095,
          5.400379025552951,
          5.776608100676512,
          6.286009149622984,
          5.9797023005450995,
          2.863336232965537,
          5.773277002126463,
          7.987347171717431,
          7.830867789212618,
          3.049785221252293,
          2.7667857808562957,
          6.1594890917317855,
          7.025142905669981,
          8.27701909038187,
          6.805249276694127,
          7.3125221237891935,
          6.665065546046733,
          9.19812952647716,
          8.42051335724257,
          8.447223832653037,
          6.461498412433414,
          8.003344669692297,
          6.895353436238949,
          4.475752429877076,
          -0.4868852902285994,
          -3.857597181972835,
          -2.3324269798008572,
          -8.716775504828462,
          -8.770175893312697,
          -0.2766148348417232,
          -3.4437698741409832,
          1.0349538133933578,
          -2.242322820256021,
          -3.540536230785861,
          -11.169728621364158,
          -4.772024858631312,
          -8.079343066241194,
          -17.156936174815158,
          -7.231660734603821,
          -19.16602555014269,
          -15.61174339725369,
          -17.67756425961548,
          -18.30832936051847,
          -23.494561930211177,
          -25.11985529049899,
          -17.607472394291804,
          -18.0613602746552,
          -13.749499949673634,
          -17.32046843881791,
          -14.960966002129595,
          -15.134506983534962,
          -19.599875433364048,
          -18.258265211168464,
          -19.43300693022711,
          -12.404558628928015,
          -13.419104323118148,
          -11.203101293874695,
          -10.562348037905792,
          -8.806889945541613,
          -4.2013583274019055,
          -5.075730572113045,
          -4.321483498570515,
          -5.61971747143707,
          -7.578742697414569,
          -10.43550926379531,
          -7.855737935485834,
          -8.212844037451788,
          -5.562985984402786,
          -5.49623035821331,
          -7.0280627574853725,
          -3.974401535759739,
          -1.9486309647611222,
          -3.5271809930806057,
          -2.162222237529676,
          -0.6937835223919535,
          0.33077602978501375,
          1.3686908196672363,
          3.781444567898504,
          5.414474507380461,
          4.209778604292396,
          2.9515280951946323,
          3.5840050106302783,
          2.9716072170101313,
          5.397747046451727,
          4.788700913718344,
          6.826654669228674,
          6.030203399550643,
          6.712883260109237,
          5.990065718256403,
          6.45185467650775,
          6.4986956795755475,
          6.394979253116389
         ],
         "yaxis": "y"
        },
        {
         "mode": "lines",
         "name": "S&P 500 Cumulative Percent Change",
         "type": "scatter",
         "x": [
          "2020-01-02 00:00:00.000000",
          "2020-01-03 00:00:00.000000",
          "2020-01-06 00:00:00.000000",
          "2020-01-07 00:00:00.000000",
          "2020-01-08 00:00:00.000000",
          "2020-01-09 00:00:00.000000",
          "2020-01-10 00:00:00.000000",
          "2020-01-13 00:00:00.000000",
          "2020-01-14 00:00:00.000000",
          "2020-01-15 00:00:00.000000",
          "2020-01-16 00:00:00.000000",
          "2020-01-17 00:00:00.000000",
          "2020-01-21 00:00:00.000000",
          "2020-01-22 00:00:00.000000",
          "2020-01-23 00:00:00.000000",
          "2020-01-24 00:00:00.000000",
          "2020-01-27 00:00:00.000000",
          "2020-01-28 00:00:00.000000",
          "2020-01-29 00:00:00.000000",
          "2020-01-30 00:00:00.000000",
          "2020-01-31 00:00:00.000000",
          "2020-02-03 00:00:00.000000",
          "2020-02-04 00:00:00.000000",
          "2020-02-05 00:00:00.000000",
          "2020-02-06 00:00:00.000000",
          "2020-02-07 00:00:00.000000",
          "2020-02-10 00:00:00.000000",
          "2020-02-11 00:00:00.000000",
          "2020-02-12 00:00:00.000000",
          "2020-02-13 00:00:00.000000",
          "2020-02-14 00:00:00.000000",
          "2020-02-18 00:00:00.000000",
          "2020-02-19 00:00:00.000000",
          "2020-02-20 00:00:00.000000",
          "2020-02-21 00:00:00.000000",
          "2020-02-24 00:00:00.000000",
          "2020-02-25 00:00:00.000000",
          "2020-02-26 00:00:00.000000",
          "2020-02-27 00:00:00.000000",
          "2020-02-28 00:00:00.000000",
          "2020-03-02 00:00:00.000000",
          "2020-03-03 00:00:00.000000",
          "2020-03-04 00:00:00.000000",
          "2020-03-05 00:00:00.000000",
          "2020-03-06 00:00:00.000000",
          "2020-03-09 00:00:00.000000",
          "2020-03-10 00:00:00.000000",
          "2020-03-11 00:00:00.000000",
          "2020-03-12 00:00:00.000000",
          "2020-03-13 00:00:00.000000",
          "2020-03-16 00:00:00.000000",
          "2020-03-17 00:00:00.000000",
          "2020-03-18 00:00:00.000000",
          "2020-03-19 00:00:00.000000",
          "2020-03-20 00:00:00.000000",
          "2020-03-23 00:00:00.000000",
          "2020-03-24 00:00:00.000000",
          "2020-03-25 00:00:00.000000",
          "2020-03-26 00:00:00.000000",
          "2020-03-27 00:00:00.000000",
          "2020-03-30 00:00:00.000000",
          "2020-03-31 00:00:00.000000",
          "2020-04-01 00:00:00.000000",
          "2020-04-02 00:00:00.000000",
          "2020-04-03 00:00:00.000000",
          "2020-04-06 00:00:00.000000",
          "2020-04-07 00:00:00.000000",
          "2020-04-08 00:00:00.000000",
          "2020-04-09 00:00:00.000000",
          "2020-04-13 00:00:00.000000",
          "2020-04-14 00:00:00.000000",
          "2020-04-15 00:00:00.000000",
          "2020-04-16 00:00:00.000000",
          "2020-04-17 00:00:00.000000",
          "2020-04-20 00:00:00.000000",
          "2020-04-21 00:00:00.000000",
          "2020-04-22 00:00:00.000000",
          "2020-04-23 00:00:00.000000",
          "2020-04-24 00:00:00.000000",
          "2020-04-27 00:00:00.000000",
          "2020-04-28 00:00:00.000000",
          "2020-04-29 00:00:00.000000",
          "2020-04-30 00:00:00.000000",
          "2020-05-01 00:00:00.000000",
          "2020-05-04 00:00:00.000000",
          "2020-05-05 00:00:00.000000",
          "2020-05-06 00:00:00.000000",
          "2020-05-07 00:00:00.000000",
          "2020-05-08 00:00:00.000000",
          "2020-05-11 00:00:00.000000",
          "2020-05-12 00:00:00.000000",
          "2020-05-13 00:00:00.000000",
          "2020-05-14 00:00:00.000000",
          "2020-05-15 00:00:00.000000",
          "2020-05-18 00:00:00.000000",
          "2020-05-19 00:00:00.000000",
          "2020-05-20 00:00:00.000000",
          "2020-05-21 00:00:00.000000",
          "2020-05-22 00:00:00.000000",
          "2020-05-26 00:00:00.000000",
          "2020-05-27 00:00:00.000000",
          "2020-05-28 00:00:00.000000",
          "2020-05-29 00:00:00.000000"
         ],
         "xaxis": "x",
         "y": [
          0,
          -0.7059870773669701,
          -0.3551421950058966,
          -0.6344675169206653,
          -0.14733643353743275,
          0.5172122718971224,
          0.23021317740227687,
          0.9294473348987964,
          0.7765857851036913,
          0.9650536396703728,
          1.8097825252851152,
          2.2029866322882015,
          1.9319489847599272,
          1.9614162714673995,
          2.0777506637813588,
          1.1547492978498184,
          -0.43648418435469694,
          0.56448271099039,
          0.4773086544807228,
          0.7922402811670253,
          -0.9923722700554123,
          -0.27410715656030504,
          1.219822889328853,
          2.358610740212086,
          2.6990192918642464,
          2.144359009776366,
          2.892705311785363,
          3.0664395229982517,
          3.7325229829488364,
          3.5633930352839656,
          3.754316497076246,
          3.451355955614858,
          3.9381800880948816,
          3.541599521156556,
          2.4525377165921896,
          -0.981015086636944,
          -3.9793115091241447,
          -4.342127476710132,
          -8.566692757493456,
          -9.319950273953708,
          -5.145111039489265,
          -7.8112865847108,
          -3.920683886612366,
          -7.179888576822151,
          -8.7628343846402,
          -15.694092729867876,
          -11.529689826112346,
          -15.853093297727057,
          -23.85653114784293,
          -16.784996239851452,
          -26.757524134014773,
          -22.366284512792205,
          -26.390103902880753,
          -26.04355633316453,
          -29.2502724189266,
          -31.32280491735348,
          -24.878984606412217,
          -24.012462206670065,
          -19.269763801279993,
          -21.989348803658885,
          -19.374741010175427,
          -20.66577650904739,
          -24.167779363690784,
          -22.43657626962569,
          -23.610663474377276,
          -18.238101815614613,
          -18.369169851282322,
          -15.589115520972456,
          -14.366223122611572,
          -15.231517718740918,
          -12.639931242997733,
          -14.564513406080735,
          -14.067559893795035,
          -11.765121168869086,
          -13.342848811332672,
          -16.001043633070935,
          -14.074926715471904,
          -14.12127630185556,
          -12.926009484782966,
          -11.644796414813499,
          -12.107985327746874,
          -9.771475052565378,
          -10.602698098439205,
          -13.11110087941438,
          -12.741838942861136,
          -11.952975121629336,
          -12.567490829841816,
          -11.561612720045474,
          -10.069524379575526,
          -10.053562932608969,
          -11.901407369891231,
          -13.439845296744835,
          -12.442254861334973,
          -12.098469849747602,
          -9.329465751953038,
          -10.280092699172826,
          -8.786162653283654,
          -9.495219239682655,
          -9.282195312859756,
          -8.167349632426323,
          -6.805715425817667,
          -7.002164003867605,
          -6.554629586997578
         ],
         "yaxis": "y2"
        }
       ],
       "layout": {
        "template": {
         "data": {
          "bar": [
           {
            "error_x": {
             "color": "#2a3f5f"
            },
            "error_y": {
             "color": "#2a3f5f"
            },
            "marker": {
             "line": {
              "color": "#E5ECF6",
              "width": 0.5
             },
             "pattern": {
              "fillmode": "overlay",
              "size": 10,
              "solidity": 0.2
             }
            },
            "type": "bar"
           }
          ],
          "barpolar": [
           {
            "marker": {
             "line": {
              "color": "#E5ECF6",
              "width": 0.5
             },
             "pattern": {
              "fillmode": "overlay",
              "size": 10,
              "solidity": 0.2
             }
            },
            "type": "barpolar"
           }
          ],
          "carpet": [
           {
            "aaxis": {
             "endlinecolor": "#2a3f5f",
             "gridcolor": "white",
             "linecolor": "white",
             "minorgridcolor": "white",
             "startlinecolor": "#2a3f5f"
            },
            "baxis": {
             "endlinecolor": "#2a3f5f",
             "gridcolor": "white",
             "linecolor": "white",
             "minorgridcolor": "white",
             "startlinecolor": "#2a3f5f"
            },
            "type": "carpet"
           }
          ],
          "choropleth": [
           {
            "colorbar": {
             "outlinewidth": 0,
             "ticks": ""
            },
            "type": "choropleth"
           }
          ],
          "contour": [
           {
            "colorbar": {
             "outlinewidth": 0,
             "ticks": ""
            },
            "colorscale": [
             [
              0,
              "#0d0887"
             ],
             [
              0.1111111111111111,
              "#46039f"
             ],
             [
              0.2222222222222222,
              "#7201a8"
             ],
             [
              0.3333333333333333,
              "#9c179e"
             ],
             [
              0.4444444444444444,
              "#bd3786"
             ],
             [
              0.5555555555555556,
              "#d8576b"
             ],
             [
              0.6666666666666666,
              "#ed7953"
             ],
             [
              0.7777777777777778,
              "#fb9f3a"
             ],
             [
              0.8888888888888888,
              "#fdca26"
             ],
             [
              1,
              "#f0f921"
             ]
            ],
            "type": "contour"
           }
          ],
          "contourcarpet": [
           {
            "colorbar": {
             "outlinewidth": 0,
             "ticks": ""
            },
            "type": "contourcarpet"
           }
          ],
          "heatmap": [
           {
            "colorbar": {
             "outlinewidth": 0,
             "ticks": ""
            },
            "colorscale": [
             [
              0,
              "#0d0887"
             ],
             [
              0.1111111111111111,
              "#46039f"
             ],
             [
              0.2222222222222222,
              "#7201a8"
             ],
             [
              0.3333333333333333,
              "#9c179e"
             ],
             [
              0.4444444444444444,
              "#bd3786"
             ],
             [
              0.5555555555555556,
              "#d8576b"
             ],
             [
              0.6666666666666666,
              "#ed7953"
             ],
             [
              0.7777777777777778,
              "#fb9f3a"
             ],
             [
              0.8888888888888888,
              "#fdca26"
             ],
             [
              1,
              "#f0f921"
             ]
            ],
            "type": "heatmap"
           }
          ],
          "heatmapgl": [
           {
            "colorbar": {
             "outlinewidth": 0,
             "ticks": ""
            },
            "colorscale": [
             [
              0,
              "#0d0887"
             ],
             [
              0.1111111111111111,
              "#46039f"
             ],
             [
              0.2222222222222222,
              "#7201a8"
             ],
             [
              0.3333333333333333,
              "#9c179e"
             ],
             [
              0.4444444444444444,
              "#bd3786"
             ],
             [
              0.5555555555555556,
              "#d8576b"
             ],
             [
              0.6666666666666666,
              "#ed7953"
             ],
             [
              0.7777777777777778,
              "#fb9f3a"
             ],
             [
              0.8888888888888888,
              "#fdca26"
             ],
             [
              1,
              "#f0f921"
             ]
            ],
            "type": "heatmapgl"
           }
          ],
          "histogram": [
           {
            "marker": {
             "pattern": {
              "fillmode": "overlay",
              "size": 10,
              "solidity": 0.2
             }
            },
            "type": "histogram"
           }
          ],
          "histogram2d": [
           {
            "colorbar": {
             "outlinewidth": 0,
             "ticks": ""
            },
            "colorscale": [
             [
              0,
              "#0d0887"
             ],
             [
              0.1111111111111111,
              "#46039f"
             ],
             [
              0.2222222222222222,
              "#7201a8"
             ],
             [
              0.3333333333333333,
              "#9c179e"
             ],
             [
              0.4444444444444444,
              "#bd3786"
             ],
             [
              0.5555555555555556,
              "#d8576b"
             ],
             [
              0.6666666666666666,
              "#ed7953"
             ],
             [
              0.7777777777777778,
              "#fb9f3a"
             ],
             [
              0.8888888888888888,
              "#fdca26"
             ],
             [
              1,
              "#f0f921"
             ]
            ],
            "type": "histogram2d"
           }
          ],
          "histogram2dcontour": [
           {
            "colorbar": {
             "outlinewidth": 0,
             "ticks": ""
            },
            "colorscale": [
             [
              0,
              "#0d0887"
             ],
             [
              0.1111111111111111,
              "#46039f"
             ],
             [
              0.2222222222222222,
              "#7201a8"
             ],
             [
              0.3333333333333333,
              "#9c179e"
             ],
             [
              0.4444444444444444,
              "#bd3786"
             ],
             [
              0.5555555555555556,
              "#d8576b"
             ],
             [
              0.6666666666666666,
              "#ed7953"
             ],
             [
              0.7777777777777778,
              "#fb9f3a"
             ],
             [
              0.8888888888888888,
              "#fdca26"
             ],
             [
              1,
              "#f0f921"
             ]
            ],
            "type": "histogram2dcontour"
           }
          ],
          "mesh3d": [
           {
            "colorbar": {
             "outlinewidth": 0,
             "ticks": ""
            },
            "type": "mesh3d"
           }
          ],
          "parcoords": [
           {
            "line": {
             "colorbar": {
              "outlinewidth": 0,
              "ticks": ""
             }
            },
            "type": "parcoords"
           }
          ],
          "pie": [
           {
            "automargin": true,
            "type": "pie"
           }
          ],
          "scatter": [
           {
            "fillpattern": {
             "fillmode": "overlay",
             "size": 10,
             "solidity": 0.2
            },
            "type": "scatter"
           }
          ],
          "scatter3d": [
           {
            "line": {
             "colorbar": {
              "outlinewidth": 0,
              "ticks": ""
             }
            },
            "marker": {
             "colorbar": {
              "outlinewidth": 0,
              "ticks": ""
             }
            },
            "type": "scatter3d"
           }
          ],
          "scattercarpet": [
           {
            "marker": {
             "colorbar": {
              "outlinewidth": 0,
              "ticks": ""
             }
            },
            "type": "scattercarpet"
           }
          ],
          "scattergeo": [
           {
            "marker": {
             "colorbar": {
              "outlinewidth": 0,
              "ticks": ""
             }
            },
            "type": "scattergeo"
           }
          ],
          "scattergl": [
           {
            "marker": {
             "colorbar": {
              "outlinewidth": 0,
              "ticks": ""
             }
            },
            "type": "scattergl"
           }
          ],
          "scattermapbox": [
           {
            "marker": {
             "colorbar": {
              "outlinewidth": 0,
              "ticks": ""
             }
            },
            "type": "scattermapbox"
           }
          ],
          "scatterpolar": [
           {
            "marker": {
             "colorbar": {
              "outlinewidth": 0,
              "ticks": ""
             }
            },
            "type": "scatterpolar"
           }
          ],
          "scatterpolargl": [
           {
            "marker": {
             "colorbar": {
              "outlinewidth": 0,
              "ticks": ""
             }
            },
            "type": "scatterpolargl"
           }
          ],
          "scatterternary": [
           {
            "marker": {
             "colorbar": {
              "outlinewidth": 0,
              "ticks": ""
             }
            },
            "type": "scatterternary"
           }
          ],
          "surface": [
           {
            "colorbar": {
             "outlinewidth": 0,
             "ticks": ""
            },
            "colorscale": [
             [
              0,
              "#0d0887"
             ],
             [
              0.1111111111111111,
              "#46039f"
             ],
             [
              0.2222222222222222,
              "#7201a8"
             ],
             [
              0.3333333333333333,
              "#9c179e"
             ],
             [
              0.4444444444444444,
              "#bd3786"
             ],
             [
              0.5555555555555556,
              "#d8576b"
             ],
             [
              0.6666666666666666,
              "#ed7953"
             ],
             [
              0.7777777777777778,
              "#fb9f3a"
             ],
             [
              0.8888888888888888,
              "#fdca26"
             ],
             [
              1,
              "#f0f921"
             ]
            ],
            "type": "surface"
           }
          ],
          "table": [
           {
            "cells": {
             "fill": {
              "color": "#EBF0F8"
             },
             "line": {
              "color": "white"
             }
            },
            "header": {
             "fill": {
              "color": "#C8D4E3"
             },
             "line": {
              "color": "white"
             }
            },
            "type": "table"
           }
          ]
         },
         "layout": {
          "annotationdefaults": {
           "arrowcolor": "#2a3f5f",
           "arrowhead": 0,
           "arrowwidth": 1
          },
          "autotypenumbers": "strict",
          "coloraxis": {
           "colorbar": {
            "outlinewidth": 0,
            "ticks": ""
           }
          },
          "colorscale": {
           "diverging": [
            [
             0,
             "#8e0152"
            ],
            [
             0.1,
             "#c51b7d"
            ],
            [
             0.2,
             "#de77ae"
            ],
            [
             0.3,
             "#f1b6da"
            ],
            [
             0.4,
             "#fde0ef"
            ],
            [
             0.5,
             "#f7f7f7"
            ],
            [
             0.6,
             "#e6f5d0"
            ],
            [
             0.7,
             "#b8e186"
            ],
            [
             0.8,
             "#7fbc41"
            ],
            [
             0.9,
             "#4d9221"
            ],
            [
             1,
             "#276419"
            ]
           ],
           "sequential": [
            [
             0,
             "#0d0887"
            ],
            [
             0.1111111111111111,
             "#46039f"
            ],
            [
             0.2222222222222222,
             "#7201a8"
            ],
            [
             0.3333333333333333,
             "#9c179e"
            ],
            [
             0.4444444444444444,
             "#bd3786"
            ],
            [
             0.5555555555555556,
             "#d8576b"
            ],
            [
             0.6666666666666666,
             "#ed7953"
            ],
            [
             0.7777777777777778,
             "#fb9f3a"
            ],
            [
             0.8888888888888888,
             "#fdca26"
            ],
            [
             1,
             "#f0f921"
            ]
           ],
           "sequentialminus": [
            [
             0,
             "#0d0887"
            ],
            [
             0.1111111111111111,
             "#46039f"
            ],
            [
             0.2222222222222222,
             "#7201a8"
            ],
            [
             0.3333333333333333,
             "#9c179e"
            ],
            [
             0.4444444444444444,
             "#bd3786"
            ],
            [
             0.5555555555555556,
             "#d8576b"
            ],
            [
             0.6666666666666666,
             "#ed7953"
            ],
            [
             0.7777777777777778,
             "#fb9f3a"
            ],
            [
             0.8888888888888888,
             "#fdca26"
            ],
            [
             1,
             "#f0f921"
            ]
           ]
          },
          "colorway": [
           "#636efa",
           "#EF553B",
           "#00cc96",
           "#ab63fa",
           "#FFA15A",
           "#19d3f3",
           "#FF6692",
           "#B6E880",
           "#FF97FF",
           "#FECB52"
          ],
          "font": {
           "color": "#2a3f5f"
          },
          "geo": {
           "bgcolor": "white",
           "lakecolor": "white",
           "landcolor": "#E5ECF6",
           "showlakes": true,
           "showland": true,
           "subunitcolor": "white"
          },
          "hoverlabel": {
           "align": "left"
          },
          "hovermode": "closest",
          "mapbox": {
           "style": "light"
          },
          "paper_bgcolor": "white",
          "plot_bgcolor": "#E5ECF6",
          "polar": {
           "angularaxis": {
            "gridcolor": "white",
            "linecolor": "white",
            "ticks": ""
           },
           "bgcolor": "#E5ECF6",
           "radialaxis": {
            "gridcolor": "white",
            "linecolor": "white",
            "ticks": ""
           }
          },
          "scene": {
           "xaxis": {
            "backgroundcolor": "#E5ECF6",
            "gridcolor": "white",
            "gridwidth": 2,
            "linecolor": "white",
            "showbackground": true,
            "ticks": "",
            "zerolinecolor": "white"
           },
           "yaxis": {
            "backgroundcolor": "#E5ECF6",
            "gridcolor": "white",
            "gridwidth": 2,
            "linecolor": "white",
            "showbackground": true,
            "ticks": "",
            "zerolinecolor": "white"
           },
           "zaxis": {
            "backgroundcolor": "#E5ECF6",
            "gridcolor": "white",
            "gridwidth": 2,
            "linecolor": "white",
            "showbackground": true,
            "ticks": "",
            "zerolinecolor": "white"
           }
          },
          "shapedefaults": {
           "line": {
            "color": "#2a3f5f"
           }
          },
          "ternary": {
           "aaxis": {
            "gridcolor": "white",
            "linecolor": "white",
            "ticks": ""
           },
           "baxis": {
            "gridcolor": "white",
            "linecolor": "white",
            "ticks": ""
           },
           "bgcolor": "#E5ECF6",
           "caxis": {
            "gridcolor": "white",
            "linecolor": "white",
            "ticks": ""
           }
          },
          "title": {
           "x": 0.05
          },
          "xaxis": {
           "automargin": true,
           "gridcolor": "white",
           "linecolor": "white",
           "ticks": "",
           "title": {
            "standoff": 15
           },
           "zerolinecolor": "white",
           "zerolinewidth": 2
          },
          "yaxis": {
           "automargin": true,
           "gridcolor": "white",
           "linecolor": "white",
           "ticks": "",
           "title": {
            "standoff": 15
           },
           "zerolinecolor": "white",
           "zerolinewidth": 2
          }
         }
        },
        "xaxis": {
         "anchor": "y",
         "domain": [
          0,
          0.94
         ]
        },
        "yaxis": {
         "anchor": "x",
         "domain": [
          0,
          1
         ]
        },
        "yaxis2": {
         "anchor": "x",
         "overlaying": "y",
         "side": "right"
        }
       }
      }
     },
     "metadata": {},
     "output_type": "display_data"
    }
   ],
   "source": [
    "# Create a Plotly figure\n",
    "fig = make_subplots(specs=[[{\"secondary_y\": True}]])\n",
    "\n",
    "# Add traces for the stock and SP500\n",
    "fig.add_trace(\n",
    "    go.Scatter(x=df_stockdata['Date'], y=df_stockdata['Cumulative_Percent_Change'], name=f\"{symbol} Cumulative Percent Change\", mode='lines'),\n",
    "    secondary_y=False,\n",
    ")\n",
    "\n",
    "fig.add_trace(\n",
    "    go.Scatter(x=df_sp500['Date'], y=df_sp500['Cumulative_Percent_Change'], name=\"S&P 500 Cumulative Percent Change\", mode='lines'),\n",
    "    secondary_y=True,\n",
    ")\n"
   ]
  },
  {
   "cell_type": "code",
   "execution_count": 102,
   "metadata": {},
   "outputs": [],
   "source": [
    "# Create a Plotly figure\n",
    "fig = make_subplots(specs=[[{\"secondary_y\": True}]])\n"
   ]
  },
  {
   "cell_type": "code",
   "execution_count": 103,
   "metadata": {},
   "outputs": [
    {
     "data": {
      "application/vnd.plotly.v1+json": {
       "config": {
        "plotlyServerURL": "https://plot.ly"
       },
       "data": [],
       "layout": {
        "template": {
         "data": {
          "bar": [
           {
            "error_x": {
             "color": "#2a3f5f"
            },
            "error_y": {
             "color": "#2a3f5f"
            },
            "marker": {
             "line": {
              "color": "#E5ECF6",
              "width": 0.5
             },
             "pattern": {
              "fillmode": "overlay",
              "size": 10,
              "solidity": 0.2
             }
            },
            "type": "bar"
           }
          ],
          "barpolar": [
           {
            "marker": {
             "line": {
              "color": "#E5ECF6",
              "width": 0.5
             },
             "pattern": {
              "fillmode": "overlay",
              "size": 10,
              "solidity": 0.2
             }
            },
            "type": "barpolar"
           }
          ],
          "carpet": [
           {
            "aaxis": {
             "endlinecolor": "#2a3f5f",
             "gridcolor": "white",
             "linecolor": "white",
             "minorgridcolor": "white",
             "startlinecolor": "#2a3f5f"
            },
            "baxis": {
             "endlinecolor": "#2a3f5f",
             "gridcolor": "white",
             "linecolor": "white",
             "minorgridcolor": "white",
             "startlinecolor": "#2a3f5f"
            },
            "type": "carpet"
           }
          ],
          "choropleth": [
           {
            "colorbar": {
             "outlinewidth": 0,
             "ticks": ""
            },
            "type": "choropleth"
           }
          ],
          "contour": [
           {
            "colorbar": {
             "outlinewidth": 0,
             "ticks": ""
            },
            "colorscale": [
             [
              0,
              "#0d0887"
             ],
             [
              0.1111111111111111,
              "#46039f"
             ],
             [
              0.2222222222222222,
              "#7201a8"
             ],
             [
              0.3333333333333333,
              "#9c179e"
             ],
             [
              0.4444444444444444,
              "#bd3786"
             ],
             [
              0.5555555555555556,
              "#d8576b"
             ],
             [
              0.6666666666666666,
              "#ed7953"
             ],
             [
              0.7777777777777778,
              "#fb9f3a"
             ],
             [
              0.8888888888888888,
              "#fdca26"
             ],
             [
              1,
              "#f0f921"
             ]
            ],
            "type": "contour"
           }
          ],
          "contourcarpet": [
           {
            "colorbar": {
             "outlinewidth": 0,
             "ticks": ""
            },
            "type": "contourcarpet"
           }
          ],
          "heatmap": [
           {
            "colorbar": {
             "outlinewidth": 0,
             "ticks": ""
            },
            "colorscale": [
             [
              0,
              "#0d0887"
             ],
             [
              0.1111111111111111,
              "#46039f"
             ],
             [
              0.2222222222222222,
              "#7201a8"
             ],
             [
              0.3333333333333333,
              "#9c179e"
             ],
             [
              0.4444444444444444,
              "#bd3786"
             ],
             [
              0.5555555555555556,
              "#d8576b"
             ],
             [
              0.6666666666666666,
              "#ed7953"
             ],
             [
              0.7777777777777778,
              "#fb9f3a"
             ],
             [
              0.8888888888888888,
              "#fdca26"
             ],
             [
              1,
              "#f0f921"
             ]
            ],
            "type": "heatmap"
           }
          ],
          "heatmapgl": [
           {
            "colorbar": {
             "outlinewidth": 0,
             "ticks": ""
            },
            "colorscale": [
             [
              0,
              "#0d0887"
             ],
             [
              0.1111111111111111,
              "#46039f"
             ],
             [
              0.2222222222222222,
              "#7201a8"
             ],
             [
              0.3333333333333333,
              "#9c179e"
             ],
             [
              0.4444444444444444,
              "#bd3786"
             ],
             [
              0.5555555555555556,
              "#d8576b"
             ],
             [
              0.6666666666666666,
              "#ed7953"
             ],
             [
              0.7777777777777778,
              "#fb9f3a"
             ],
             [
              0.8888888888888888,
              "#fdca26"
             ],
             [
              1,
              "#f0f921"
             ]
            ],
            "type": "heatmapgl"
           }
          ],
          "histogram": [
           {
            "marker": {
             "pattern": {
              "fillmode": "overlay",
              "size": 10,
              "solidity": 0.2
             }
            },
            "type": "histogram"
           }
          ],
          "histogram2d": [
           {
            "colorbar": {
             "outlinewidth": 0,
             "ticks": ""
            },
            "colorscale": [
             [
              0,
              "#0d0887"
             ],
             [
              0.1111111111111111,
              "#46039f"
             ],
             [
              0.2222222222222222,
              "#7201a8"
             ],
             [
              0.3333333333333333,
              "#9c179e"
             ],
             [
              0.4444444444444444,
              "#bd3786"
             ],
             [
              0.5555555555555556,
              "#d8576b"
             ],
             [
              0.6666666666666666,
              "#ed7953"
             ],
             [
              0.7777777777777778,
              "#fb9f3a"
             ],
             [
              0.8888888888888888,
              "#fdca26"
             ],
             [
              1,
              "#f0f921"
             ]
            ],
            "type": "histogram2d"
           }
          ],
          "histogram2dcontour": [
           {
            "colorbar": {
             "outlinewidth": 0,
             "ticks": ""
            },
            "colorscale": [
             [
              0,
              "#0d0887"
             ],
             [
              0.1111111111111111,
              "#46039f"
             ],
             [
              0.2222222222222222,
              "#7201a8"
             ],
             [
              0.3333333333333333,
              "#9c179e"
             ],
             [
              0.4444444444444444,
              "#bd3786"
             ],
             [
              0.5555555555555556,
              "#d8576b"
             ],
             [
              0.6666666666666666,
              "#ed7953"
             ],
             [
              0.7777777777777778,
              "#fb9f3a"
             ],
             [
              0.8888888888888888,
              "#fdca26"
             ],
             [
              1,
              "#f0f921"
             ]
            ],
            "type": "histogram2dcontour"
           }
          ],
          "mesh3d": [
           {
            "colorbar": {
             "outlinewidth": 0,
             "ticks": ""
            },
            "type": "mesh3d"
           }
          ],
          "parcoords": [
           {
            "line": {
             "colorbar": {
              "outlinewidth": 0,
              "ticks": ""
             }
            },
            "type": "parcoords"
           }
          ],
          "pie": [
           {
            "automargin": true,
            "type": "pie"
           }
          ],
          "scatter": [
           {
            "fillpattern": {
             "fillmode": "overlay",
             "size": 10,
             "solidity": 0.2
            },
            "type": "scatter"
           }
          ],
          "scatter3d": [
           {
            "line": {
             "colorbar": {
              "outlinewidth": 0,
              "ticks": ""
             }
            },
            "marker": {
             "colorbar": {
              "outlinewidth": 0,
              "ticks": ""
             }
            },
            "type": "scatter3d"
           }
          ],
          "scattercarpet": [
           {
            "marker": {
             "colorbar": {
              "outlinewidth": 0,
              "ticks": ""
             }
            },
            "type": "scattercarpet"
           }
          ],
          "scattergeo": [
           {
            "marker": {
             "colorbar": {
              "outlinewidth": 0,
              "ticks": ""
             }
            },
            "type": "scattergeo"
           }
          ],
          "scattergl": [
           {
            "marker": {
             "colorbar": {
              "outlinewidth": 0,
              "ticks": ""
             }
            },
            "type": "scattergl"
           }
          ],
          "scattermapbox": [
           {
            "marker": {
             "colorbar": {
              "outlinewidth": 0,
              "ticks": ""
             }
            },
            "type": "scattermapbox"
           }
          ],
          "scatterpolar": [
           {
            "marker": {
             "colorbar": {
              "outlinewidth": 0,
              "ticks": ""
             }
            },
            "type": "scatterpolar"
           }
          ],
          "scatterpolargl": [
           {
            "marker": {
             "colorbar": {
              "outlinewidth": 0,
              "ticks": ""
             }
            },
            "type": "scatterpolargl"
           }
          ],
          "scatterternary": [
           {
            "marker": {
             "colorbar": {
              "outlinewidth": 0,
              "ticks": ""
             }
            },
            "type": "scatterternary"
           }
          ],
          "surface": [
           {
            "colorbar": {
             "outlinewidth": 0,
             "ticks": ""
            },
            "colorscale": [
             [
              0,
              "#0d0887"
             ],
             [
              0.1111111111111111,
              "#46039f"
             ],
             [
              0.2222222222222222,
              "#7201a8"
             ],
             [
              0.3333333333333333,
              "#9c179e"
             ],
             [
              0.4444444444444444,
              "#bd3786"
             ],
             [
              0.5555555555555556,
              "#d8576b"
             ],
             [
              0.6666666666666666,
              "#ed7953"
             ],
             [
              0.7777777777777778,
              "#fb9f3a"
             ],
             [
              0.8888888888888888,
              "#fdca26"
             ],
             [
              1,
              "#f0f921"
             ]
            ],
            "type": "surface"
           }
          ],
          "table": [
           {
            "cells": {
             "fill": {
              "color": "#EBF0F8"
             },
             "line": {
              "color": "white"
             }
            },
            "header": {
             "fill": {
              "color": "#C8D4E3"
             },
             "line": {
              "color": "white"
             }
            },
            "type": "table"
           }
          ]
         },
         "layout": {
          "annotationdefaults": {
           "arrowcolor": "#2a3f5f",
           "arrowhead": 0,
           "arrowwidth": 1
          },
          "autotypenumbers": "strict",
          "coloraxis": {
           "colorbar": {
            "outlinewidth": 0,
            "ticks": ""
           }
          },
          "colorscale": {
           "diverging": [
            [
             0,
             "#8e0152"
            ],
            [
             0.1,
             "#c51b7d"
            ],
            [
             0.2,
             "#de77ae"
            ],
            [
             0.3,
             "#f1b6da"
            ],
            [
             0.4,
             "#fde0ef"
            ],
            [
             0.5,
             "#f7f7f7"
            ],
            [
             0.6,
             "#e6f5d0"
            ],
            [
             0.7,
             "#b8e186"
            ],
            [
             0.8,
             "#7fbc41"
            ],
            [
             0.9,
             "#4d9221"
            ],
            [
             1,
             "#276419"
            ]
           ],
           "sequential": [
            [
             0,
             "#0d0887"
            ],
            [
             0.1111111111111111,
             "#46039f"
            ],
            [
             0.2222222222222222,
             "#7201a8"
            ],
            [
             0.3333333333333333,
             "#9c179e"
            ],
            [
             0.4444444444444444,
             "#bd3786"
            ],
            [
             0.5555555555555556,
             "#d8576b"
            ],
            [
             0.6666666666666666,
             "#ed7953"
            ],
            [
             0.7777777777777778,
             "#fb9f3a"
            ],
            [
             0.8888888888888888,
             "#fdca26"
            ],
            [
             1,
             "#f0f921"
            ]
           ],
           "sequentialminus": [
            [
             0,
             "#0d0887"
            ],
            [
             0.1111111111111111,
             "#46039f"
            ],
            [
             0.2222222222222222,
             "#7201a8"
            ],
            [
             0.3333333333333333,
             "#9c179e"
            ],
            [
             0.4444444444444444,
             "#bd3786"
            ],
            [
             0.5555555555555556,
             "#d8576b"
            ],
            [
             0.6666666666666666,
             "#ed7953"
            ],
            [
             0.7777777777777778,
             "#fb9f3a"
            ],
            [
             0.8888888888888888,
             "#fdca26"
            ],
            [
             1,
             "#f0f921"
            ]
           ]
          },
          "colorway": [
           "#636efa",
           "#EF553B",
           "#00cc96",
           "#ab63fa",
           "#FFA15A",
           "#19d3f3",
           "#FF6692",
           "#B6E880",
           "#FF97FF",
           "#FECB52"
          ],
          "font": {
           "color": "#2a3f5f"
          },
          "geo": {
           "bgcolor": "white",
           "lakecolor": "white",
           "landcolor": "#E5ECF6",
           "showlakes": true,
           "showland": true,
           "subunitcolor": "white"
          },
          "hoverlabel": {
           "align": "left"
          },
          "hovermode": "closest",
          "mapbox": {
           "style": "light"
          },
          "paper_bgcolor": "white",
          "plot_bgcolor": "#E5ECF6",
          "polar": {
           "angularaxis": {
            "gridcolor": "white",
            "linecolor": "white",
            "ticks": ""
           },
           "bgcolor": "#E5ECF6",
           "radialaxis": {
            "gridcolor": "white",
            "linecolor": "white",
            "ticks": ""
           }
          },
          "scene": {
           "xaxis": {
            "backgroundcolor": "#E5ECF6",
            "gridcolor": "white",
            "gridwidth": 2,
            "linecolor": "white",
            "showbackground": true,
            "ticks": "",
            "zerolinecolor": "white"
           },
           "yaxis": {
            "backgroundcolor": "#E5ECF6",
            "gridcolor": "white",
            "gridwidth": 2,
            "linecolor": "white",
            "showbackground": true,
            "ticks": "",
            "zerolinecolor": "white"
           },
           "zaxis": {
            "backgroundcolor": "#E5ECF6",
            "gridcolor": "white",
            "gridwidth": 2,
            "linecolor": "white",
            "showbackground": true,
            "ticks": "",
            "zerolinecolor": "white"
           }
          },
          "shapedefaults": {
           "line": {
            "color": "#2a3f5f"
           }
          },
          "ternary": {
           "aaxis": {
            "gridcolor": "white",
            "linecolor": "white",
            "ticks": ""
           },
           "baxis": {
            "gridcolor": "white",
            "linecolor": "white",
            "ticks": ""
           },
           "bgcolor": "#E5ECF6",
           "caxis": {
            "gridcolor": "white",
            "linecolor": "white",
            "ticks": ""
           }
          },
          "title": {
           "x": 0.05
          },
          "xaxis": {
           "automargin": true,
           "gridcolor": "white",
           "linecolor": "white",
           "ticks": "",
           "title": {
            "standoff": 15
           },
           "zerolinecolor": "white",
           "zerolinewidth": 2
          },
          "yaxis": {
           "automargin": true,
           "gridcolor": "white",
           "linecolor": "white",
           "ticks": "",
           "title": {
            "standoff": 15
           },
           "zerolinecolor": "white",
           "zerolinewidth": 2
          }
         }
        },
        "updatemenus": [
         {
          "buttons": [
           {
            "args": [
             {
              "visible": [
               true,
               true
              ]
             },
             {
              "title": "AAPL Cumulative Percent Change compared to S&P 500 from 2020-01-01 to 2020-06-01",
              "xaxis_title": "Date",
              "yaxis2_title": "S&P 500 Cumulative Percent Change",
              "yaxis_title": "AAPL Cumulative Percent Change"
             }
            ],
            "label": "1 Month",
            "method": "update"
           },
           {
            "args": [
             {
              "visible": [
               true,
               true
              ]
             },
             {
              "title": "AAPL Cumulative Percent Change compared to S&P 500 from 2020-01-01 to 2020-06-01",
              "xaxis_title": "Date",
              "yaxis2_title": "S&P 500 Cumulative Percent Change",
              "yaxis_title": "AAPL Cumulative Percent Change"
             }
            ],
            "label": "6 Months",
            "method": "update"
           },
           {
            "args": [
             {
              "visible": [
               true,
               true
              ]
             },
             {
              "title": "AAPL Cumulative Percent Change compared to S&P 500 from 2020-01-01 to 2020-06-01",
              "xaxis_title": "Date",
              "yaxis2_title": "S&P 500 Cumulative Percent Change",
              "yaxis_title": "AAPL Cumulative Percent Change"
             }
            ],
            "label": "1 Year",
            "method": "update"
           },
           {
            "args": [
             {
              "visible": [
               true,
               true
              ]
             },
             {
              "title": "AAPL Cumulative Percent Change compared to S&P 500 from 2020-01-01 to 2020-06-01",
              "xaxis_title": "Date",
              "yaxis2_title": "S&P 500 Cumulative Percent Change",
              "yaxis_title": "AAPL Cumulative Percent Change"
             }
            ],
            "label": "3 Years",
            "method": "update"
           },
           {
            "args": [
             {
              "visible": [
               true,
               true
              ]
             },
             {
              "title": "AAPL Cumulative Percent Change compared to S&P 500 from 2020-01-01 to 2020-06-01",
              "xaxis_title": "Date",
              "yaxis2_title": "S&P 500 Cumulative Percent Change",
              "yaxis_title": "AAPL Cumulative Percent Change"
             }
            ],
            "label": "5 Years",
            "method": "update"
           }
          ],
          "direction": "down",
          "showactive": true,
          "x": 0.1,
          "xanchor": "left",
          "y": 1.1,
          "yanchor": "top"
         }
        ],
        "xaxis": {
         "anchor": "y",
         "domain": [
          0,
          0.94
         ]
        },
        "yaxis": {
         "anchor": "x",
         "domain": [
          0,
          1
         ]
        },
        "yaxis2": {
         "anchor": "x",
         "overlaying": "y",
         "side": "right"
        }
       }
      }
     },
     "metadata": {},
     "output_type": "display_data"
    }
   ],
   "source": [
    "# Add dropdown list for changing time frame\n",
    "fig.update_layout(\n",
    "    updatemenus=[\n",
    "        dict(\n",
    "            buttons=list([\n",
    "                dict(label=\"1 Month\", method=\"update\", args=[{\"visible\": [True, True]}, {\"title\": f'{symbol} Cumulative Percent Change compared to S&P 500 from {start_date_str} to {end_date_str}', \"xaxis_title\": \"Date\", \"yaxis_title\": f'{symbol} Cumulative Percent Change', \"yaxis2_title\": \"S&P 500 Cumulative Percent Change\"}]),\n",
    "                dict(label=\"6 Months\", method=\"update\", args=[{\"visible\": [True, True]}, {\"title\": f'{symbol} Cumulative Percent Change compared to S&P 500 from {start_date_str} to {end_date_str}', \"xaxis_title\": \"Date\", \"yaxis_title\": f'{symbol} Cumulative Percent Change', \"yaxis2_title\": \"S&P 500 Cumulative Percent Change\"}]),\n",
    "                dict(label=\"1 Year\", method=\"update\", args=[{\"visible\": [True, True]}, {\"title\": f'{symbol} Cumulative Percent Change compared to S&P 500 from {start_date_str} to {end_date_str}', \"xaxis_title\": \"Date\", \"yaxis_title\": f'{symbol} Cumulative Percent Change', \"yaxis2_title\": \"S&P 500 Cumulative Percent Change\"}]),\n",
    "                dict(label=\"3 Years\", method=\"update\", args=[{\"visible\": [True, True]}, {\"title\": f'{symbol} Cumulative Percent Change compared to S&P 500 from {start_date_str} to {end_date_str}', \"xaxis_title\": \"Date\", \"yaxis_title\": f'{symbol} Cumulative Percent Change', \"yaxis2_title\": \"S&P 500 Cumulative Percent Change\"}]),\n",
    "                dict(label=\"5 Years\", method=\"update\", args=[{\"visible\": [True, True]}, {\"title\": f'{symbol} Cumulative Percent Change compared to S&P 500 from {start_date_str} to {end_date_str}', \"xaxis_title\": \"Date\", \"yaxis_title\": f'{symbol} Cumulative Percent Change', \"yaxis2_title\": \"S&P 500 Cumulative Percent Change\"}]),\n",
    "            ]),\n",
    "            direction=\"down\",\n",
    "            showactive=True,\n",
    "            x=0.1,\n",
    "            xanchor=\"left\",\n",
    "            y=1.1,\n",
    "            yanchor=\"top\"\n",
    "        ),\n",
    "    ]\n",
    ")\n"
   ]
  },
  {
   "cell_type": "code",
   "execution_count": 104,
   "metadata": {},
   "outputs": [
    {
     "ename": "SyntaxError",
     "evalue": "incomplete input (3401536709.py, line 24)",
     "output_type": "error",
     "traceback": [
      "\u001b[1;36m  Cell \u001b[1;32mIn[104], line 24\u001b[1;36m\u001b[0m\n\u001b[1;33m    )\u001b[0m\n\u001b[1;37m     ^\u001b[0m\n\u001b[1;31mSyntaxError\u001b[0m\u001b[1;31m:\u001b[0m incomplete input\n"
     ]
    }
   ],
   "source": [
    "# Add input box for updating stock symbol\n",
    "fig.update_layout(\n",
    "    annotations=[\n",
    "        dict(\n",
    "            text=\"Enter Stock Symbol:\",\n",
    "            x=0,\n",
    "            xref=\"paper\",\n",
    "            y=1.05,\n",
    "            yref=\"paper\",\n",
    "            align=\"left\",\n",
    "            showarrow=False\n",
    "        ),\n",
    "    ]\n",
    ")\n",
    "\n",
    "app.layout = html.Div([\n",
    "    dcc.Graph(id='plot', figure=fig),\n",
    "    dcc.Input(id='stock-symbol', value=symbol, type='text', debounce=True),\n",
    "])\n",
    "\n",
    "@app.callback(\n",
    "    Output('plot', 'figure'),\n",
    "    [Input('stock-symbol', 'value')]\n",
    "    )"
   ]
  },
  {
   "cell_type": "code",
   "execution_count": null,
   "metadata": {},
   "outputs": [],
   "source": [
    " "
   ]
  }
 ],
 "metadata": {
  "kernelspec": {
   "display_name": "dev",
   "language": "python",
   "name": "python3"
  },
  "language_info": {
   "codemirror_mode": {
    "name": "ipython",
    "version": 3
   },
   "file_extension": ".py",
   "mimetype": "text/x-python",
   "name": "python",
   "nbconvert_exporter": "python",
   "pygments_lexer": "ipython3",
   "version": "3.10.13"
  }
 },
 "nbformat": 4,
 "nbformat_minor": 2
}
